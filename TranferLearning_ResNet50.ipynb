{
 "cells": [
  {
   "cell_type": "markdown",
   "metadata": {},
   "source": [
    "- Transfer learning, only retrained MLP\n",
    "- Data Augmentation\n",
    "- Train/test -> "
   ]
  },
  {
   "cell_type": "code",
   "execution_count": 1,
   "metadata": {},
   "outputs": [
    {
     "name": "stderr",
     "output_type": "stream",
     "text": [
      "Using TensorFlow backend.\n",
      "/home/sol/.virtualenvs/maskrcnn/lib/python3.6/site-packages/tensorflow/python/framework/dtypes.py:516: FutureWarning: Passing (type, 1) or '1type' as a synonym of type is deprecated; in a future version of numpy, it will be understood as (type, (1,)) / '(1,)type'.\n",
      "  _np_qint8 = np.dtype([(\"qint8\", np.int8, 1)])\n",
      "/home/sol/.virtualenvs/maskrcnn/lib/python3.6/site-packages/tensorflow/python/framework/dtypes.py:517: FutureWarning: Passing (type, 1) or '1type' as a synonym of type is deprecated; in a future version of numpy, it will be understood as (type, (1,)) / '(1,)type'.\n",
      "  _np_quint8 = np.dtype([(\"quint8\", np.uint8, 1)])\n",
      "/home/sol/.virtualenvs/maskrcnn/lib/python3.6/site-packages/tensorflow/python/framework/dtypes.py:518: FutureWarning: Passing (type, 1) or '1type' as a synonym of type is deprecated; in a future version of numpy, it will be understood as (type, (1,)) / '(1,)type'.\n",
      "  _np_qint16 = np.dtype([(\"qint16\", np.int16, 1)])\n",
      "/home/sol/.virtualenvs/maskrcnn/lib/python3.6/site-packages/tensorflow/python/framework/dtypes.py:519: FutureWarning: Passing (type, 1) or '1type' as a synonym of type is deprecated; in a future version of numpy, it will be understood as (type, (1,)) / '(1,)type'.\n",
      "  _np_quint16 = np.dtype([(\"quint16\", np.uint16, 1)])\n",
      "/home/sol/.virtualenvs/maskrcnn/lib/python3.6/site-packages/tensorflow/python/framework/dtypes.py:520: FutureWarning: Passing (type, 1) or '1type' as a synonym of type is deprecated; in a future version of numpy, it will be understood as (type, (1,)) / '(1,)type'.\n",
      "  _np_qint32 = np.dtype([(\"qint32\", np.int32, 1)])\n",
      "/home/sol/.virtualenvs/maskrcnn/lib/python3.6/site-packages/tensorflow/python/framework/dtypes.py:525: FutureWarning: Passing (type, 1) or '1type' as a synonym of type is deprecated; in a future version of numpy, it will be understood as (type, (1,)) / '(1,)type'.\n",
      "  np_resource = np.dtype([(\"resource\", np.ubyte, 1)])\n",
      "/home/sol/.virtualenvs/maskrcnn/lib/python3.6/site-packages/tensorboard/compat/tensorflow_stub/dtypes.py:541: FutureWarning: Passing (type, 1) or '1type' as a synonym of type is deprecated; in a future version of numpy, it will be understood as (type, (1,)) / '(1,)type'.\n",
      "  _np_qint8 = np.dtype([(\"qint8\", np.int8, 1)])\n",
      "/home/sol/.virtualenvs/maskrcnn/lib/python3.6/site-packages/tensorboard/compat/tensorflow_stub/dtypes.py:542: FutureWarning: Passing (type, 1) or '1type' as a synonym of type is deprecated; in a future version of numpy, it will be understood as (type, (1,)) / '(1,)type'.\n",
      "  _np_quint8 = np.dtype([(\"quint8\", np.uint8, 1)])\n",
      "/home/sol/.virtualenvs/maskrcnn/lib/python3.6/site-packages/tensorboard/compat/tensorflow_stub/dtypes.py:543: FutureWarning: Passing (type, 1) or '1type' as a synonym of type is deprecated; in a future version of numpy, it will be understood as (type, (1,)) / '(1,)type'.\n",
      "  _np_qint16 = np.dtype([(\"qint16\", np.int16, 1)])\n",
      "/home/sol/.virtualenvs/maskrcnn/lib/python3.6/site-packages/tensorboard/compat/tensorflow_stub/dtypes.py:544: FutureWarning: Passing (type, 1) or '1type' as a synonym of type is deprecated; in a future version of numpy, it will be understood as (type, (1,)) / '(1,)type'.\n",
      "  _np_quint16 = np.dtype([(\"quint16\", np.uint16, 1)])\n",
      "/home/sol/.virtualenvs/maskrcnn/lib/python3.6/site-packages/tensorboard/compat/tensorflow_stub/dtypes.py:545: FutureWarning: Passing (type, 1) or '1type' as a synonym of type is deprecated; in a future version of numpy, it will be understood as (type, (1,)) / '(1,)type'.\n",
      "  _np_qint32 = np.dtype([(\"qint32\", np.int32, 1)])\n",
      "/home/sol/.virtualenvs/maskrcnn/lib/python3.6/site-packages/tensorboard/compat/tensorflow_stub/dtypes.py:550: FutureWarning: Passing (type, 1) or '1type' as a synonym of type is deprecated; in a future version of numpy, it will be understood as (type, (1,)) / '(1,)type'.\n",
      "  np_resource = np.dtype([(\"resource\", np.ubyte, 1)])\n"
     ]
    }
   ],
   "source": [
    "from keras.applications import ResNet50, MobileNetV2\n",
    "from keras import models\n",
    "from keras import layers\n",
    "from keras import optimizers\n",
    "from keras.applications.resnet50 import preprocess_input\n",
    "#from keras.applications.mobilenet import preprocess_input\n",
    "#keras.applications.resnet_v2.ResNet152V2"
   ]
  },
  {
   "cell_type": "code",
   "execution_count": 2,
   "metadata": {},
   "outputs": [],
   "source": [
    "import os\n",
    "import matplotlib.pyplot as plt\n",
    "import numpy as np \n",
    "import pandas as pd\n",
    "import csv\n",
    "\n",
    "from sklearn.model_selection import train_test_split\n",
    "from glob import glob\n",
    "from keras.preprocessing import image"
   ]
  },
  {
   "cell_type": "markdown",
   "metadata": {},
   "source": [
    "### Settings"
   ]
  },
  {
   "cell_type": "code",
   "execution_count": 3,
   "metadata": {},
   "outputs": [],
   "source": [
    "ROOT_DIR = os.path.abspath(\"../../\")\n",
    "DS_DIR = os.path.join(ROOT_DIR, \"Datasets/awe_cvledb_aug_100/\")\n",
    "\n",
    "CLASSES = 116  # Amount of people in the dataset \n",
    "TRAIN_PERCENTAGE = 75\n",
    "#SAMPLE_PER_PERSON = 0\n",
    "#TRAIN_SIZE = round(SAMPLE_PER_PERSON*(TRAIN_PERCENTAGE/100))\n",
    "\n",
    "#EPHOCS = 15\n",
    "\n",
    "IMAGE_SIZE = 224  #224 ResNet50    #160 MobileNetV2\n",
    "IMG_SHAPE = (IMAGE_SIZE, IMAGE_SIZE, 3)"
   ]
  },
  {
   "cell_type": "markdown",
   "metadata": {},
   "source": [
    "## Build model"
   ]
  },
  {
   "cell_type": "code",
   "execution_count": 4,
   "metadata": {},
   "outputs": [
    {
     "name": "stderr",
     "output_type": "stream",
     "text": [
      "WARNING: Logging before flag parsing goes to stderr.\n",
      "W1016 17:04:09.199522 139666232559424 deprecation_wrapper.py:119] From /home/sol/.virtualenvs/maskrcnn/lib/python3.6/site-packages/keras/backend/tensorflow_backend.py:74: The name tf.get_default_graph is deprecated. Please use tf.compat.v1.get_default_graph instead.\n",
      "\n",
      "W1016 17:04:09.211637 139666232559424 deprecation_wrapper.py:119] From /home/sol/.virtualenvs/maskrcnn/lib/python3.6/site-packages/keras/backend/tensorflow_backend.py:517: The name tf.placeholder is deprecated. Please use tf.compat.v1.placeholder instead.\n",
      "\n",
      "W1016 17:04:09.216642 139666232559424 deprecation_wrapper.py:119] From /home/sol/.virtualenvs/maskrcnn/lib/python3.6/site-packages/keras/backend/tensorflow_backend.py:4185: The name tf.truncated_normal is deprecated. Please use tf.random.truncated_normal instead.\n",
      "\n",
      "W1016 17:04:09.234073 139666232559424 deprecation_wrapper.py:119] From /home/sol/.virtualenvs/maskrcnn/lib/python3.6/site-packages/keras/backend/tensorflow_backend.py:174: The name tf.get_default_session is deprecated. Please use tf.compat.v1.get_default_session instead.\n",
      "\n",
      "W1016 17:04:09.234851 139666232559424 deprecation_wrapper.py:119] From /home/sol/.virtualenvs/maskrcnn/lib/python3.6/site-packages/keras/backend/tensorflow_backend.py:181: The name tf.ConfigProto is deprecated. Please use tf.compat.v1.ConfigProto instead.\n",
      "\n",
      "W1016 17:04:11.948061 139666232559424 deprecation_wrapper.py:119] From /home/sol/.virtualenvs/maskrcnn/lib/python3.6/site-packages/keras/backend/tensorflow_backend.py:1834: The name tf.nn.fused_batch_norm is deprecated. Please use tf.compat.v1.nn.fused_batch_norm instead.\n",
      "\n",
      "W1016 17:04:11.995267 139666232559424 deprecation_wrapper.py:119] From /home/sol/.virtualenvs/maskrcnn/lib/python3.6/site-packages/keras/backend/tensorflow_backend.py:3976: The name tf.nn.max_pool is deprecated. Please use tf.nn.max_pool2d instead.\n",
      "\n",
      "/home/sol/.virtualenvs/maskrcnn/lib/python3.6/site-packages/keras_applications/resnet50.py:265: UserWarning: The output shape of `ResNet50(include_top=False)` has been changed since Keras 2.2.0.\n",
      "  warnings.warn('The output shape of `ResNet50(include_top=False)` '\n"
     ]
    }
   ],
   "source": [
    "#Load the ResNet50 model\n",
    "res_net = ResNet50(weights='imagenet', include_top=False, input_shape=IMG_SHAPE)\n",
    "res_net.trainable = False"
   ]
  },
  {
   "cell_type": "code",
   "execution_count": 5,
   "metadata": {},
   "outputs": [
    {
     "name": "stdout",
     "output_type": "stream",
     "text": [
      "__________________________________________________________________________________________________\n",
      "Layer (type)                    Output Shape         Param #     Connected to                     \n",
      "==================================================================================================\n",
      "input_1 (InputLayer)            (None, 224, 224, 3)  0                                            \n",
      "__________________________________________________________________________________________________\n",
      "conv1_pad (ZeroPadding2D)       (None, 230, 230, 3)  0           input_1[0][0]                    \n",
      "__________________________________________________________________________________________________\n",
      "conv1 (Conv2D)                  (None, 112, 112, 64) 9472        conv1_pad[0][0]                  \n",
      "__________________________________________________________________________________________________\n",
      "bn_conv1 (BatchNormalization)   (None, 112, 112, 64) 256         conv1[0][0]                      \n",
      "__________________________________________________________________________________________________\n",
      "activation_1 (Activation)       (None, 112, 112, 64) 0           bn_conv1[0][0]                   \n",
      "__________________________________________________________________________________________________\n",
      "pool1_pad (ZeroPadding2D)       (None, 114, 114, 64) 0           activation_1[0][0]               \n",
      "__________________________________________________________________________________________________\n",
      "max_pooling2d_1 (MaxPooling2D)  (None, 56, 56, 64)   0           pool1_pad[0][0]                  \n",
      "__________________________________________________________________________________________________\n",
      "res2a_branch2a (Conv2D)         (None, 56, 56, 64)   4160        max_pooling2d_1[0][0]            \n",
      "__________________________________________________________________________________________________\n",
      "bn2a_branch2a (BatchNormalizati (None, 56, 56, 64)   256         res2a_branch2a[0][0]             \n",
      "__________________________________________________________________________________________________\n",
      "activation_2 (Activation)       (None, 56, 56, 64)   0           bn2a_branch2a[0][0]              \n",
      "__________________________________________________________________________________________________\n",
      "res2a_branch2b (Conv2D)         (None, 56, 56, 64)   36928       activation_2[0][0]               \n",
      "__________________________________________________________________________________________________\n",
      "bn2a_branch2b (BatchNormalizati (None, 56, 56, 64)   256         res2a_branch2b[0][0]             \n",
      "__________________________________________________________________________________________________\n",
      "activation_3 (Activation)       (None, 56, 56, 64)   0           bn2a_branch2b[0][0]              \n",
      "__________________________________________________________________________________________________\n",
      "res2a_branch2c (Conv2D)         (None, 56, 56, 256)  16640       activation_3[0][0]               \n",
      "__________________________________________________________________________________________________\n",
      "res2a_branch1 (Conv2D)          (None, 56, 56, 256)  16640       max_pooling2d_1[0][0]            \n",
      "__________________________________________________________________________________________________\n",
      "bn2a_branch2c (BatchNormalizati (None, 56, 56, 256)  1024        res2a_branch2c[0][0]             \n",
      "__________________________________________________________________________________________________\n",
      "bn2a_branch1 (BatchNormalizatio (None, 56, 56, 256)  1024        res2a_branch1[0][0]              \n",
      "__________________________________________________________________________________________________\n",
      "add_1 (Add)                     (None, 56, 56, 256)  0           bn2a_branch2c[0][0]              \n",
      "                                                                 bn2a_branch1[0][0]               \n",
      "__________________________________________________________________________________________________\n",
      "activation_4 (Activation)       (None, 56, 56, 256)  0           add_1[0][0]                      \n",
      "__________________________________________________________________________________________________\n",
      "res2b_branch2a (Conv2D)         (None, 56, 56, 64)   16448       activation_4[0][0]               \n",
      "__________________________________________________________________________________________________\n",
      "bn2b_branch2a (BatchNormalizati (None, 56, 56, 64)   256         res2b_branch2a[0][0]             \n",
      "__________________________________________________________________________________________________\n",
      "activation_5 (Activation)       (None, 56, 56, 64)   0           bn2b_branch2a[0][0]              \n",
      "__________________________________________________________________________________________________\n",
      "res2b_branch2b (Conv2D)         (None, 56, 56, 64)   36928       activation_5[0][0]               \n",
      "__________________________________________________________________________________________________\n",
      "bn2b_branch2b (BatchNormalizati (None, 56, 56, 64)   256         res2b_branch2b[0][0]             \n",
      "__________________________________________________________________________________________________\n",
      "activation_6 (Activation)       (None, 56, 56, 64)   0           bn2b_branch2b[0][0]              \n",
      "__________________________________________________________________________________________________\n",
      "res2b_branch2c (Conv2D)         (None, 56, 56, 256)  16640       activation_6[0][0]               \n",
      "__________________________________________________________________________________________________\n",
      "bn2b_branch2c (BatchNormalizati (None, 56, 56, 256)  1024        res2b_branch2c[0][0]             \n",
      "__________________________________________________________________________________________________\n",
      "add_2 (Add)                     (None, 56, 56, 256)  0           bn2b_branch2c[0][0]              \n",
      "                                                                 activation_4[0][0]               \n",
      "__________________________________________________________________________________________________\n",
      "activation_7 (Activation)       (None, 56, 56, 256)  0           add_2[0][0]                      \n",
      "__________________________________________________________________________________________________\n",
      "res2c_branch2a (Conv2D)         (None, 56, 56, 64)   16448       activation_7[0][0]               \n",
      "__________________________________________________________________________________________________\n",
      "bn2c_branch2a (BatchNormalizati (None, 56, 56, 64)   256         res2c_branch2a[0][0]             \n",
      "__________________________________________________________________________________________________\n",
      "activation_8 (Activation)       (None, 56, 56, 64)   0           bn2c_branch2a[0][0]              \n",
      "__________________________________________________________________________________________________\n",
      "res2c_branch2b (Conv2D)         (None, 56, 56, 64)   36928       activation_8[0][0]               \n",
      "__________________________________________________________________________________________________\n",
      "bn2c_branch2b (BatchNormalizati (None, 56, 56, 64)   256         res2c_branch2b[0][0]             \n",
      "__________________________________________________________________________________________________\n",
      "activation_9 (Activation)       (None, 56, 56, 64)   0           bn2c_branch2b[0][0]              \n",
      "__________________________________________________________________________________________________\n",
      "res2c_branch2c (Conv2D)         (None, 56, 56, 256)  16640       activation_9[0][0]               \n",
      "__________________________________________________________________________________________________\n",
      "bn2c_branch2c (BatchNormalizati (None, 56, 56, 256)  1024        res2c_branch2c[0][0]             \n",
      "__________________________________________________________________________________________________\n",
      "add_3 (Add)                     (None, 56, 56, 256)  0           bn2c_branch2c[0][0]              \n",
      "                                                                 activation_7[0][0]               \n",
      "__________________________________________________________________________________________________\n",
      "activation_10 (Activation)      (None, 56, 56, 256)  0           add_3[0][0]                      \n",
      "__________________________________________________________________________________________________\n",
      "res3a_branch2a (Conv2D)         (None, 28, 28, 128)  32896       activation_10[0][0]              \n",
      "__________________________________________________________________________________________________\n",
      "bn3a_branch2a (BatchNormalizati (None, 28, 28, 128)  512         res3a_branch2a[0][0]             \n",
      "__________________________________________________________________________________________________\n",
      "activation_11 (Activation)      (None, 28, 28, 128)  0           bn3a_branch2a[0][0]              \n",
      "__________________________________________________________________________________________________\n",
      "res3a_branch2b (Conv2D)         (None, 28, 28, 128)  147584      activation_11[0][0]              \n",
      "__________________________________________________________________________________________________\n",
      "bn3a_branch2b (BatchNormalizati (None, 28, 28, 128)  512         res3a_branch2b[0][0]             \n",
      "__________________________________________________________________________________________________\n",
      "activation_12 (Activation)      (None, 28, 28, 128)  0           bn3a_branch2b[0][0]              \n",
      "__________________________________________________________________________________________________\n",
      "res3a_branch2c (Conv2D)         (None, 28, 28, 512)  66048       activation_12[0][0]              \n",
      "__________________________________________________________________________________________________\n",
      "res3a_branch1 (Conv2D)          (None, 28, 28, 512)  131584      activation_10[0][0]              \n",
      "__________________________________________________________________________________________________\n",
      "bn3a_branch2c (BatchNormalizati (None, 28, 28, 512)  2048        res3a_branch2c[0][0]             \n",
      "__________________________________________________________________________________________________\n",
      "bn3a_branch1 (BatchNormalizatio (None, 28, 28, 512)  2048        res3a_branch1[0][0]              \n",
      "__________________________________________________________________________________________________\n",
      "add_4 (Add)                     (None, 28, 28, 512)  0           bn3a_branch2c[0][0]              \n",
      "                                                                 bn3a_branch1[0][0]               \n",
      "__________________________________________________________________________________________________\n",
      "activation_13 (Activation)      (None, 28, 28, 512)  0           add_4[0][0]                      \n",
      "__________________________________________________________________________________________________\n",
      "res3b_branch2a (Conv2D)         (None, 28, 28, 128)  65664       activation_13[0][0]              \n",
      "__________________________________________________________________________________________________\n",
      "bn3b_branch2a (BatchNormalizati (None, 28, 28, 128)  512         res3b_branch2a[0][0]             \n",
      "__________________________________________________________________________________________________\n",
      "activation_14 (Activation)      (None, 28, 28, 128)  0           bn3b_branch2a[0][0]              \n",
      "__________________________________________________________________________________________________\n",
      "res3b_branch2b (Conv2D)         (None, 28, 28, 128)  147584      activation_14[0][0]              \n",
      "__________________________________________________________________________________________________\n",
      "bn3b_branch2b (BatchNormalizati (None, 28, 28, 128)  512         res3b_branch2b[0][0]             \n",
      "__________________________________________________________________________________________________\n",
      "activation_15 (Activation)      (None, 28, 28, 128)  0           bn3b_branch2b[0][0]              \n",
      "__________________________________________________________________________________________________\n",
      "res3b_branch2c (Conv2D)         (None, 28, 28, 512)  66048       activation_15[0][0]              \n",
      "__________________________________________________________________________________________________\n",
      "bn3b_branch2c (BatchNormalizati (None, 28, 28, 512)  2048        res3b_branch2c[0][0]             \n",
      "__________________________________________________________________________________________________\n",
      "add_5 (Add)                     (None, 28, 28, 512)  0           bn3b_branch2c[0][0]              \n",
      "                                                                 activation_13[0][0]              \n",
      "__________________________________________________________________________________________________\n",
      "activation_16 (Activation)      (None, 28, 28, 512)  0           add_5[0][0]                      \n",
      "__________________________________________________________________________________________________\n",
      "res3c_branch2a (Conv2D)         (None, 28, 28, 128)  65664       activation_16[0][0]              \n",
      "__________________________________________________________________________________________________\n",
      "bn3c_branch2a (BatchNormalizati (None, 28, 28, 128)  512         res3c_branch2a[0][0]             \n",
      "__________________________________________________________________________________________________\n",
      "activation_17 (Activation)      (None, 28, 28, 128)  0           bn3c_branch2a[0][0]              \n",
      "__________________________________________________________________________________________________\n",
      "res3c_branch2b (Conv2D)         (None, 28, 28, 128)  147584      activation_17[0][0]              \n",
      "__________________________________________________________________________________________________\n",
      "bn3c_branch2b (BatchNormalizati (None, 28, 28, 128)  512         res3c_branch2b[0][0]             \n",
      "__________________________________________________________________________________________________\n",
      "activation_18 (Activation)      (None, 28, 28, 128)  0           bn3c_branch2b[0][0]              \n",
      "__________________________________________________________________________________________________\n",
      "res3c_branch2c (Conv2D)         (None, 28, 28, 512)  66048       activation_18[0][0]              \n",
      "__________________________________________________________________________________________________\n",
      "bn3c_branch2c (BatchNormalizati (None, 28, 28, 512)  2048        res3c_branch2c[0][0]             \n",
      "__________________________________________________________________________________________________\n",
      "add_6 (Add)                     (None, 28, 28, 512)  0           bn3c_branch2c[0][0]              \n",
      "                                                                 activation_16[0][0]              \n",
      "__________________________________________________________________________________________________\n",
      "activation_19 (Activation)      (None, 28, 28, 512)  0           add_6[0][0]                      \n",
      "__________________________________________________________________________________________________\n",
      "res3d_branch2a (Conv2D)         (None, 28, 28, 128)  65664       activation_19[0][0]              \n",
      "__________________________________________________________________________________________________\n",
      "bn3d_branch2a (BatchNormalizati (None, 28, 28, 128)  512         res3d_branch2a[0][0]             \n",
      "__________________________________________________________________________________________________\n",
      "activation_20 (Activation)      (None, 28, 28, 128)  0           bn3d_branch2a[0][0]              \n",
      "__________________________________________________________________________________________________\n",
      "res3d_branch2b (Conv2D)         (None, 28, 28, 128)  147584      activation_20[0][0]              \n",
      "__________________________________________________________________________________________________\n",
      "bn3d_branch2b (BatchNormalizati (None, 28, 28, 128)  512         res3d_branch2b[0][0]             \n",
      "__________________________________________________________________________________________________\n",
      "activation_21 (Activation)      (None, 28, 28, 128)  0           bn3d_branch2b[0][0]              \n",
      "__________________________________________________________________________________________________\n",
      "res3d_branch2c (Conv2D)         (None, 28, 28, 512)  66048       activation_21[0][0]              \n",
      "__________________________________________________________________________________________________\n",
      "bn3d_branch2c (BatchNormalizati (None, 28, 28, 512)  2048        res3d_branch2c[0][0]             \n",
      "__________________________________________________________________________________________________\n",
      "add_7 (Add)                     (None, 28, 28, 512)  0           bn3d_branch2c[0][0]              \n",
      "                                                                 activation_19[0][0]              \n",
      "__________________________________________________________________________________________________\n",
      "activation_22 (Activation)      (None, 28, 28, 512)  0           add_7[0][0]                      \n",
      "__________________________________________________________________________________________________\n",
      "res4a_branch2a (Conv2D)         (None, 14, 14, 256)  131328      activation_22[0][0]              \n",
      "__________________________________________________________________________________________________\n",
      "bn4a_branch2a (BatchNormalizati (None, 14, 14, 256)  1024        res4a_branch2a[0][0]             \n",
      "__________________________________________________________________________________________________\n",
      "activation_23 (Activation)      (None, 14, 14, 256)  0           bn4a_branch2a[0][0]              \n",
      "__________________________________________________________________________________________________\n",
      "res4a_branch2b (Conv2D)         (None, 14, 14, 256)  590080      activation_23[0][0]              \n",
      "__________________________________________________________________________________________________\n",
      "bn4a_branch2b (BatchNormalizati (None, 14, 14, 256)  1024        res4a_branch2b[0][0]             \n",
      "__________________________________________________________________________________________________\n",
      "activation_24 (Activation)      (None, 14, 14, 256)  0           bn4a_branch2b[0][0]              \n",
      "__________________________________________________________________________________________________\n",
      "res4a_branch2c (Conv2D)         (None, 14, 14, 1024) 263168      activation_24[0][0]              \n",
      "__________________________________________________________________________________________________\n",
      "res4a_branch1 (Conv2D)          (None, 14, 14, 1024) 525312      activation_22[0][0]              \n",
      "__________________________________________________________________________________________________\n",
      "bn4a_branch2c (BatchNormalizati (None, 14, 14, 1024) 4096        res4a_branch2c[0][0]             \n",
      "__________________________________________________________________________________________________\n",
      "bn4a_branch1 (BatchNormalizatio (None, 14, 14, 1024) 4096        res4a_branch1[0][0]              \n",
      "__________________________________________________________________________________________________\n",
      "add_8 (Add)                     (None, 14, 14, 1024) 0           bn4a_branch2c[0][0]              \n",
      "                                                                 bn4a_branch1[0][0]               \n",
      "__________________________________________________________________________________________________\n",
      "activation_25 (Activation)      (None, 14, 14, 1024) 0           add_8[0][0]                      \n",
      "__________________________________________________________________________________________________\n",
      "res4b_branch2a (Conv2D)         (None, 14, 14, 256)  262400      activation_25[0][0]              \n",
      "__________________________________________________________________________________________________\n",
      "bn4b_branch2a (BatchNormalizati (None, 14, 14, 256)  1024        res4b_branch2a[0][0]             \n",
      "__________________________________________________________________________________________________\n",
      "activation_26 (Activation)      (None, 14, 14, 256)  0           bn4b_branch2a[0][0]              \n",
      "__________________________________________________________________________________________________\n",
      "res4b_branch2b (Conv2D)         (None, 14, 14, 256)  590080      activation_26[0][0]              \n",
      "__________________________________________________________________________________________________\n",
      "bn4b_branch2b (BatchNormalizati (None, 14, 14, 256)  1024        res4b_branch2b[0][0]             \n",
      "__________________________________________________________________________________________________\n",
      "activation_27 (Activation)      (None, 14, 14, 256)  0           bn4b_branch2b[0][0]              \n",
      "__________________________________________________________________________________________________\n",
      "res4b_branch2c (Conv2D)         (None, 14, 14, 1024) 263168      activation_27[0][0]              \n",
      "__________________________________________________________________________________________________\n",
      "bn4b_branch2c (BatchNormalizati (None, 14, 14, 1024) 4096        res4b_branch2c[0][0]             \n",
      "__________________________________________________________________________________________________\n",
      "add_9 (Add)                     (None, 14, 14, 1024) 0           bn4b_branch2c[0][0]              \n",
      "                                                                 activation_25[0][0]              \n",
      "__________________________________________________________________________________________________\n",
      "activation_28 (Activation)      (None, 14, 14, 1024) 0           add_9[0][0]                      \n",
      "__________________________________________________________________________________________________\n",
      "res4c_branch2a (Conv2D)         (None, 14, 14, 256)  262400      activation_28[0][0]              \n",
      "__________________________________________________________________________________________________\n",
      "bn4c_branch2a (BatchNormalizati (None, 14, 14, 256)  1024        res4c_branch2a[0][0]             \n",
      "__________________________________________________________________________________________________\n",
      "activation_29 (Activation)      (None, 14, 14, 256)  0           bn4c_branch2a[0][0]              \n",
      "__________________________________________________________________________________________________\n",
      "res4c_branch2b (Conv2D)         (None, 14, 14, 256)  590080      activation_29[0][0]              \n",
      "__________________________________________________________________________________________________\n",
      "bn4c_branch2b (BatchNormalizati (None, 14, 14, 256)  1024        res4c_branch2b[0][0]             \n",
      "__________________________________________________________________________________________________\n",
      "activation_30 (Activation)      (None, 14, 14, 256)  0           bn4c_branch2b[0][0]              \n",
      "__________________________________________________________________________________________________\n",
      "res4c_branch2c (Conv2D)         (None, 14, 14, 1024) 263168      activation_30[0][0]              \n",
      "__________________________________________________________________________________________________\n",
      "bn4c_branch2c (BatchNormalizati (None, 14, 14, 1024) 4096        res4c_branch2c[0][0]             \n",
      "__________________________________________________________________________________________________\n",
      "add_10 (Add)                    (None, 14, 14, 1024) 0           bn4c_branch2c[0][0]              \n",
      "                                                                 activation_28[0][0]              \n",
      "__________________________________________________________________________________________________\n",
      "activation_31 (Activation)      (None, 14, 14, 1024) 0           add_10[0][0]                     \n",
      "__________________________________________________________________________________________________\n",
      "res4d_branch2a (Conv2D)         (None, 14, 14, 256)  262400      activation_31[0][0]              \n",
      "__________________________________________________________________________________________________\n",
      "bn4d_branch2a (BatchNormalizati (None, 14, 14, 256)  1024        res4d_branch2a[0][0]             \n",
      "__________________________________________________________________________________________________\n",
      "activation_32 (Activation)      (None, 14, 14, 256)  0           bn4d_branch2a[0][0]              \n",
      "__________________________________________________________________________________________________\n",
      "res4d_branch2b (Conv2D)         (None, 14, 14, 256)  590080      activation_32[0][0]              \n",
      "__________________________________________________________________________________________________\n",
      "bn4d_branch2b (BatchNormalizati (None, 14, 14, 256)  1024        res4d_branch2b[0][0]             \n",
      "__________________________________________________________________________________________________\n",
      "activation_33 (Activation)      (None, 14, 14, 256)  0           bn4d_branch2b[0][0]              \n",
      "__________________________________________________________________________________________________\n",
      "res4d_branch2c (Conv2D)         (None, 14, 14, 1024) 263168      activation_33[0][0]              \n",
      "__________________________________________________________________________________________________\n",
      "bn4d_branch2c (BatchNormalizati (None, 14, 14, 1024) 4096        res4d_branch2c[0][0]             \n",
      "__________________________________________________________________________________________________\n",
      "add_11 (Add)                    (None, 14, 14, 1024) 0           bn4d_branch2c[0][0]              \n",
      "                                                                 activation_31[0][0]              \n",
      "__________________________________________________________________________________________________\n",
      "activation_34 (Activation)      (None, 14, 14, 1024) 0           add_11[0][0]                     \n",
      "__________________________________________________________________________________________________\n",
      "res4e_branch2a (Conv2D)         (None, 14, 14, 256)  262400      activation_34[0][0]              \n",
      "__________________________________________________________________________________________________\n",
      "bn4e_branch2a (BatchNormalizati (None, 14, 14, 256)  1024        res4e_branch2a[0][0]             \n",
      "__________________________________________________________________________________________________\n",
      "activation_35 (Activation)      (None, 14, 14, 256)  0           bn4e_branch2a[0][0]              \n",
      "__________________________________________________________________________________________________\n",
      "res4e_branch2b (Conv2D)         (None, 14, 14, 256)  590080      activation_35[0][0]              \n",
      "__________________________________________________________________________________________________\n",
      "bn4e_branch2b (BatchNormalizati (None, 14, 14, 256)  1024        res4e_branch2b[0][0]             \n",
      "__________________________________________________________________________________________________\n",
      "activation_36 (Activation)      (None, 14, 14, 256)  0           bn4e_branch2b[0][0]              \n",
      "__________________________________________________________________________________________________\n",
      "res4e_branch2c (Conv2D)         (None, 14, 14, 1024) 263168      activation_36[0][0]              \n",
      "__________________________________________________________________________________________________\n",
      "bn4e_branch2c (BatchNormalizati (None, 14, 14, 1024) 4096        res4e_branch2c[0][0]             \n",
      "__________________________________________________________________________________________________\n",
      "add_12 (Add)                    (None, 14, 14, 1024) 0           bn4e_branch2c[0][0]              \n",
      "                                                                 activation_34[0][0]              \n",
      "__________________________________________________________________________________________________\n",
      "activation_37 (Activation)      (None, 14, 14, 1024) 0           add_12[0][0]                     \n",
      "__________________________________________________________________________________________________\n",
      "res4f_branch2a (Conv2D)         (None, 14, 14, 256)  262400      activation_37[0][0]              \n",
      "__________________________________________________________________________________________________\n",
      "bn4f_branch2a (BatchNormalizati (None, 14, 14, 256)  1024        res4f_branch2a[0][0]             \n",
      "__________________________________________________________________________________________________\n",
      "activation_38 (Activation)      (None, 14, 14, 256)  0           bn4f_branch2a[0][0]              \n",
      "__________________________________________________________________________________________________\n",
      "res4f_branch2b (Conv2D)         (None, 14, 14, 256)  590080      activation_38[0][0]              \n",
      "__________________________________________________________________________________________________\n",
      "bn4f_branch2b (BatchNormalizati (None, 14, 14, 256)  1024        res4f_branch2b[0][0]             \n",
      "__________________________________________________________________________________________________\n",
      "activation_39 (Activation)      (None, 14, 14, 256)  0           bn4f_branch2b[0][0]              \n",
      "__________________________________________________________________________________________________\n",
      "res4f_branch2c (Conv2D)         (None, 14, 14, 1024) 263168      activation_39[0][0]              \n",
      "__________________________________________________________________________________________________\n",
      "bn4f_branch2c (BatchNormalizati (None, 14, 14, 1024) 4096        res4f_branch2c[0][0]             \n",
      "__________________________________________________________________________________________________\n",
      "add_13 (Add)                    (None, 14, 14, 1024) 0           bn4f_branch2c[0][0]              \n",
      "                                                                 activation_37[0][0]              \n",
      "__________________________________________________________________________________________________\n",
      "activation_40 (Activation)      (None, 14, 14, 1024) 0           add_13[0][0]                     \n",
      "__________________________________________________________________________________________________\n",
      "res5a_branch2a (Conv2D)         (None, 7, 7, 512)    524800      activation_40[0][0]              \n",
      "__________________________________________________________________________________________________\n",
      "bn5a_branch2a (BatchNormalizati (None, 7, 7, 512)    2048        res5a_branch2a[0][0]             \n",
      "__________________________________________________________________________________________________\n",
      "activation_41 (Activation)      (None, 7, 7, 512)    0           bn5a_branch2a[0][0]              \n",
      "__________________________________________________________________________________________________\n",
      "res5a_branch2b (Conv2D)         (None, 7, 7, 512)    2359808     activation_41[0][0]              \n",
      "__________________________________________________________________________________________________\n",
      "bn5a_branch2b (BatchNormalizati (None, 7, 7, 512)    2048        res5a_branch2b[0][0]             \n",
      "__________________________________________________________________________________________________\n",
      "activation_42 (Activation)      (None, 7, 7, 512)    0           bn5a_branch2b[0][0]              \n",
      "__________________________________________________________________________________________________\n",
      "res5a_branch2c (Conv2D)         (None, 7, 7, 2048)   1050624     activation_42[0][0]              \n",
      "__________________________________________________________________________________________________\n",
      "res5a_branch1 (Conv2D)          (None, 7, 7, 2048)   2099200     activation_40[0][0]              \n",
      "__________________________________________________________________________________________________\n",
      "bn5a_branch2c (BatchNormalizati (None, 7, 7, 2048)   8192        res5a_branch2c[0][0]             \n",
      "__________________________________________________________________________________________________\n",
      "bn5a_branch1 (BatchNormalizatio (None, 7, 7, 2048)   8192        res5a_branch1[0][0]              \n",
      "__________________________________________________________________________________________________\n",
      "add_14 (Add)                    (None, 7, 7, 2048)   0           bn5a_branch2c[0][0]              \n",
      "                                                                 bn5a_branch1[0][0]               \n",
      "__________________________________________________________________________________________________\n",
      "activation_43 (Activation)      (None, 7, 7, 2048)   0           add_14[0][0]                     \n",
      "__________________________________________________________________________________________________\n",
      "res5b_branch2a (Conv2D)         (None, 7, 7, 512)    1049088     activation_43[0][0]              \n",
      "__________________________________________________________________________________________________\n",
      "bn5b_branch2a (BatchNormalizati (None, 7, 7, 512)    2048        res5b_branch2a[0][0]             \n",
      "__________________________________________________________________________________________________\n",
      "activation_44 (Activation)      (None, 7, 7, 512)    0           bn5b_branch2a[0][0]              \n",
      "__________________________________________________________________________________________________\n",
      "res5b_branch2b (Conv2D)         (None, 7, 7, 512)    2359808     activation_44[0][0]              \n",
      "__________________________________________________________________________________________________\n",
      "bn5b_branch2b (BatchNormalizati (None, 7, 7, 512)    2048        res5b_branch2b[0][0]             \n",
      "__________________________________________________________________________________________________\n",
      "activation_45 (Activation)      (None, 7, 7, 512)    0           bn5b_branch2b[0][0]              \n",
      "__________________________________________________________________________________________________\n",
      "res5b_branch2c (Conv2D)         (None, 7, 7, 2048)   1050624     activation_45[0][0]              \n",
      "__________________________________________________________________________________________________\n",
      "bn5b_branch2c (BatchNormalizati (None, 7, 7, 2048)   8192        res5b_branch2c[0][0]             \n",
      "__________________________________________________________________________________________________\n",
      "add_15 (Add)                    (None, 7, 7, 2048)   0           bn5b_branch2c[0][0]              \n",
      "                                                                 activation_43[0][0]              \n",
      "__________________________________________________________________________________________________\n",
      "activation_46 (Activation)      (None, 7, 7, 2048)   0           add_15[0][0]                     \n",
      "__________________________________________________________________________________________________\n",
      "res5c_branch2a (Conv2D)         (None, 7, 7, 512)    1049088     activation_46[0][0]              \n",
      "__________________________________________________________________________________________________\n",
      "bn5c_branch2a (BatchNormalizati (None, 7, 7, 512)    2048        res5c_branch2a[0][0]             \n",
      "__________________________________________________________________________________________________\n",
      "activation_47 (Activation)      (None, 7, 7, 512)    0           bn5c_branch2a[0][0]              \n",
      "__________________________________________________________________________________________________\n",
      "res5c_branch2b (Conv2D)         (None, 7, 7, 512)    2359808     activation_47[0][0]              \n",
      "__________________________________________________________________________________________________\n",
      "bn5c_branch2b (BatchNormalizati (None, 7, 7, 512)    2048        res5c_branch2b[0][0]             \n",
      "__________________________________________________________________________________________________\n",
      "activation_48 (Activation)      (None, 7, 7, 512)    0           bn5c_branch2b[0][0]              \n",
      "__________________________________________________________________________________________________\n",
      "res5c_branch2c (Conv2D)         (None, 7, 7, 2048)   1050624     activation_48[0][0]              \n",
      "__________________________________________________________________________________________________\n",
      "bn5c_branch2c (BatchNormalizati (None, 7, 7, 2048)   8192        res5c_branch2c[0][0]             \n",
      "__________________________________________________________________________________________________\n",
      "add_16 (Add)                    (None, 7, 7, 2048)   0           bn5c_branch2c[0][0]              \n",
      "                                                                 activation_46[0][0]              \n",
      "__________________________________________________________________________________________________\n",
      "activation_49 (Activation)      (None, 7, 7, 2048)   0           add_16[0][0]                     \n",
      "==================================================================================================\n",
      "Total params: 23,587,712\n",
      "Trainable params: 0\n",
      "Non-trainable params: 23,587,712\n",
      "__________________________________________________________________________________________________\n"
     ]
    }
   ],
   "source": [
    "res_net.summary()"
   ]
  },
  {
   "cell_type": "markdown",
   "metadata": {},
   "source": [
    "## Complete  the model\n",
    "- To generate predictions from the block of features, average over the spatial 5x5 spatial locations, using a tf.keras.layers.GlobalAveragePooling2D layer to convert the features to a single 1280-element vector per image.\n",
    "- Apply a tf.keras.layers.Dense layer to convert these features into a single prediction per image. You don't need an activation function here because this prediction will be treated as a logit, or a raw prediction value. Positive numbers predict class 1, negative numbers predict class 0."
   ]
  },
  {
   "cell_type": "code",
   "execution_count": 6,
   "metadata": {},
   "outputs": [],
   "source": [
    "# Complete  the model\n",
    "global_average_layer = layers.GlobalAveragePooling2D(name='AvgPooling2D')\n",
    "#feature_batch_average = global_average_layer(feature_batch)\n",
    "#print(feature_batch_average.shape)\n",
    "\n",
    "prediction_layer = layers.Dense(CLASSES, activation='softmax', name='predictions')\n",
    "#prediction_batch = prediction_layer(feature_batch_average)\n",
    "#print(prediction_batch.shape)\n",
    "\n",
    "model = models.Sequential([\n",
    "  res_net,\n",
    "  global_average_layer,\n",
    "  prediction_layer\n",
    "])"
   ]
  },
  {
   "cell_type": "code",
   "execution_count": 7,
   "metadata": {},
   "outputs": [
    {
     "name": "stderr",
     "output_type": "stream",
     "text": [
      "W1016 17:04:20.057330 139666232559424 deprecation_wrapper.py:119] From /home/sol/.virtualenvs/maskrcnn/lib/python3.6/site-packages/keras/optimizers.py:790: The name tf.train.Optimizer is deprecated. Please use tf.compat.v1.train.Optimizer instead.\n",
      "\n"
     ]
    }
   ],
   "source": [
    "# Compile the model\n",
    "base_learning_rate = 0.0001\n",
    "model.compile(optimizer=optimizers.RMSprop(lr=base_learning_rate),\n",
    "              loss='sparse_categorical_crossentropy',\n",
    "              metrics=['accuracy'])\n",
    "\n",
    "# Save the model\n",
    "#model.save('small_last4.h5')"
   ]
  },
  {
   "cell_type": "code",
   "execution_count": 8,
   "metadata": {},
   "outputs": [
    {
     "name": "stdout",
     "output_type": "stream",
     "text": [
      "_________________________________________________________________\n",
      "Layer (type)                 Output Shape              Param #   \n",
      "=================================================================\n",
      "resnet50 (Model)             (None, 7, 7, 2048)        23587712  \n",
      "_________________________________________________________________\n",
      "AvgPooling2D (GlobalAverageP (None, 2048)              0         \n",
      "_________________________________________________________________\n",
      "predictions (Dense)          (None, 116)               237684    \n",
      "=================================================================\n",
      "Total params: 23,825,396\n",
      "Trainable params: 237,684\n",
      "Non-trainable params: 23,587,712\n",
      "_________________________________________________________________\n"
     ]
    }
   ],
   "source": [
    "model.summary()"
   ]
  },
  {
   "cell_type": "markdown",
   "metadata": {},
   "source": [
    "## Load data"
   ]
  },
  {
   "cell_type": "code",
   "execution_count": 9,
   "metadata": {},
   "outputs": [],
   "source": [
    "# get X and y list\n",
    "X_train_list = []\n",
    "#X_test_list = []\n",
    "y_train_list = []\n",
    "#y_test_list = []\n",
    "for (dirpath, u_dirnames, filenames) in os.walk(DS_DIR):\n",
    "    dirnames = sorted(u_dirnames)\n",
    "    for i in range(0,len(dirnames)):\n",
    "        FILE_DIR = os.path.join(DS_DIR, str(dirnames[i]))\n",
    "        FILE_DIR = os.path.join(FILE_DIR, \"da\")\n",
    "        files = glob(FILE_DIR+'/*.png') \n",
    "        \n",
    "        #if len(files) < SAMPLE_PER_PERSON:\n",
    "        SAMPLE_PER_PERSON = len(files)\n",
    "        \n",
    "        #TRAIN_SIZE = round(SAMPLE_PER_PERSON*(TRAIN_PERCENTAGE/100))\n",
    "        \n",
    "        for j in range (0,SAMPLE_PER_PERSON):            \n",
    "            image_class = int(str(dirnames[i]))-1\n",
    "            img = image.load_img(files[j], target_size=(IMAGE_SIZE, IMAGE_SIZE))\n",
    "            img_data = image.img_to_array(img)\n",
    "            img_data = preprocess_input(img_data)\n",
    "            X_train_list.append(img_data)\n",
    "            y_train_list.append(image_class)   \n",
    "        #for j in range (TRAIN_SIZE,SAMPLE_PER_PERSON):            \n",
    "            #image_class = int(str(dirnames[i]))-1\n",
    "            #img = image.load_img(files[j], target_size=(IMAGE_SIZE, IMAGE_SIZE))\n",
    "            #img_data = image.img_to_array(img)\n",
    "            #img_data = preprocess_input(img_data)\n",
    "            #X_test_list.append(img_data)\n",
    "            #y_test_list.append(image_class)                   \n",
    "    break"
   ]
  },
  {
   "cell_type": "code",
   "execution_count": 10,
   "metadata": {},
   "outputs": [],
   "source": [
    "#X = np.array(X_list)\n",
    "#y = np.array(y_list)\n",
    "#X.shape, y.shape, len(y)"
   ]
  },
  {
   "cell_type": "code",
   "execution_count": 11,
   "metadata": {},
   "outputs": [],
   "source": [
    "# Normalize data\n",
    "#X = X /255.0\n"
   ]
  },
  {
   "cell_type": "code",
   "execution_count": 12,
   "metadata": {},
   "outputs": [],
   "source": [
    "#Split data\n",
    "#X_train, X_test, y_train, y_test = train_test_split(X, y, test_size = 0.20, random_state = 0)"
   ]
  },
  {
   "cell_type": "code",
   "execution_count": 13,
   "metadata": {},
   "outputs": [
    {
     "data": {
      "text/plain": [
       "((12073, 224, 224, 3), 12073)"
      ]
     },
     "execution_count": 13,
     "metadata": {},
     "output_type": "execute_result"
    }
   ],
   "source": [
    "X_train = np.array(X_train_list)\n",
    "#X_test = np.array(X_test_list)\n",
    "y_train = np.array(y_train_list)\n",
    "#y_test = np.array(y_test_list)\n",
    "\n",
    "#Normalize\n",
    "#X_train = X_train/255.0\n",
    "#X_test = X_test/255.0\n",
    "\n",
    "#X_train.shape, X_test.shape, len(y_train), len(y_test)\n",
    "X_train.shape, len(y_train)"
   ]
  },
  {
   "cell_type": "code",
   "execution_count": 14,
   "metadata": {},
   "outputs": [
    {
     "data": {
      "text/plain": [
       "array([[[-103.939   , -116.779   , -123.68    ],\n",
       "        [-103.939   , -116.779   , -123.68    ],\n",
       "        [-103.939   , -116.779   , -123.68    ],\n",
       "        ...,\n",
       "        [  33.060997,   51.221   ,   65.32    ],\n",
       "        [  33.060997,   51.221   ,   65.32    ],\n",
       "        [  33.060997,   51.221   ,   65.32    ]],\n",
       "\n",
       "       [[-103.939   , -116.779   , -123.68    ],\n",
       "        [-103.939   , -116.779   , -123.68    ],\n",
       "        [-103.939   , -116.779   , -123.68    ],\n",
       "        ...,\n",
       "        [  33.060997,   51.221   ,   65.32    ],\n",
       "        [  33.060997,   51.221   ,   65.32    ],\n",
       "        [  33.060997,   51.221   ,   65.32    ]],\n",
       "\n",
       "       [[-103.939   , -116.779   , -123.68    ],\n",
       "        [-103.939   , -116.779   , -123.68    ],\n",
       "        [-103.939   , -116.779   , -123.68    ],\n",
       "        ...,\n",
       "        [  33.060997,   51.221   ,   65.32    ],\n",
       "        [  33.060997,   51.221   ,   65.32    ],\n",
       "        [  33.060997,   51.221   ,   65.32    ]],\n",
       "\n",
       "       ...,\n",
       "\n",
       "       [[-103.939   , -116.779   , -123.68    ],\n",
       "        [-103.939   , -116.779   , -123.68    ],\n",
       "        [-103.939   , -116.779   , -123.68    ],\n",
       "        ...,\n",
       "        [-103.939   , -116.779   , -123.68    ],\n",
       "        [-103.939   , -116.779   , -123.68    ],\n",
       "        [-103.939   , -116.779   , -123.68    ]],\n",
       "\n",
       "       [[-103.939   , -116.779   , -123.68    ],\n",
       "        [-103.939   , -116.779   , -123.68    ],\n",
       "        [-103.939   , -116.779   , -123.68    ],\n",
       "        ...,\n",
       "        [-103.939   , -116.779   , -123.68    ],\n",
       "        [-103.939   , -116.779   , -123.68    ],\n",
       "        [-103.939   , -116.779   , -123.68    ]],\n",
       "\n",
       "       [[-103.939   , -116.779   , -123.68    ],\n",
       "        [-103.939   , -116.779   , -123.68    ],\n",
       "        [-103.939   , -116.779   , -123.68    ],\n",
       "        ...,\n",
       "        [-103.939   , -116.779   , -123.68    ],\n",
       "        [-103.939   , -116.779   , -123.68    ],\n",
       "        [-103.939   , -116.779   , -123.68    ]]], dtype=float32)"
      ]
     },
     "execution_count": 14,
     "metadata": {},
     "output_type": "execute_result"
    }
   ],
   "source": [
    "X_train[0]"
   ]
  },
  {
   "cell_type": "code",
   "execution_count": 15,
   "metadata": {},
   "outputs": [
    {
     "data": {
      "text/plain": [
       "12073.0"
      ]
     },
     "execution_count": 15,
     "metadata": {},
     "output_type": "execute_result"
    }
   ],
   "source": [
    "hist_y = np.zeros((CLASSES + 1))\n",
    "for i in range (0, len(y_train)):\n",
    "    x = y_train[i]\n",
    "    hist_y[x] += 1\n",
    "sum(hist_y)"
   ]
  },
  {
   "cell_type": "code",
   "execution_count": 16,
   "metadata": {},
   "outputs": [
    {
     "data": {
      "text/plain": [
       "array([100., 100.,  99., 100., 100., 100., 100., 100.,  99., 100., 100.,\n",
       "       100., 100.,  99., 100., 100.,  99.,  99.,  99.,  99., 100., 100.,\n",
       "       100.,  96.,  98., 100.,  99., 100., 100.,  99., 100., 100.,  98.,\n",
       "       100.,  99., 100., 100., 100., 100., 100., 100., 100., 100.,  99.,\n",
       "        99., 100.,  97., 100.,  98., 100., 100.,  99.,  99., 100.,  99.,\n",
       "        99., 100., 100., 100.,  99.,  99.,  99., 100., 100., 100., 100.,\n",
       "       100.,  99., 100., 100.,  98.,  98.,  99., 100.,  99.,  99.,  99.,\n",
       "       100., 100.,  99., 100., 100.,  99., 100.,  99., 100., 100., 100.,\n",
       "       100.,  98., 100.,  99., 100., 100., 100., 100.,  99.,  97.,  99.,\n",
       "       100., 139., 164., 128., 112., 128., 186., 100., 107., 108., 125.,\n",
       "       120., 142., 144., 119., 175., 128.,   0.])"
      ]
     },
     "execution_count": 16,
     "metadata": {},
     "output_type": "execute_result"
    }
   ],
   "source": [
    "hist_y"
   ]
  },
  {
   "cell_type": "markdown",
   "metadata": {},
   "source": [
    "## Train model"
   ]
  },
  {
   "cell_type": "code",
   "execution_count": 18,
   "metadata": {},
   "outputs": [
    {
     "name": "stdout",
     "output_type": "stream",
     "text": [
      "Epoch 1/10\n",
      "12073/12073 [==============================] - 50s 4ms/step - loss: 0.7716 - acc: 0.9038\n",
      "Epoch 2/10\n",
      "12073/12073 [==============================] - 50s 4ms/step - loss: 0.7079 - acc: 0.9139\n",
      "Epoch 3/10\n",
      "12073/12073 [==============================] - 50s 4ms/step - loss: 0.6467 - acc: 0.9240\n",
      "Epoch 4/10\n",
      "12073/12073 [==============================] - 50s 4ms/step - loss: 0.5890 - acc: 0.9336\n",
      "Epoch 5/10\n",
      "12073/12073 [==============================] - 50s 4ms/step - loss: 0.5428 - acc: 0.9411\n",
      "Epoch 6/10\n",
      "12073/12073 [==============================] - 50s 4ms/step - loss: 0.4992 - acc: 0.9436\n",
      "Epoch 7/10\n",
      "12073/12073 [==============================] - 50s 4ms/step - loss: 0.4639 - acc: 0.9491\n",
      "Epoch 8/10\n",
      "12073/12073 [==============================] - 50s 4ms/step - loss: 0.4286 - acc: 0.9555\n",
      "Epoch 9/10\n",
      "12073/12073 [==============================] - 50s 4ms/step - loss: 0.3976 - acc: 0.9610\n",
      "Epoch 10/10\n",
      "12073/12073 [==============================] - 50s 4ms/step - loss: 0.3708 - acc: 0.9620\n"
     ]
    }
   ],
   "source": [
    "#history = model.fit(X_train, y_train, validation_split=0.25, epochs=50, batch_size=64)\n",
    "history = model.fit(X_train, y_train, epochs=10, batch_size=64)"
   ]
  },
  {
   "cell_type": "code",
   "execution_count": 13,
   "metadata": {},
   "outputs": [
    {
     "data": {
      "image/png": "[encoded data removed]",
      "text/plain": [
       "<Figure size 576x576 with 2 Axes>"
      ]
     },
     "metadata": {
      "needs_background": "light"
     },
     "output_type": "display_data"
    }
   ],
   "source": [
    "acc = history.history['acc']\n",
    "val_acc = history.history['val_acc']\n",
    "\n",
    "loss = history.history['loss']\n",
    "val_loss = history.history['val_loss']\n",
    "\n",
    "plt.figure(figsize=(8, 8))\n",
    "plt.subplot(2, 1, 1)\n",
    "plt.plot(acc, label='Training Accuracy')\n",
    "plt.plot(val_acc, label='Validation Accuracy')\n",
    "plt.legend(loc='lower right')\n",
    "plt.ylabel('Accuracy')\n",
    "plt.ylim([min(plt.ylim()),1])\n",
    "plt.title('Training Accuracy')\n",
    "\n",
    "plt.subplot(2, 1, 2)\n",
    "plt.plot(loss, label='Training Loss')\n",
    "plt.plot(val_loss, label='Validation Loss')\n",
    "plt.legend(loc='upper right')\n",
    "plt.ylabel('Cross Entropy')\n",
    "plt.ylim([0,2.0])\n",
    "plt.title('Training Loss')\n",
    "plt.xlabel('epoch')\n",
    "plt.show()"
   ]
  },
  {
   "cell_type": "code",
   "execution_count": 30,
   "metadata": {},
   "outputs": [
    {
     "name": "stdout",
     "output_type": "stream",
     "text": [
      "401/401 [==============================] - 3s 7ms/step\n",
      "Test accuracy: 0.229426434138172\n"
     ]
    }
   ],
   "source": [
    "# 15/10/19 50 epochs - CVLEDB + AWE - ResNet50 - 75% data to train\n",
    "test_loss, test_acc = model.evaluate(X_test, y_test)\n",
    "print('Test accuracy:', test_acc)"
   ]
  },
  {
   "cell_type": "code",
   "execution_count": 53,
   "metadata": {},
   "outputs": [
    {
     "name": "stdout",
     "output_type": "stream",
     "text": [
      "401/401 [==============================] - 3s 7ms/step\n",
      "Test accuracy: 0.14962593517138476\n"
     ]
    }
   ],
   "source": [
    "# 15/10/19 50 epochs - CVLEDB + AWE - ResNet50 - 75% data to train \n",
    "# and cross validation 4 folds\n",
    "loss: 0.7627 - acc: 0.9601 - val_loss: 15.9996 - val_acc: 0.0022"
   ]
  },
  {
   "cell_type": "code",
   "execution_count": 17,
   "metadata": {},
   "outputs": [
    {
     "name": "stdout",
     "output_type": "stream",
     "text": [
      "928/928 [==============================] - 5s 5ms/step\n",
      "Test accuracy: 0.1853448275862069\n"
     ]
    }
   ],
   "source": [
    "# 10 epochs - CVLEDB + AMI Augmented - ResNet50 - 95% data to train\n",
    "test_loss, test_acc = model.evaluate(X_test, y_test)\n",
    "print('Test accuracy:', test_acc)"
   ]
  },
  {
   "cell_type": "code",
   "execution_count": 16,
   "metadata": {},
   "outputs": [
    {
     "name": "stdout",
     "output_type": "stream",
     "text": [
      "992/992 [==============================] - 5s 5ms/step\n",
      "Test accuracy: 0.3548387096774194\n"
     ]
    }
   ],
   "source": [
    "# 20 epochs - CVLEDB Augmented - ResNet50 \n",
    "test_loss, test_acc = model.evaluate(X_test, y_test)\n",
    "print('Test accuracy:', test_acc)"
   ]
  },
  {
   "cell_type": "code",
   "execution_count": 20,
   "metadata": {},
   "outputs": [
    {
     "name": "stdout",
     "output_type": "stream",
     "text": [
      "992/992 [==============================] - 5s 5ms/step\n",
      "Test accuracy: 0.4092741935483871\n"
     ]
    }
   ],
   "source": [
    "# 30 epochs - CVLEDB Augmented - ResNet50 \n",
    "test_loss, test_acc = model.evaluate(X_test, y_test)\n",
    "print('Test accuracy:', test_acc)"
   ]
  },
  {
   "cell_type": "code",
   "execution_count": 26,
   "metadata": {},
   "outputs": [
    {
     "name": "stdout",
     "output_type": "stream",
     "text": [
      "192/192 [==============================] - 1s 7ms/step\n",
      "Test accuracy: 0.4322916666666667\n"
     ]
    }
   ],
   "source": [
    "# 50 epochs - CVLEDB Augmented - ResNet50 - 95% data to train\n",
    "test_loss, test_acc = model.evaluate(X_test, y_test)\n",
    "print('Test accuracy:', test_acc)"
   ]
  },
  {
   "cell_type": "code",
   "execution_count": 15,
   "metadata": {},
   "outputs": [
    {
     "name": "stdout",
     "output_type": "stream",
     "text": [
      "2000/2000 [==============================] - 3s 2ms/step\n",
      "Test accuracy: 0.01\n"
     ]
    }
   ],
   "source": [
    "# 20 epochs - AWE Augmented\n",
    "test_loss, test_acc = model.evaluate(X_test, y_test)\n",
    "print('Test accuracy:', test_acc)"
   ]
  },
  {
   "cell_type": "code",
   "execution_count": 17,
   "metadata": {},
   "outputs": [
    {
     "name": "stdout",
     "output_type": "stream",
     "text": [
      "992/992 [==============================] - 2s 2ms/step\n",
      "Test accuracy: 0.0625\n"
     ]
    }
   ],
   "source": [
    "# 20 epochs - CVLEDB Augmented\n",
    "test_loss, test_acc = model.evaluate(X_test, y_test)\n",
    "print('Test accuracy:', test_acc)"
   ]
  },
  {
   "cell_type": "code",
   "execution_count": 20,
   "metadata": {},
   "outputs": [
    {
     "name": "stdout",
     "output_type": "stream",
     "text": [
      "992/992 [==============================] - 2s 2ms/step\n",
      "Test accuracy: 0.20161290322580644\n"
     ]
    }
   ],
   "source": [
    "# 20 epochs - CVLEDB Augmented - MobileNet\n",
    "test_loss, test_acc = model.evaluate(X_test, y_test)\n",
    "print('Test accuracy:', test_acc)"
   ]
  },
  {
   "cell_type": "code",
   "execution_count": 20,
   "metadata": {},
   "outputs": [
    {
     "name": "stdout",
     "output_type": "stream",
     "text": [
      "992/992 [==============================] - 2s 2ms/step\n",
      "Test accuracy: 0.2399193548387097\n"
     ]
    }
   ],
   "source": [
    "# 30 epochs - CVLEDB Augmented - MobileNet\n",
    "test_loss, test_acc = model.evaluate(X_test, y_test)\n",
    "print('Test accuracy:', test_acc)"
   ]
  },
  {
   "cell_type": "code",
   "execution_count": 27,
   "metadata": {},
   "outputs": [
    {
     "name": "stdout",
     "output_type": "stream",
     "text": [
      "192/192 [==============================] - 1s 4ms/step\n",
      "Test accuracy: 0.203125\n"
     ]
    }
   ],
   "source": [
    "# 90 epochs - CVLEDB Augmented - MobileNet\n",
    "# 95% data to train\n",
    "test_loss, test_acc = model.evaluate(X_test, y_test)\n",
    "print('Test accuracy:', test_acc)"
   ]
  },
  {
   "cell_type": "code",
   "execution_count": null,
   "metadata": {},
   "outputs": [],
   "source": []
  },
  {
   "cell_type": "markdown",
   "metadata": {},
   "source": [
    "## Use model as feature extractor"
   ]
  },
  {
   "cell_type": "code",
   "execution_count": 19,
   "metadata": {},
   "outputs": [],
   "source": [
    "from keras.models import Model\n"
   ]
  },
  {
   "cell_type": "code",
   "execution_count": 20,
   "metadata": {},
   "outputs": [
    {
     "name": "stderr",
     "output_type": "stream",
     "text": [
      "/home/sol/.virtualenvs/maskrcnn/lib/python3.6/site-packages/ipykernel_launcher.py:1: UserWarning: Update your `Model` call to the Keras 2 API: `Model(inputs=Tensor(\"re..., outputs=Tensor(\"Av...)`\n",
      "  \"\"\"Entry point for launching an IPython kernel.\n"
     ]
    },
    {
     "name": "stdout",
     "output_type": "stream",
     "text": [
      "_________________________________________________________________\n",
      "Layer (type)                 Output Shape              Param #   \n",
      "=================================================================\n",
      "resnet50_input (InputLayer)  (None, 224, 224, 3)       0         \n",
      "_________________________________________________________________\n",
      "resnet50 (Model)             (None, 7, 7, 2048)        23587712  \n",
      "_________________________________________________________________\n",
      "AvgPooling2D (GlobalAverageP (None, 2048)              0         \n",
      "=================================================================\n",
      "Total params: 23,587,712\n",
      "Trainable params: 0\n",
      "Non-trainable params: 23,587,712\n",
      "_________________________________________________________________\n"
     ]
    }
   ],
   "source": [
    "model_extractor = Model(input=model.input, output=model.get_layer('AvgPooling2D').output)\n",
    "model_extractor.summary()"
   ]
  },
  {
   "cell_type": "code",
   "execution_count": 21,
   "metadata": {},
   "outputs": [],
   "source": [
    "ROOT_DIR = os.path.abspath(\"../../\")\n",
    "DS_DIR = os.path.join(ROOT_DIR, \"Datasets/ami/\")"
   ]
  },
  {
   "cell_type": "code",
   "execution_count": 22,
   "metadata": {},
   "outputs": [],
   "source": [
    "feature_list = []\n",
    "for (dirpath, u_dirnames, filenames) in os.walk(DS_DIR):\n",
    "    dirnames = sorted(u_dirnames)\n",
    "    for i in range(0,len(dirnames)):\n",
    "        FILE_DIR = os.path.join(DS_DIR, str(dirnames[i]))\n",
    "        #FILE_DIR = os.path.join(FILE_DIR, \"da\")\n",
    "        files = glob(FILE_DIR+'/*.jpg') \n",
    "        for j in range (0,len(files)):            \n",
    "            image_class = np.array([int(str(dirnames[i]))])\n",
    "            img = image.load_img(files[j], target_size=(IMAGE_SIZE, IMAGE_SIZE))\n",
    "            img_data = image.img_to_array(img)\n",
    "            img_data = preprocess_input(img_data)\n",
    "            img_data = np.expand_dims(img_data, axis=0)\n",
    "            fc2_features = model_extractor.predict(img_data)\n",
    "            #vgg16_feature = model.predict(img_data)\n",
    "            image_vector = np.array(fc2_features)            \n",
    "            #image_vector = getVector()                       \n",
    "            feature_np = np.concatenate((image_class, image_vector[0]), axis=0)                                  \n",
    "            feature_list.append(feature_np.flatten())            \n",
    "    break\n",
    "\n",
    "#print(len(vgg16_feature_list))\n",
    "#print(len(vgg16_feature_np))\n",
    "head = []\n",
    "head.append('class')\n",
    "for i in range(1, len(feature_np)):\n",
    "    head.append('v'+str(i))\n",
    "\n",
    "head_np = []\n",
    "head_np.append(head)\n",
    "#print(head_np)"
   ]
  },
  {
   "cell_type": "code",
   "execution_count": 26,
   "metadata": {},
   "outputs": [
    {
     "name": "stdout",
     "output_type": "stream",
     "text": [
      "[['class', 'v1', 'v2', 'v3', 'v4', 'v5', 'v6', 'v7', 'v8', 'v9', 'v10', 'v11', 'v12', 'v13', 'v14', 'v15', 'v16', 'v17', 'v18', 'v19', 'v20', 'v21', 'v22', 'v23', 'v24', 'v25', 'v26', 'v27', 'v28', 'v29', 'v30', 'v31', 'v32', 'v33', 'v34', 'v35', 'v36', 'v37', 'v38', 'v39', 'v40', 'v41', 'v42', 'v43', 'v44', 'v45', 'v46', 'v47', 'v48', 'v49', 'v50', 'v51', 'v52', 'v53', 'v54', 'v55', 'v56', 'v57', 'v58', 'v59', 'v60', 'v61', 'v62', 'v63', 'v64', 'v65', 'v66', 'v67', 'v68', 'v69', 'v70', 'v71', 'v72', 'v73', 'v74', 'v75', 'v76', 'v77', 'v78', 'v79', 'v80', 'v81', 'v82', 'v83', 'v84', 'v85', 'v86', 'v87', 'v88', 'v89', 'v90', 'v91', 'v92', 'v93', 'v94', 'v95', 'v96', 'v97', 'v98', 'v99', 'v100', 'v101', 'v102', 'v103', 'v104', 'v105', 'v106', 'v107', 'v108', 'v109', 'v110', 'v111', 'v112', 'v113', 'v114', 'v115', 'v116', 'v117', 'v118', 'v119', 'v120', 'v121', 'v122', 'v123', 'v124', 'v125', 'v126', 'v127', 'v128', 'v129', 'v130', 'v131', 'v132', 'v133', 'v134', 'v135', 'v136', 'v137', 'v138', 'v139', 'v140', 'v141', 'v142', 'v143', 'v144', 'v145', 'v146', 'v147', 'v148', 'v149', 'v150', 'v151', 'v152', 'v153', 'v154', 'v155', 'v156', 'v157', 'v158', 'v159', 'v160', 'v161', 'v162', 'v163', 'v164', 'v165', 'v166', 'v167', 'v168', 'v169', 'v170', 'v171', 'v172', 'v173', 'v174', 'v175', 'v176', 'v177', 'v178', 'v179', 'v180', 'v181', 'v182', 'v183', 'v184', 'v185', 'v186', 'v187', 'v188', 'v189', 'v190', 'v191', 'v192', 'v193', 'v194', 'v195', 'v196', 'v197', 'v198', 'v199', 'v200', 'v201', 'v202', 'v203', 'v204', 'v205', 'v206', 'v207', 'v208', 'v209', 'v210', 'v211', 'v212', 'v213', 'v214', 'v215', 'v216', 'v217', 'v218', 'v219', 'v220', 'v221', 'v222', 'v223', 'v224', 'v225', 'v226', 'v227', 'v228', 'v229', 'v230', 'v231', 'v232', 'v233', 'v234', 'v235', 'v236', 'v237', 'v238', 'v239', 'v240', 'v241', 'v242', 'v243', 'v244', 'v245', 'v246', 'v247', 'v248', 'v249', 'v250', 'v251', 'v252', 'v253', 'v254', 'v255', 'v256', 'v257', 'v258', 'v259', 'v260', 'v261', 'v262', 'v263', 'v264', 'v265', 'v266', 'v267', 'v268', 'v269', 'v270', 'v271', 'v272', 'v273', 'v274', 'v275', 'v276', 'v277', 'v278', 'v279', 'v280', 'v281', 'v282', 'v283', 'v284', 'v285', 'v286', 'v287', 'v288', 'v289', 'v290', 'v291', 'v292', 'v293', 'v294', 'v295', 'v296', 'v297', 'v298', 'v299', 'v300', 'v301', 'v302', 'v303', 'v304', 'v305', 'v306', 'v307', 'v308', 'v309', 'v310', 'v311', 'v312', 'v313', 'v314', 'v315', 'v316', 'v317', 'v318', 'v319', 'v320', 'v321', 'v322', 'v323', 'v324', 'v325', 'v326', 'v327', 'v328', 'v329', 'v330', 'v331', 'v332', 'v333', 'v334', 'v335', 'v336', 'v337', 'v338', 'v339', 'v340', 'v341', 'v342', 'v343', 'v344', 'v345', 'v346', 'v347', 'v348', 'v349', 'v350', 'v351', 'v352', 'v353', 'v354', 'v355', 'v356', 'v357', 'v358', 'v359', 'v360', 'v361', 'v362', 'v363', 'v364', 'v365', 'v366', 'v367', 'v368', 'v369', 'v370', 'v371', 'v372', 'v373', 'v374', 'v375', 'v376', 'v377', 'v378', 'v379', 'v380', 'v381', 'v382', 'v383', 'v384', 'v385', 'v386', 'v387', 'v388', 'v389', 'v390', 'v391', 'v392', 'v393', 'v394', 'v395', 'v396', 'v397', 'v398', 'v399', 'v400', 'v401', 'v402', 'v403', 'v404', 'v405', 'v406', 'v407', 'v408', 'v409', 'v410', 'v411', 'v412', 'v413', 'v414', 'v415', 'v416', 'v417', 'v418', 'v419', 'v420', 'v421', 'v422', 'v423', 'v424', 'v425', 'v426', 'v427', 'v428', 'v429', 'v430', 'v431', 'v432', 'v433', 'v434', 'v435', 'v436', 'v437', 'v438', 'v439', 'v440', 'v441', 'v442', 'v443', 'v444', 'v445', 'v446', 'v447', 'v448', 'v449', 'v450', 'v451', 'v452', 'v453', 'v454', 'v455', 'v456', 'v457', 'v458', 'v459', 'v460', 'v461', 'v462', 'v463', 'v464', 'v465', 'v466', 'v467', 'v468', 'v469', 'v470', 'v471', 'v472', 'v473', 'v474', 'v475', 'v476', 'v477', 'v478', 'v479', 'v480', 'v481', 'v482', 'v483', 'v484', 'v485', 'v486', 'v487', 'v488', 'v489', 'v490', 'v491', 'v492', 'v493', 'v494', 'v495', 'v496', 'v497', 'v498', 'v499', 'v500', 'v501', 'v502', 'v503', 'v504', 'v505', 'v506', 'v507', 'v508', 'v509', 'v510', 'v511', 'v512', 'v513', 'v514', 'v515', 'v516', 'v517', 'v518', 'v519', 'v520', 'v521', 'v522', 'v523', 'v524', 'v525', 'v526', 'v527', 'v528', 'v529', 'v530', 'v531', 'v532', 'v533', 'v534', 'v535', 'v536', 'v537', 'v538', 'v539', 'v540', 'v541', 'v542', 'v543', 'v544', 'v545', 'v546', 'v547', 'v548', 'v549', 'v550', 'v551', 'v552', 'v553', 'v554', 'v555', 'v556', 'v557', 'v558', 'v559', 'v560', 'v561', 'v562', 'v563', 'v564', 'v565', 'v566', 'v567', 'v568', 'v569', 'v570', 'v571', 'v572', 'v573', 'v574', 'v575', 'v576', 'v577', 'v578', 'v579', 'v580', 'v581', 'v582', 'v583', 'v584', 'v585', 'v586', 'v587', 'v588', 'v589', 'v590', 'v591', 'v592', 'v593', 'v594', 'v595', 'v596', 'v597', 'v598', 'v599', 'v600', 'v601', 'v602', 'v603', 'v604', 'v605', 'v606', 'v607', 'v608', 'v609', 'v610', 'v611', 'v612', 'v613', 'v614', 'v615', 'v616', 'v617', 'v618', 'v619', 'v620', 'v621', 'v622', 'v623', 'v624', 'v625', 'v626', 'v627', 'v628', 'v629', 'v630', 'v631', 'v632', 'v633', 'v634', 'v635', 'v636', 'v637', 'v638', 'v639', 'v640', 'v641', 'v642', 'v643', 'v644', 'v645', 'v646', 'v647', 'v648', 'v649', 'v650', 'v651', 'v652', 'v653', 'v654', 'v655', 'v656', 'v657', 'v658', 'v659', 'v660', 'v661', 'v662', 'v663', 'v664', 'v665', 'v666', 'v667', 'v668', 'v669', 'v670', 'v671', 'v672', 'v673', 'v674', 'v675', 'v676', 'v677', 'v678', 'v679', 'v680', 'v681', 'v682', 'v683', 'v684', 'v685', 'v686', 'v687', 'v688', 'v689', 'v690', 'v691', 'v692', 'v693', 'v694', 'v695', 'v696', 'v697', 'v698', 'v699', 'v700', 'v701', 'v702', 'v703', 'v704', 'v705', 'v706', 'v707', 'v708', 'v709', 'v710', 'v711', 'v712', 'v713', 'v714', 'v715', 'v716', 'v717', 'v718', 'v719', 'v720', 'v721', 'v722', 'v723', 'v724', 'v725', 'v726', 'v727', 'v728', 'v729', 'v730', 'v731', 'v732', 'v733', 'v734', 'v735', 'v736', 'v737', 'v738', 'v739', 'v740', 'v741', 'v742', 'v743', 'v744', 'v745', 'v746', 'v747', 'v748', 'v749', 'v750', 'v751', 'v752', 'v753', 'v754', 'v755', 'v756', 'v757', 'v758', 'v759', 'v760', 'v761', 'v762', 'v763', 'v764', 'v765', 'v766', 'v767', 'v768', 'v769', 'v770', 'v771', 'v772', 'v773', 'v774', 'v775', 'v776', 'v777', 'v778', 'v779', 'v780', 'v781', 'v782', 'v783', 'v784', 'v785', 'v786', 'v787', 'v788', 'v789', 'v790', 'v791', 'v792', 'v793', 'v794', 'v795', 'v796', 'v797', 'v798', 'v799', 'v800', 'v801', 'v802', 'v803', 'v804', 'v805', 'v806', 'v807', 'v808', 'v809', 'v810', 'v811', 'v812', 'v813', 'v814', 'v815', 'v816', 'v817', 'v818', 'v819', 'v820', 'v821', 'v822', 'v823', 'v824', 'v825', 'v826', 'v827', 'v828', 'v829', 'v830', 'v831', 'v832', 'v833', 'v834', 'v835', 'v836', 'v837', 'v838', 'v839', 'v840', 'v841', 'v842', 'v843', 'v844', 'v845', 'v846', 'v847', 'v848', 'v849', 'v850', 'v851', 'v852', 'v853', 'v854', 'v855', 'v856', 'v857', 'v858', 'v859', 'v860', 'v861', 'v862', 'v863', 'v864', 'v865', 'v866', 'v867', 'v868', 'v869', 'v870', 'v871', 'v872', 'v873', 'v874', 'v875', 'v876', 'v877', 'v878', 'v879', 'v880', 'v881', 'v882', 'v883', 'v884', 'v885', 'v886', 'v887', 'v888', 'v889', 'v890', 'v891', 'v892', 'v893', 'v894', 'v895', 'v896', 'v897', 'v898', 'v899', 'v900', 'v901', 'v902', 'v903', 'v904', 'v905', 'v906', 'v907', 'v908', 'v909', 'v910', 'v911', 'v912', 'v913', 'v914', 'v915', 'v916', 'v917', 'v918', 'v919', 'v920', 'v921', 'v922', 'v923', 'v924', 'v925', 'v926', 'v927', 'v928', 'v929', 'v930', 'v931', 'v932', 'v933', 'v934', 'v935', 'v936', 'v937', 'v938', 'v939', 'v940', 'v941', 'v942', 'v943', 'v944', 'v945', 'v946', 'v947', 'v948', 'v949', 'v950', 'v951', 'v952', 'v953', 'v954', 'v955', 'v956', 'v957', 'v958', 'v959', 'v960', 'v961', 'v962', 'v963', 'v964', 'v965', 'v966', 'v967', 'v968', 'v969', 'v970', 'v971', 'v972', 'v973', 'v974', 'v975', 'v976', 'v977', 'v978', 'v979', 'v980', 'v981', 'v982', 'v983', 'v984', 'v985', 'v986', 'v987', 'v988', 'v989', 'v990', 'v991', 'v992', 'v993', 'v994', 'v995', 'v996', 'v997', 'v998', 'v999', 'v1000', 'v1001', 'v1002', 'v1003', 'v1004', 'v1005', 'v1006', 'v1007', 'v1008', 'v1009', 'v1010', 'v1011', 'v1012', 'v1013', 'v1014', 'v1015', 'v1016', 'v1017', 'v1018', 'v1019', 'v1020', 'v1021', 'v1022', 'v1023', 'v1024', 'v1025', 'v1026', 'v1027', 'v1028', 'v1029', 'v1030', 'v1031', 'v1032', 'v1033', 'v1034', 'v1035', 'v1036', 'v1037', 'v1038', 'v1039', 'v1040', 'v1041', 'v1042', 'v1043', 'v1044', 'v1045', 'v1046', 'v1047', 'v1048', 'v1049', 'v1050', 'v1051', 'v1052', 'v1053', 'v1054', 'v1055', 'v1056', 'v1057', 'v1058', 'v1059', 'v1060', 'v1061', 'v1062', 'v1063', 'v1064', 'v1065', 'v1066', 'v1067', 'v1068', 'v1069', 'v1070', 'v1071', 'v1072', 'v1073', 'v1074', 'v1075', 'v1076', 'v1077', 'v1078', 'v1079', 'v1080', 'v1081', 'v1082', 'v1083', 'v1084', 'v1085', 'v1086', 'v1087', 'v1088', 'v1089', 'v1090', 'v1091', 'v1092', 'v1093', 'v1094', 'v1095', 'v1096', 'v1097', 'v1098', 'v1099', 'v1100', 'v1101', 'v1102', 'v1103', 'v1104', 'v1105', 'v1106', 'v1107', 'v1108', 'v1109', 'v1110', 'v1111', 'v1112', 'v1113', 'v1114', 'v1115', 'v1116', 'v1117', 'v1118', 'v1119', 'v1120', 'v1121', 'v1122', 'v1123', 'v1124', 'v1125', 'v1126', 'v1127', 'v1128', 'v1129', 'v1130', 'v1131', 'v1132', 'v1133', 'v1134', 'v1135', 'v1136', 'v1137', 'v1138', 'v1139', 'v1140', 'v1141', 'v1142', 'v1143', 'v1144', 'v1145', 'v1146', 'v1147', 'v1148', 'v1149', 'v1150', 'v1151', 'v1152', 'v1153', 'v1154', 'v1155', 'v1156', 'v1157', 'v1158', 'v1159', 'v1160', 'v1161', 'v1162', 'v1163', 'v1164', 'v1165', 'v1166', 'v1167', 'v1168', 'v1169', 'v1170', 'v1171', 'v1172', 'v1173', 'v1174', 'v1175', 'v1176', 'v1177', 'v1178', 'v1179', 'v1180', 'v1181', 'v1182', 'v1183', 'v1184', 'v1185', 'v1186', 'v1187', 'v1188', 'v1189', 'v1190', 'v1191', 'v1192', 'v1193', 'v1194', 'v1195', 'v1196', 'v1197', 'v1198', 'v1199', 'v1200', 'v1201', 'v1202', 'v1203', 'v1204', 'v1205', 'v1206', 'v1207', 'v1208', 'v1209', 'v1210', 'v1211', 'v1212', 'v1213', 'v1214', 'v1215', 'v1216', 'v1217', 'v1218', 'v1219', 'v1220', 'v1221', 'v1222', 'v1223', 'v1224', 'v1225', 'v1226', 'v1227', 'v1228', 'v1229', 'v1230', 'v1231', 'v1232', 'v1233', 'v1234', 'v1235', 'v1236', 'v1237', 'v1238', 'v1239', 'v1240', 'v1241', 'v1242', 'v1243', 'v1244', 'v1245', 'v1246', 'v1247', 'v1248', 'v1249', 'v1250', 'v1251', 'v1252', 'v1253', 'v1254', 'v1255', 'v1256', 'v1257', 'v1258', 'v1259', 'v1260', 'v1261', 'v1262', 'v1263', 'v1264', 'v1265', 'v1266', 'v1267', 'v1268', 'v1269', 'v1270', 'v1271', 'v1272', 'v1273', 'v1274', 'v1275', 'v1276', 'v1277', 'v1278', 'v1279', 'v1280', 'v1281', 'v1282', 'v1283', 'v1284', 'v1285', 'v1286', 'v1287', 'v1288', 'v1289', 'v1290', 'v1291', 'v1292', 'v1293', 'v1294', 'v1295', 'v1296', 'v1297', 'v1298', 'v1299', 'v1300', 'v1301', 'v1302', 'v1303', 'v1304', 'v1305', 'v1306', 'v1307', 'v1308', 'v1309', 'v1310', 'v1311', 'v1312', 'v1313', 'v1314', 'v1315', 'v1316', 'v1317', 'v1318', 'v1319', 'v1320', 'v1321', 'v1322', 'v1323', 'v1324', 'v1325', 'v1326', 'v1327', 'v1328', 'v1329', 'v1330', 'v1331', 'v1332', 'v1333', 'v1334', 'v1335', 'v1336', 'v1337', 'v1338', 'v1339', 'v1340', 'v1341', 'v1342', 'v1343', 'v1344', 'v1345', 'v1346', 'v1347', 'v1348', 'v1349', 'v1350', 'v1351', 'v1352', 'v1353', 'v1354', 'v1355', 'v1356', 'v1357', 'v1358', 'v1359', 'v1360', 'v1361', 'v1362', 'v1363', 'v1364', 'v1365', 'v1366', 'v1367', 'v1368', 'v1369', 'v1370', 'v1371', 'v1372', 'v1373', 'v1374', 'v1375', 'v1376', 'v1377', 'v1378', 'v1379', 'v1380', 'v1381', 'v1382', 'v1383', 'v1384', 'v1385', 'v1386', 'v1387', 'v1388', 'v1389', 'v1390', 'v1391', 'v1392', 'v1393', 'v1394', 'v1395', 'v1396', 'v1397', 'v1398', 'v1399', 'v1400', 'v1401', 'v1402', 'v1403', 'v1404', 'v1405', 'v1406', 'v1407', 'v1408', 'v1409', 'v1410', 'v1411', 'v1412', 'v1413', 'v1414', 'v1415', 'v1416', 'v1417', 'v1418', 'v1419', 'v1420', 'v1421', 'v1422', 'v1423', 'v1424', 'v1425', 'v1426', 'v1427', 'v1428', 'v1429', 'v1430', 'v1431', 'v1432', 'v1433', 'v1434', 'v1435', 'v1436', 'v1437', 'v1438', 'v1439', 'v1440', 'v1441', 'v1442', 'v1443', 'v1444', 'v1445', 'v1446', 'v1447', 'v1448', 'v1449', 'v1450', 'v1451', 'v1452', 'v1453', 'v1454', 'v1455', 'v1456', 'v1457', 'v1458', 'v1459', 'v1460', 'v1461', 'v1462', 'v1463', 'v1464', 'v1465', 'v1466', 'v1467', 'v1468', 'v1469', 'v1470', 'v1471', 'v1472', 'v1473', 'v1474', 'v1475', 'v1476', 'v1477', 'v1478', 'v1479', 'v1480', 'v1481', 'v1482', 'v1483', 'v1484', 'v1485', 'v1486', 'v1487', 'v1488', 'v1489', 'v1490', 'v1491', 'v1492', 'v1493', 'v1494', 'v1495', 'v1496', 'v1497', 'v1498', 'v1499', 'v1500', 'v1501', 'v1502', 'v1503', 'v1504', 'v1505', 'v1506', 'v1507', 'v1508', 'v1509', 'v1510', 'v1511', 'v1512', 'v1513', 'v1514', 'v1515', 'v1516', 'v1517', 'v1518', 'v1519', 'v1520', 'v1521', 'v1522', 'v1523', 'v1524', 'v1525', 'v1526', 'v1527', 'v1528', 'v1529', 'v1530', 'v1531', 'v1532', 'v1533', 'v1534', 'v1535', 'v1536', 'v1537', 'v1538', 'v1539', 'v1540', 'v1541', 'v1542', 'v1543', 'v1544', 'v1545', 'v1546', 'v1547', 'v1548', 'v1549', 'v1550', 'v1551', 'v1552', 'v1553', 'v1554', 'v1555', 'v1556', 'v1557', 'v1558', 'v1559', 'v1560', 'v1561', 'v1562', 'v1563', 'v1564', 'v1565', 'v1566', 'v1567', 'v1568', 'v1569', 'v1570', 'v1571', 'v1572', 'v1573', 'v1574', 'v1575', 'v1576', 'v1577', 'v1578', 'v1579', 'v1580', 'v1581', 'v1582', 'v1583', 'v1584', 'v1585', 'v1586', 'v1587', 'v1588', 'v1589', 'v1590', 'v1591', 'v1592', 'v1593', 'v1594', 'v1595', 'v1596', 'v1597', 'v1598', 'v1599', 'v1600', 'v1601', 'v1602', 'v1603', 'v1604', 'v1605', 'v1606', 'v1607', 'v1608', 'v1609', 'v1610', 'v1611', 'v1612', 'v1613', 'v1614', 'v1615', 'v1616', 'v1617', 'v1618', 'v1619', 'v1620', 'v1621', 'v1622', 'v1623', 'v1624', 'v1625', 'v1626', 'v1627', 'v1628', 'v1629', 'v1630', 'v1631', 'v1632', 'v1633', 'v1634', 'v1635', 'v1636', 'v1637', 'v1638', 'v1639', 'v1640', 'v1641', 'v1642', 'v1643', 'v1644', 'v1645', 'v1646', 'v1647', 'v1648', 'v1649', 'v1650', 'v1651', 'v1652', 'v1653', 'v1654', 'v1655', 'v1656', 'v1657', 'v1658', 'v1659', 'v1660', 'v1661', 'v1662', 'v1663', 'v1664', 'v1665', 'v1666', 'v1667', 'v1668', 'v1669', 'v1670', 'v1671', 'v1672', 'v1673', 'v1674', 'v1675', 'v1676', 'v1677', 'v1678', 'v1679', 'v1680', 'v1681', 'v1682', 'v1683', 'v1684', 'v1685', 'v1686', 'v1687', 'v1688', 'v1689', 'v1690', 'v1691', 'v1692', 'v1693', 'v1694', 'v1695', 'v1696', 'v1697', 'v1698', 'v1699', 'v1700', 'v1701', 'v1702', 'v1703', 'v1704', 'v1705', 'v1706', 'v1707', 'v1708', 'v1709', 'v1710', 'v1711', 'v1712', 'v1713', 'v1714', 'v1715', 'v1716', 'v1717', 'v1718', 'v1719', 'v1720', 'v1721', 'v1722', 'v1723', 'v1724', 'v1725', 'v1726', 'v1727', 'v1728', 'v1729', 'v1730', 'v1731', 'v1732', 'v1733', 'v1734', 'v1735', 'v1736', 'v1737', 'v1738', 'v1739', 'v1740', 'v1741', 'v1742', 'v1743', 'v1744', 'v1745', 'v1746', 'v1747', 'v1748', 'v1749', 'v1750', 'v1751', 'v1752', 'v1753', 'v1754', 'v1755', 'v1756', 'v1757', 'v1758', 'v1759', 'v1760', 'v1761', 'v1762', 'v1763', 'v1764', 'v1765', 'v1766', 'v1767', 'v1768', 'v1769', 'v1770', 'v1771', 'v1772', 'v1773', 'v1774', 'v1775', 'v1776', 'v1777', 'v1778', 'v1779', 'v1780', 'v1781', 'v1782', 'v1783', 'v1784', 'v1785', 'v1786', 'v1787', 'v1788', 'v1789', 'v1790', 'v1791', 'v1792', 'v1793', 'v1794', 'v1795', 'v1796', 'v1797', 'v1798', 'v1799', 'v1800', 'v1801', 'v1802', 'v1803', 'v1804', 'v1805', 'v1806', 'v1807', 'v1808', 'v1809', 'v1810', 'v1811', 'v1812', 'v1813', 'v1814', 'v1815', 'v1816', 'v1817', 'v1818', 'v1819', 'v1820', 'v1821', 'v1822', 'v1823', 'v1824', 'v1825', 'v1826', 'v1827', 'v1828', 'v1829', 'v1830', 'v1831', 'v1832', 'v1833', 'v1834', 'v1835', 'v1836', 'v1837', 'v1838', 'v1839', 'v1840', 'v1841', 'v1842', 'v1843', 'v1844', 'v1845', 'v1846', 'v1847', 'v1848', 'v1849', 'v1850', 'v1851', 'v1852', 'v1853', 'v1854', 'v1855', 'v1856', 'v1857', 'v1858', 'v1859', 'v1860', 'v1861', 'v1862', 'v1863', 'v1864', 'v1865', 'v1866', 'v1867', 'v1868', 'v1869', 'v1870', 'v1871', 'v1872', 'v1873', 'v1874', 'v1875', 'v1876', 'v1877', 'v1878', 'v1879', 'v1880', 'v1881', 'v1882', 'v1883', 'v1884', 'v1885', 'v1886', 'v1887', 'v1888', 'v1889', 'v1890', 'v1891', 'v1892', 'v1893', 'v1894', 'v1895', 'v1896', 'v1897', 'v1898', 'v1899', 'v1900', 'v1901', 'v1902', 'v1903', 'v1904', 'v1905', 'v1906', 'v1907', 'v1908', 'v1909', 'v1910', 'v1911', 'v1912', 'v1913', 'v1914', 'v1915', 'v1916', 'v1917', 'v1918', 'v1919', 'v1920', 'v1921', 'v1922', 'v1923', 'v1924', 'v1925', 'v1926', 'v1927', 'v1928', 'v1929', 'v1930', 'v1931', 'v1932', 'v1933', 'v1934', 'v1935', 'v1936', 'v1937', 'v1938', 'v1939', 'v1940', 'v1941', 'v1942', 'v1943', 'v1944', 'v1945', 'v1946', 'v1947', 'v1948', 'v1949', 'v1950', 'v1951', 'v1952', 'v1953', 'v1954', 'v1955', 'v1956', 'v1957', 'v1958', 'v1959', 'v1960', 'v1961', 'v1962', 'v1963', 'v1964', 'v1965', 'v1966', 'v1967', 'v1968', 'v1969', 'v1970', 'v1971', 'v1972', 'v1973', 'v1974', 'v1975', 'v1976', 'v1977', 'v1978', 'v1979', 'v1980', 'v1981', 'v1982', 'v1983', 'v1984', 'v1985', 'v1986', 'v1987', 'v1988', 'v1989', 'v1990', 'v1991', 'v1992', 'v1993', 'v1994', 'v1995', 'v1996', 'v1997', 'v1998', 'v1999', 'v2000', 'v2001', 'v2002', 'v2003', 'v2004', 'v2005', 'v2006', 'v2007', 'v2008', 'v2009', 'v2010', 'v2011', 'v2012', 'v2013', 'v2014', 'v2015', 'v2016', 'v2017', 'v2018', 'v2019', 'v2020', 'v2021', 'v2022', 'v2023', 'v2024', 'v2025', 'v2026', 'v2027', 'v2028', 'v2029', 'v2030', 'v2031', 'v2032', 'v2033', 'v2034', 'v2035', 'v2036', 'v2037', 'v2038', 'v2039', 'v2040', 'v2041', 'v2042', 'v2043', 'v2044', 'v2045', 'v2046', 'v2047', 'v2048']]\n"
     ]
    }
   ],
   "source": [
    "print(head_np)"
   ]
  },
  {
   "cell_type": "code",
   "execution_count": 23,
   "metadata": {},
   "outputs": [],
   "source": [
    "with open('resnet50_trained_on_cvledb_awe_augmented100_tested_ami.csv', 'w') as csvFile:\n",
    "    writer = csv.writer(csvFile)\n",
    "    writer.writerows(head_np)\n",
    "    writer.writerows(feature_list)\n",
    "csvFile.close()"
   ]
  },
  {
   "cell_type": "code",
   "execution_count": null,
   "metadata": {},
   "outputs": [],
   "source": []
  }
 ],
 "metadata": {
  "kernelspec": {
   "display_name": "Python 3",
   "language": "python",
   "name": "python3"
  },
  "language_info": {
   "codemirror_mode": {
    "name": "ipython",
    "version": 3
   },
   "file_extension": ".py",
   "mimetype": "text/x-python",
   "name": "python",
   "nbconvert_exporter": "python",
   "pygments_lexer": "ipython3",
   "version": "3.6.8"
  }
 },
 "nbformat": 4,
 "nbformat_minor": 2
}
