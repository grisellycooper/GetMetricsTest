{
 "cells": [
  {
   "cell_type": "code",
   "execution_count": 13,
   "metadata": {},
   "outputs": [],
   "source": [
    "import pandas as pd\n",
    "import csv\n",
    "import numpy as np\n",
    "import matplotlib.pyplot as plt\n",
    "\n",
    "from sklearn.decomposition import PCA\n",
    "from sklearn.preprocessing import MinMaxScaler\n",
    "from sklearn.metrics import mean_squared_error"
   ]
  },
  {
   "cell_type": "code",
   "execution_count": 23,
   "metadata": {},
   "outputs": [],
   "source": [
    "csvfilename = \"fusion_feature_vectors/resnet50_plus_lpq_rilpq_ami.csv\"\n",
    "data = pd.read_csv(csvfilename)\n",
    "X = data.drop('class', axis=1)  \n",
    "y = data['class']"
   ]
  },
  {
   "cell_type": "code",
   "execution_count": 24,
   "metadata": {},
   "outputs": [
    {
     "data": {
      "text/html": [
       "<div>\n",
       "<style scoped>\n",
       "    .dataframe tbody tr th:only-of-type {\n",
       "        vertical-align: middle;\n",
       "    }\n",
       "\n",
       "    .dataframe tbody tr th {\n",
       "        vertical-align: top;\n",
       "    }\n",
       "\n",
       "    .dataframe thead th {\n",
       "        text-align: right;\n",
       "    }\n",
       "</style>\n",
       "<table border=\"1\" class=\"dataframe\">\n",
       "  <thead>\n",
       "    <tr style=\"text-align: right;\">\n",
       "      <th></th>\n",
       "      <th>v1</th>\n",
       "      <th>v2</th>\n",
       "      <th>v3</th>\n",
       "      <th>v4</th>\n",
       "      <th>v5</th>\n",
       "      <th>v6</th>\n",
       "      <th>v7</th>\n",
       "      <th>v8</th>\n",
       "      <th>v9</th>\n",
       "      <th>v10</th>\n",
       "      <th>...</th>\n",
       "      <th>v20471</th>\n",
       "      <th>v20472</th>\n",
       "      <th>v20473</th>\n",
       "      <th>v20474</th>\n",
       "      <th>v20475</th>\n",
       "      <th>v20476</th>\n",
       "      <th>v20477</th>\n",
       "      <th>v20478</th>\n",
       "      <th>v20479</th>\n",
       "      <th>v20480</th>\n",
       "    </tr>\n",
       "  </thead>\n",
       "  <tbody>\n",
       "    <tr>\n",
       "      <th>0</th>\n",
       "      <td>85.0</td>\n",
       "      <td>46.0</td>\n",
       "      <td>44.0</td>\n",
       "      <td>45.0</td>\n",
       "      <td>46.0</td>\n",
       "      <td>69.0</td>\n",
       "      <td>0.0</td>\n",
       "      <td>2.0</td>\n",
       "      <td>1.0</td>\n",
       "      <td>5.0</td>\n",
       "      <td>...</td>\n",
       "      <td>0.0</td>\n",
       "      <td>0.0</td>\n",
       "      <td>2.0</td>\n",
       "      <td>2.0</td>\n",
       "      <td>1.0</td>\n",
       "      <td>4.0</td>\n",
       "      <td>0.0</td>\n",
       "      <td>4.0</td>\n",
       "      <td>2.0</td>\n",
       "      <td>2.0</td>\n",
       "    </tr>\n",
       "    <tr>\n",
       "      <th>1</th>\n",
       "      <td>86.0</td>\n",
       "      <td>45.0</td>\n",
       "      <td>44.0</td>\n",
       "      <td>44.0</td>\n",
       "      <td>44.0</td>\n",
       "      <td>68.0</td>\n",
       "      <td>3.0</td>\n",
       "      <td>2.0</td>\n",
       "      <td>2.0</td>\n",
       "      <td>0.0</td>\n",
       "      <td>...</td>\n",
       "      <td>2.0</td>\n",
       "      <td>5.0</td>\n",
       "      <td>6.0</td>\n",
       "      <td>0.0</td>\n",
       "      <td>2.0</td>\n",
       "      <td>0.0</td>\n",
       "      <td>1.0</td>\n",
       "      <td>0.0</td>\n",
       "      <td>2.0</td>\n",
       "      <td>1.0</td>\n",
       "    </tr>\n",
       "    <tr>\n",
       "      <th>2</th>\n",
       "      <td>85.0</td>\n",
       "      <td>44.0</td>\n",
       "      <td>44.0</td>\n",
       "      <td>44.0</td>\n",
       "      <td>44.0</td>\n",
       "      <td>68.0</td>\n",
       "      <td>4.0</td>\n",
       "      <td>4.0</td>\n",
       "      <td>3.0</td>\n",
       "      <td>1.0</td>\n",
       "      <td>...</td>\n",
       "      <td>5.0</td>\n",
       "      <td>7.0</td>\n",
       "      <td>4.0</td>\n",
       "      <td>0.0</td>\n",
       "      <td>2.0</td>\n",
       "      <td>1.0</td>\n",
       "      <td>2.0</td>\n",
       "      <td>3.0</td>\n",
       "      <td>1.0</td>\n",
       "      <td>0.0</td>\n",
       "    </tr>\n",
       "    <tr>\n",
       "      <th>3</th>\n",
       "      <td>85.0</td>\n",
       "      <td>45.0</td>\n",
       "      <td>45.0</td>\n",
       "      <td>45.0</td>\n",
       "      <td>45.0</td>\n",
       "      <td>68.0</td>\n",
       "      <td>2.0</td>\n",
       "      <td>2.0</td>\n",
       "      <td>2.0</td>\n",
       "      <td>2.0</td>\n",
       "      <td>...</td>\n",
       "      <td>3.0</td>\n",
       "      <td>6.0</td>\n",
       "      <td>5.0</td>\n",
       "      <td>0.0</td>\n",
       "      <td>3.0</td>\n",
       "      <td>0.0</td>\n",
       "      <td>4.0</td>\n",
       "      <td>3.0</td>\n",
       "      <td>1.0</td>\n",
       "      <td>0.0</td>\n",
       "    </tr>\n",
       "    <tr>\n",
       "      <th>4</th>\n",
       "      <td>88.0</td>\n",
       "      <td>46.0</td>\n",
       "      <td>44.0</td>\n",
       "      <td>45.0</td>\n",
       "      <td>45.0</td>\n",
       "      <td>68.0</td>\n",
       "      <td>1.0</td>\n",
       "      <td>2.0</td>\n",
       "      <td>2.0</td>\n",
       "      <td>1.0</td>\n",
       "      <td>...</td>\n",
       "      <td>4.0</td>\n",
       "      <td>5.0</td>\n",
       "      <td>5.0</td>\n",
       "      <td>0.0</td>\n",
       "      <td>1.0</td>\n",
       "      <td>0.0</td>\n",
       "      <td>1.0</td>\n",
       "      <td>2.0</td>\n",
       "      <td>0.0</td>\n",
       "      <td>1.0</td>\n",
       "    </tr>\n",
       "  </tbody>\n",
       "</table>\n",
       "<p>5 rows × 20480 columns</p>\n",
       "</div>"
      ],
      "text/plain": [
       "     v1    v2    v3    v4    v5    v6   v7   v8   v9  v10  ...  v20471  \\\n",
       "0  85.0  46.0  44.0  45.0  46.0  69.0  0.0  2.0  1.0  5.0  ...     0.0   \n",
       "1  86.0  45.0  44.0  44.0  44.0  68.0  3.0  2.0  2.0  0.0  ...     2.0   \n",
       "2  85.0  44.0  44.0  44.0  44.0  68.0  4.0  4.0  3.0  1.0  ...     5.0   \n",
       "3  85.0  45.0  45.0  45.0  45.0  68.0  2.0  2.0  2.0  2.0  ...     3.0   \n",
       "4  88.0  46.0  44.0  45.0  45.0  68.0  1.0  2.0  2.0  1.0  ...     4.0   \n",
       "\n",
       "   v20472  v20473  v20474  v20475  v20476  v20477  v20478  v20479  v20480  \n",
       "0     0.0     2.0     2.0     1.0     4.0     0.0     4.0     2.0     2.0  \n",
       "1     5.0     6.0     0.0     2.0     0.0     1.0     0.0     2.0     1.0  \n",
       "2     7.0     4.0     0.0     2.0     1.0     2.0     3.0     1.0     0.0  \n",
       "3     6.0     5.0     0.0     3.0     0.0     4.0     3.0     1.0     0.0  \n",
       "4     5.0     5.0     0.0     1.0     0.0     1.0     2.0     0.0     1.0  \n",
       "\n",
       "[5 rows x 20480 columns]"
      ]
     },
     "execution_count": 24,
     "metadata": {},
     "output_type": "execute_result"
    }
   ],
   "source": [
    "X.head()"
   ]
  },
  {
   "cell_type": "code",
   "execution_count": 25,
   "metadata": {},
   "outputs": [
    {
     "data": {
      "text/plain": [
       "(700, 20480)"
      ]
     },
     "execution_count": 25,
     "metadata": {},
     "output_type": "execute_result"
    }
   ],
   "source": [
    "X.shape"
   ]
  },
  {
   "cell_type": "code",
   "execution_count": 26,
   "metadata": {},
   "outputs": [
    {
     "data": {
      "text/plain": [
       "array([[85., 46., 44., 45., 46.],\n",
       "       [86., 45., 44., 44., 44.],\n",
       "       [85., 44., 44., 44., 44.],\n",
       "       [85., 45., 45., 45., 45.],\n",
       "       [88., 46., 44., 45., 45.]])"
      ]
     },
     "execution_count": 26,
     "metadata": {},
     "output_type": "execute_result"
    }
   ],
   "source": [
    "X_ = X.values\n",
    "X_[0:5,0:5]"
   ]
  },
  {
   "cell_type": "code",
   "execution_count": 27,
   "metadata": {},
   "outputs": [],
   "source": [
    "scaler = MinMaxScaler(feature_range=[0, 1])\n",
    "X_rescaled = scaler.fit_transform(X_)"
   ]
  },
  {
   "cell_type": "code",
   "execution_count": 28,
   "metadata": {},
   "outputs": [
    {
     "data": {
      "text/plain": [
       "array([[0.02631579, 0.0952381 , 0.        , 0.0625    , 0.04651163,\n",
       "        0.02083333, 0.        , 0.25      , 0.14285714, 0.71428571],\n",
       "       [0.05263158, 0.04761905, 0.        , 0.        , 0.        ,\n",
       "        0.        , 0.33333333, 0.25      , 0.28571429, 0.        ],\n",
       "       [0.02631579, 0.        , 0.        , 0.        , 0.        ,\n",
       "        0.        , 0.44444444, 0.5       , 0.42857143, 0.14285714],\n",
       "       [0.02631579, 0.04761905, 0.03703704, 0.0625    , 0.02325581,\n",
       "        0.        , 0.22222222, 0.25      , 0.28571429, 0.28571429],\n",
       "       [0.10526316, 0.0952381 , 0.        , 0.0625    , 0.02325581,\n",
       "        0.        , 0.11111111, 0.25      , 0.28571429, 0.14285714],\n",
       "       [0.10526316, 0.14285714, 0.        , 0.        , 0.02325581,\n",
       "        0.        , 0.11111111, 0.125     , 0.        , 0.14285714],\n",
       "       [0.15789474, 0.        , 0.        , 0.125     , 0.        ,\n",
       "        0.        , 0.22222222, 0.25      , 0.42857143, 0.28571429],\n",
       "       [0.05263158, 0.        , 0.03703704, 0.0625    , 0.04651163,\n",
       "        0.08333333, 0.        , 0.        , 0.        , 0.        ],\n",
       "       [0.        , 0.        , 0.        , 0.        , 0.02325581,\n",
       "        0.02083333, 0.11111111, 0.875     , 0.14285714, 0.57142857],\n",
       "       [0.02631579, 0.14285714, 0.        , 0.        , 0.        ,\n",
       "        0.        , 0.        , 0.625     , 0.28571429, 0.42857143]])"
      ]
     },
     "execution_count": 28,
     "metadata": {},
     "output_type": "execute_result"
    }
   ],
   "source": [
    "X_rescaled[0:10,0:10]"
   ]
  },
  {
   "cell_type": "code",
   "execution_count": 29,
   "metadata": {},
   "outputs": [
    {
     "data": {
      "text/plain": [
       "(numpy.ndarray, 700)"
      ]
     },
     "execution_count": 29,
     "metadata": {},
     "output_type": "execute_result"
    }
   ],
   "source": [
    "type(X_rescaled), len(X_rescaled)"
   ]
  },
  {
   "cell_type": "code",
   "execution_count": 30,
   "metadata": {},
   "outputs": [],
   "source": [
    "pca = PCA(n_components=512)\n",
    "X_pca = pca.fit_transform(X_rescaled)\n",
    "#pca.explained_variance_ratio_"
   ]
  },
  {
   "cell_type": "code",
   "execution_count": null,
   "metadata": {},
   "outputs": [],
   "source": []
  },
  {
   "cell_type": "markdown",
   "metadata": {},
   "source": [
    "## Build CSV file"
   ]
  },
  {
   "cell_type": "code",
   "execution_count": 31,
   "metadata": {},
   "outputs": [],
   "source": [
    "feature_vector_list = []\n",
    "for i in range (0, len(y)):\n",
    "    class_np = np.array([y[i]])\n",
    "    feature_vector_np = np.concatenate((class_np, X_pca[i]), axis=0)\n",
    "    feature_vector_list.append(feature_vector_np.flatten())\n",
    "    \n",
    "head = []\n",
    "head.append('class')\n",
    "for i in range(1, len(feature_vector_np)):\n",
    "    head.append('v'+str(i))\n",
    "\n",
    "head_np = []\n",
    "head_np.append(head)\n",
    "\n",
    "with open('resnet50_plus_lpq_rilpq_ami_pca_512.csv', 'w') as csvFile:\n",
    "    writer = csv.writer(csvFile)\n",
    "    writer.writerows(head_np)\n",
    "    writer.writerows(feature_vector_list)\n",
    "csvFile.close()"
   ]
  },
  {
   "cell_type": "code",
   "execution_count": 46,
   "metadata": {},
   "outputs": [],
   "source": []
  }
 ],
 "metadata": {
  "kernelspec": {
   "display_name": "Python 3",
   "language": "python",
   "name": "python3"
  },
  "language_info": {
   "codemirror_mode": {
    "name": "ipython",
    "version": 3
   },
   "file_extension": ".py",
   "mimetype": "text/x-python",
   "name": "python",
   "nbconvert_exporter": "python",
   "pygments_lexer": "ipython3",
   "version": "3.6.8"
  }
 },
 "nbformat": 4,
 "nbformat_minor": 2
}
