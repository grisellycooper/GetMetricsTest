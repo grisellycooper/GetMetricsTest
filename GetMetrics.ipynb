{
 "cells": [
  {
   "cell_type": "markdown",
   "metadata": {},
   "source": [
    "### Get Distance metric"
   ]
  },
  {
   "cell_type": "markdown",
   "metadata": {},
   "source": [
    "##### Chi-squared distance is used to check the similarity among two fecture vectors. Metric Rank-n and MSE info is returned"
   ]
  },
  {
   "cell_type": "code",
   "execution_count": 1,
   "metadata": {},
   "outputs": [],
   "source": [
    "import numpy as np \n",
    "import csv\n",
    "import pandas as pd\n",
    "import matplotlib.pyplot as plt  \n",
    "import matplotlib.ticker as ticker\n",
    "%matplotlib inline\n",
    "\n",
    "from sklearn.metrics import classification_report, confusion_matrix, mean_squared_error\n",
    "from matplotlib.ticker import FuncFormatter"
   ]
  },
  {
   "cell_type": "markdown",
   "metadata": {},
   "source": [
    "### Test"
   ]
  },
  {
   "cell_type": "code",
   "execution_count": null,
   "metadata": {},
   "outputs": [],
   "source": [
    "    data = pd.read_csv(\"calculated_features/awe-awet_lpq.csv\")\n",
    "    X = data.drop('class', axis=1)  \n",
    "    y = data['class']\n",
    "    X_np = X.values\n",
    "    y_np = y.values\n",
    "    s = (len(X_np), len(X_np), 2)\n",
    "    y_pred = np.zeros(s)\n",
    "    print(len(X_np))\n",
    "    # Get distances matrix\n",
    "    for i in range(len(X_np)):\n",
    "        #minimun = 1e+10;    \n",
    "        for j in range (len(X_np)):\n",
    "            dis = chiSquared(X_np[i], X_np[j])\n",
    "            #if dis < minimun and i != j:\n",
    "            #minimun = res\n",
    "            y_pred[i][j] = [dis, y[j]] "
   ]
  },
  {
   "cell_type": "code",
   "execution_count": 54,
   "metadata": {},
   "outputs": [],
   "source": [
    "# Ordcvledber matrix acordance to distance\n",
    "    for i in range(len(y_pred)):\n",
    "        b = y_pred[i]\n",
    "        y_pred[i] = b[b[:,0].argsort()] "
   ]
  },
  {
   "cell_type": "code",
   "execution_count": 55,
   "metadata": {},
   "outputs": [],
   "source": [
    "    rank = 5\n",
    "    count = 0\n",
    "    # Get Rank counting\n",
    "    rankbins = np.zeros(rank+1)\n",
    "    for i in range (len(y_pred)):        \n",
    "        for j in range (len(y_pred)):\n",
    "            if y_pred[i][j][0] == 0.0: #if distance is 0, it's the same vector                \n",
    "                continue\n",
    "            else:\n",
    "                if j > rank: #we are interested in evaluate only the rank-n                    \n",
    "                    rankbins[rank] += 1\n",
    "                    break;\n",
    "                else: \n",
    "                    if y[i] == y_pred[i][j][1]:                                                 \n",
    "                        rankbins[j] += 1                        \n",
    "                        break                    "
   ]
  },
  {
   "cell_type": "code",
   "execution_count": 56,
   "metadata": {},
   "outputs": [
    {
     "data": {
      "text/plain": [
       "(array([   0.,  389.,   94.,   52.,   32.,  433.]), 0, 999, 6)"
      ]
     },
     "execution_count": 56,
     "metadata": {},
     "output_type": "execute_result"
    }
   ],
   "source": [
    "rankbins, count, i, j"
   ]
  },
  {
   "cell_type": "markdown",
   "metadata": {},
   "source": [
    "### Getting Rank1 metric"
   ]
  },
  {
   "cell_type": "code",
   "execution_count": 9,
   "metadata": {},
   "outputs": [],
   "source": [
    "from scipy import spatial\n",
    "def chiSquared(a,b):\n",
    "    res = np.sqrt(0.5*np.sum((a-b)**2/(a+b+1e-6)))\n",
    "    return res\n",
    "\n",
    "def chiSquared2(a,b):\n",
    "    #res = np.sqrt(0.5*np.sum((a-b)**2/(a+b+1e-6)))\n",
    "    return 0.5*np.sum((a-b)**2/(a+b+1e-6))\n",
    "\n",
    "def cosineDistance(a,b):\n",
    "    return spatial.distance.cosine(a,b)\n",
    "\n",
    "def cosineDistance2(a,b):\n",
    "    return 1 - spatial.distance.cosine(a,b) \n",
    "\n",
    "#Input: csvfile // Output: rankbins\n",
    "def getMetrics(csvfilename, rank):\n",
    "    data = pd.read_csv(csvfilename)\n",
    "    Xdf = data.drop('class', axis=1)  \n",
    "    ydf = data['class']\n",
    "    X = Xdf.values\n",
    "    y = ydf.values\n",
    "    s = (len(X), len(X), 2)\n",
    "    y_pred = np.zeros(s)\n",
    "    \n",
    "    # Normalization\n",
    "    #for i in range (0, len(X[0])):\n",
    "        #maximun = max(X[i,:])\n",
    "        #if maximun != 0:\n",
    "            #X[:,i] = X[:,i]/maximun\n",
    "    \n",
    "    # Get distances matrix\n",
    "    for i in range(len(X)):        \n",
    "        for j in range (len(X)):\n",
    "            dis = cosineDistance(X[i], X[j])\n",
    "            y_pred[i][j] = [dis, y[j]] \n",
    "            \n",
    "    # Order matrix acording to distance\n",
    "    for i in range(len(y_pred)):\n",
    "        b = y_pred[i]\n",
    "        y_pred[i] = b[b[:,0].argsort()] \n",
    "        \n",
    "    # Get Rank counting\n",
    "    rankbins = np.zeros(rank+2)\n",
    "    for i in range (len(y_pred)):        \n",
    "        for j in range (len(y_pred)):\n",
    "            if y_pred[i][j][0] == 0.0: #if distance is 0, it's the same vector                \n",
    "                continue\n",
    "            else:\n",
    "                if j > rank: #we are interested in evaluate only the rank-n                    \n",
    "                    rankbins[rank+1] += 1\n",
    "                    break;\n",
    "                else: \n",
    "                    if y[i] == y_pred[i][j][1]:                                                 \n",
    "                        rankbins[j] += 1                        \n",
    "                        break \n",
    "    \n",
    "    rank_rate = rankbins/sum(rankbins)                \n",
    "    return rank_rate"
   ]
  },
  {
   "cell_type": "markdown",
   "metadata": {},
   "source": [
    "### VGG16\n"
   ]
  },
  {
   "cell_type": "code",
   "execution_count": 3,
   "metadata": {},
   "outputs": [
    {
     "data": {
      "text/plain": [
       "(0.127, 0.258, 0.399, 0.4820000000000001)"
      ]
     },
     "execution_count": 3,
     "metadata": {},
     "output_type": "execute_result"
    }
   ],
   "source": [
    "#chi-squared\n",
    "vgg = getMetrics(\"feature_vectors/vgg16_trained_cvledb_plus_ami_tested_awe.csv\", 15)\n",
    "vgg[1], np.sum(vgg[:5]), np.sum(vgg[:10]), np.sum(vgg[:15])"
   ]
  },
  {
   "cell_type": "code",
   "execution_count": 5,
   "metadata": {
    "scrolled": true
   },
   "outputs": [
    {
     "data": {
      "text/plain": [
       "(0.116, 0.256, 0.364, 0.44700000000000006)"
      ]
     },
     "execution_count": 5,
     "metadata": {},
     "output_type": "execute_result"
    }
   ],
   "source": [
    "#chi-squared\n",
    "vgg = getMetrics(\"feature_vectors/vgg16_trained_cvledb_plus_ami_tested_awe_4096.csv\", 15)\n",
    "vgg[1], np.sum(vgg[:5]), np.sum(vgg[:10]), np.sum(vgg[:15])"
   ]
  },
  {
   "cell_type": "markdown",
   "metadata": {},
   "source": [
    "## MobileNet"
   ]
  },
  {
   "cell_type": "code",
   "execution_count": 7,
   "metadata": {},
   "outputs": [
    {
     "data": {
      "text/plain": [
       "(0.103, 0.229, 0.34700000000000003, 0.4340000000000001)"
      ]
     },
     "execution_count": 7,
     "metadata": {},
     "output_type": "execute_result"
    }
   ],
   "source": [
    "#chi-squared\n",
    "mobilenet = getMetrics(\"feature_vectors/mobilenet_trained_on_cvledb_tested_on_awe.csv\", 15)\n",
    "mobilenet[1], np.sum(mobilenet[:5]), np.sum(mobilenet[:10]), np.sum(mobilenet[:15])"
   ]
  },
  {
   "cell_type": "code",
   "execution_count": 10,
   "metadata": {},
   "outputs": [
    {
     "data": {
      "text/plain": [
       "(0.103, 0.229, 0.34700000000000003, 0.4340000000000001)"
      ]
     },
     "execution_count": 10,
     "metadata": {},
     "output_type": "execute_result"
    }
   ],
   "source": [
    "# trained in almost alll cvledb dataset (95%)\n",
    "#chi-squared\n",
    "mobilenet = getMetrics(\"feature_vectors/mobilenet_trained_on_cvledb_tested_on_awe_90_epoch.csv\", 15)\n",
    "mobilenet[1], np.sum(mobilenet[:5]), np.sum(mobilenet[:10]), np.sum(mobilenet[:15])"
   ]
  },
  {
   "cell_type": "markdown",
   "metadata": {},
   "source": [
    "## ResNet50"
   ]
  },
  {
   "cell_type": "code",
   "execution_count": 3,
   "metadata": {},
   "outputs": [
    {
     "data": {
      "text/plain": [
       "(0.9271428571428572,\n",
       " 0.9685714285714286,\n",
       " 0.9785714285714286,\n",
       " 0.9914285714285715)"
      ]
     },
     "execution_count": 3,
     "metadata": {},
     "output_type": "execute_result"
    }
   ],
   "source": [
    "# chi-squared distance \n",
    "# trained on CVLEDB + AWE Datasets\n",
    "# 75% to train - 25% to test - 50 epochs - 64 Batch size\n",
    "# NO data augmentation\n",
    "# tested on AMI\n",
    "resnet = getMetrics(\"feature_vectors/resnet50_trained_on_cvledb_awe_tested_ami.csv\", 15)\n",
    "resnet[1], np.sum(resnet[:5]), np.sum(resnet[:10]), np.sum(resnet[:15])"
   ]
  },
  {
   "cell_type": "code",
   "execution_count": 5,
   "metadata": {},
   "outputs": [
    {
     "data": {
      "text/plain": [
       "(0.9271428571428572,\n",
       " 0.9685714285714286,\n",
       " 0.9785714285714286,\n",
       " 0.9914285714285715)"
      ]
     },
     "execution_count": 5,
     "metadata": {},
     "output_type": "execute_result"
    }
   ],
   "source": [
    "# chi-squared distance\n",
    "# trained on CVLEDB + AWE Datasets\n",
    "# cross validation 75% train - 25% validation - 50 epochs - 64 Batch size\n",
    "# NO data augmentation\n",
    "# tested on AMI\n",
    "resnet = getMetrics(\"feature_vectors/resnet50_trained_on_cvledb_awe_tested_ami_cross_val.csv\", 15)\n",
    "resnet[1], np.sum(resnet[:5]), np.sum(resnet[:10]), np.sum(resnet[:15])"
   ]
  },
  {
   "cell_type": "code",
   "execution_count": 6,
   "metadata": {},
   "outputs": [
    {
     "data": {
      "text/plain": [
       "(0.202, 0.377, 0.48900000000000005, 0.5700000000000001)"
      ]
     },
     "execution_count": 6,
     "metadata": {},
     "output_type": "execute_result"
    }
   ],
   "source": [
    "# chi-squared distance\n",
    "# trained on CVLEDB + AMI Datasets\n",
    "# 100% to train - 50 epochs - 64 Batch size\n",
    "# NO data augmentation\n",
    "# tested on AWE\n",
    "resnet = getMetrics(\"feature_vectors/resnet50_trained_on_cvledb_ami_tested_awe.csv\", 15)\n",
    "resnet[1], np.sum(resnet[:5]), np.sum(resnet[:10]), np.sum(resnet[:15])"
   ]
  },
  {
   "cell_type": "code",
   "execution_count": 7,
   "metadata": {},
   "outputs": [
    {
     "data": {
      "text/plain": [
       "(0.202, 0.377, 0.48900000000000005, 0.5700000000000001)"
      ]
     },
     "execution_count": 7,
     "metadata": {},
     "output_type": "execute_result"
    }
   ],
   "source": [
    "# chi-squared distance\n",
    "# trained on CVLEDB + AMI Datasets\n",
    "# 100% to train - 15 epochs - 64 Batch size\n",
    "# Data augmentation to 100 samples per person\n",
    "    #rotation_range=10,\n",
    "    #width_shift_range=0.15,\n",
    "\t#height_shift_range=0.15,\t\n",
    "\t#horizontal_flip=True,\n",
    "\t#fill_mode=\"constant\")\n",
    "# tested on AWE\n",
    "resnet = getMetrics(\"feature_vectors/resnet50_trained_on_cvledb_ami_augmented100_tested_awe.csv\", 15)\n",
    "resnet[1], np.sum(resnet[:5]), np.sum(resnet[:10]), np.sum(resnet[:15])"
   ]
  },
  {
   "cell_type": "code",
   "execution_count": 8,
   "metadata": {},
   "outputs": [
    {
     "data": {
      "text/plain": [
       "(0.9271428571428572,\n",
       " 0.9685714285714286,\n",
       " 0.9785714285714286,\n",
       " 0.9914285714285715)"
      ]
     },
     "execution_count": 8,
     "metadata": {},
     "output_type": "execute_result"
    }
   ],
   "source": [
    "# chi-squared distance\n",
    "# trained on CVLEDB + AWE Datasets\n",
    "# 100% to train - 25 epochs - 64 Batch size\n",
    "# Data augmentation to 100 samples per person\n",
    "    #rotation_range=10,\n",
    "    #width_shift_range=0.15,\n",
    "\t#height_shift_range=0.15,\t\n",
    "\t#horizontal_flip=True,\n",
    "\t#fill_mode=\"constant\")\n",
    "# tested on AMI\n",
    "resnet = getMetrics(\"feature_vectors/resnet50_trained_on_cvledb_awe_augmented100_tested_ami.csv\", 15)\n",
    "resnet[1], np.sum(resnet[:5]), np.sum(resnet[:10]), np.sum(resnet[:15])"
   ]
  },
  {
   "cell_type": "markdown",
   "metadata": {},
   "source": [
    "### FaceNet"
   ]
  },
  {
   "cell_type": "code",
   "execution_count": 3,
   "metadata": {},
   "outputs": [
    {
     "data": {
      "text/plain": [
       "(0.001, 0.005, 0.010000000000000002, 0.015000000000000006)"
      ]
     },
     "execution_count": 3,
     "metadata": {},
     "output_type": "execute_result"
    }
   ],
   "source": [
    "#cosine\n",
    "facenet = getMetrics(\"facenet_embeddings/embeddings.csv\", 15)\n",
    "facenet[1], np.sum(facenet[:5]), np.sum(facenet[:10]), np.sum(facenet[:15])"
   ]
  },
  {
   "cell_type": "code",
   "execution_count": 6,
   "metadata": {},
   "outputs": [
    {
     "data": {
      "text/plain": [
       "(0.001, 0.005, 0.010000000000000002, 0.015000000000000006)"
      ]
     },
     "execution_count": 6,
     "metadata": {},
     "output_type": "execute_result"
    }
   ],
   "source": [
    "#chi-squared\n",
    "facenet = getMetrics(\"facenet_embeddings/embeddings.csv\", 15)\n",
    "facenet[1], np.sum(facenet[:5]), np.sum(facenet[:10]), np.sum(facenet[:15])"
   ]
  },
  {
   "cell_type": "markdown",
   "metadata": {},
   "source": [
    "# Handcrafted\n",
    "\n",
    "- 7 techniques (BSIF, DSIFT, HOG, LBP, LPQ, POEM, RILPQ)\n",
    "- Rectangular cut ear images"
   ]
  },
  {
   "cell_type": "markdown",
   "metadata": {},
   "source": [
    "### AMI Dataset\n",
    "http://ctim.ulpgc.es/research_works/ami_ear_database/#cita"
   ]
  },
  {
   "cell_type": "code",
   "execution_count": 3,
   "metadata": {},
   "outputs": [
    {
     "data": {
      "text/plain": [
       "(0.6828571428571428, 0.7542857142857143, 0.78, 0.7971428571428572)"
      ]
     },
     "execution_count": 3,
     "metadata": {},
     "output_type": "execute_result"
    }
   ],
   "source": [
    "bsif = getMetrics(\"handcrafted_calculated_features/ami-awet_bsif.csv\", 15)\n",
    "bsif[1], np.sum(bsif[:5]), np.sum(bsif[:10]), np.sum(bsif[:15])"
   ]
  },
  {
   "cell_type": "code",
   "execution_count": 4,
   "metadata": {},
   "outputs": [
    {
     "data": {
      "text/plain": [
       "(0.4085714285714286,\n",
       " 0.5485714285714286,\n",
       " 0.6314285714285715,\n",
       " 0.6942857142857142)"
      ]
     },
     "execution_count": 4,
     "metadata": {},
     "output_type": "execute_result"
    }
   ],
   "source": [
    "dsift = getMetrics(\"handcrafted_calculated_features/ami-awet_dsift.csv\", 15)\n",
    "dsift[1], np.sum(dsift[:5]), np.sum(dsift[:10]), np.sum(dsift[:15])"
   ]
  },
  {
   "cell_type": "code",
   "execution_count": 5,
   "metadata": {},
   "outputs": [
    {
     "data": {
      "text/plain": [
       "(0.6171428571428571, 0.6828571428571428, 0.717142857142857, 0.7399999999999999)"
      ]
     },
     "execution_count": 5,
     "metadata": {},
     "output_type": "execute_result"
    }
   ],
   "source": [
    "hog = getMetrics(\"handcrafted_calculated_features/ami-awet_hog.csv\", 15)\n",
    "hog[1], np.sum(hog[:5]), np.sum(hog[:10]), np.sum(hog[:15])"
   ]
  },
  {
   "cell_type": "code",
   "execution_count": 6,
   "metadata": {},
   "outputs": [
    {
     "data": {
      "text/plain": [
       "(0.6657142857142857,\n",
       " 0.7400000000000001,\n",
       " 0.7771428571428571,\n",
       " 0.7914285714285715)"
      ]
     },
     "execution_count": 6,
     "metadata": {},
     "output_type": "execute_result"
    }
   ],
   "source": [
    "lbp = getMetrics(\"handcrafted_calculated_features/ami-awet_lbp.csv\", 15)\n",
    "lbp[1], np.sum(lbp[:5]), np.sum(lbp[:10]), np.sum(lbp[:15])"
   ]
  },
  {
   "cell_type": "code",
   "execution_count": 7,
   "metadata": {},
   "outputs": [
    {
     "data": {
      "text/plain": [
       "(0.7114285714285714,\n",
       " 0.7628571428571428,\n",
       " 0.7914285714285714,\n",
       " 0.8171428571428572)"
      ]
     },
     "execution_count": 7,
     "metadata": {},
     "output_type": "execute_result"
    }
   ],
   "source": [
    "lpq = getMetrics(\"handcrafted_calculated_features/ami-awet_lpq.csv\", 15)\n",
    "lpq[1], np.sum(lpq[:5]), np.sum(lpq[:10]), np.sum(lpq[:15])"
   ]
  },
  {
   "cell_type": "code",
   "execution_count": 8,
   "metadata": {},
   "outputs": [
    {
     "data": {
      "text/plain": [
       "(0.6285714285714286,\n",
       " 0.7171428571428571,\n",
       " 0.7571428571428571,\n",
       " 0.7828571428571429)"
      ]
     },
     "execution_count": 8,
     "metadata": {},
     "output_type": "execute_result"
    }
   ],
   "source": [
    "poem = getMetrics(\"handcrafted_calculated_features/ami-awet_poem.csv\", 15)\n",
    "poem[1], np.sum(poem[:5]), np.sum(poem[:10]), np.sum(poem[:15])"
   ]
  },
  {
   "cell_type": "code",
   "execution_count": 9,
   "metadata": {},
   "outputs": [
    {
     "data": {
      "text/plain": [
       "(0.7057142857142857,\n",
       " 0.7628571428571429,\n",
       " 0.8000000000000002,\n",
       " 0.8200000000000003)"
      ]
     },
     "execution_count": 9,
     "metadata": {},
     "output_type": "execute_result"
    }
   ],
   "source": [
    "rilpq = getMetrics(\"handcrafted_calculated_features/ami-awet_rilpq.csv\", 15)\n",
    "rilpq[1], np.sum(rilpq[:5]), np.sum(rilpq[:10]), np.sum(rilpq[:15])"
   ]
  },
  {
   "cell_type": "markdown",
   "metadata": {},
   "source": [
    "### AWE Dataset\n",
    "http://awe.fri.uni-lj.si/download"
   ]
  },
  {
   "cell_type": "code",
   "execution_count": 10,
   "metadata": {},
   "outputs": [
    {
     "data": {
      "text/plain": [
       "(0.438, 0.5890000000000001, 0.6859999999999999, 0.745)"
      ]
     },
     "execution_count": 10,
     "metadata": {},
     "output_type": "execute_result"
    }
   ],
   "source": [
    "bsif = getMetrics(\"handcrafted_calculated_features/awe-awet_bsif.csv\", 15)\n",
    "bsif[1], np.sum(bsif[:5]), np.sum(bsif[:10]), np.sum(bsif[:15])"
   ]
  },
  {
   "cell_type": "code",
   "execution_count": 11,
   "metadata": {},
   "outputs": [
    {
     "data": {
      "text/plain": [
       "(0.395, 0.544, 0.648, 0.7020000000000001)"
      ]
     },
     "execution_count": 11,
     "metadata": {},
     "output_type": "execute_result"
    }
   ],
   "source": [
    "dsift = getMetrics(\"handcrafted_calculated_features/awe-awet_dsift.csv\", 15)\n",
    "dsift[1], np.sum(dsift[:5]), np.sum(dsift[:10]), np.sum(dsift[:15])"
   ]
  },
  {
   "cell_type": "code",
   "execution_count": 12,
   "metadata": {},
   "outputs": [
    {
     "data": {
      "text/plain": [
       "(0.445, 0.6100000000000001, 0.7100000000000001, 0.7570000000000001)"
      ]
     },
     "execution_count": 12,
     "metadata": {},
     "output_type": "execute_result"
    }
   ],
   "source": [
    "hog = getMetrics(\"handcrafted_calculated_features/awe-awet_hog.csv\", 15)\n",
    "hog[1], np.sum(hog[:5]), np.sum(hog[:10]), np.sum(hog[:15])"
   ]
  },
  {
   "cell_type": "code",
   "execution_count": 13,
   "metadata": {},
   "outputs": [
    {
     "data": {
      "text/plain": [
       "(0.407, 0.5760000000000001, 0.682, 0.7260000000000001)"
      ]
     },
     "execution_count": 13,
     "metadata": {},
     "output_type": "execute_result"
    }
   ],
   "source": [
    "lbp = getMetrics(\"handcrafted_calculated_features/awe-awet_lbp.csv\", 15)\n",
    "lbp[1], np.sum(lbp[:5]), np.sum(lbp[:10]), np.sum(lbp[:15])"
   ]
  },
  {
   "cell_type": "code",
   "execution_count": 14,
   "metadata": {},
   "outputs": [
    {
     "data": {
      "text/plain": [
       "(0.39, 0.5650000000000001, 0.686, 0.7460000000000001)"
      ]
     },
     "execution_count": 14,
     "metadata": {},
     "output_type": "execute_result"
    }
   ],
   "source": [
    "lpq = getMetrics(\"handcrafted_calculated_features/awe-awet_lpq.csv\", 15)\n",
    "lpq[1], np.sum(lpq[:5]), np.sum(lpq[:10]), np.sum(lpq[:15])"
   ]
  },
  {
   "cell_type": "code",
   "execution_count": 15,
   "metadata": {},
   "outputs": [
    {
     "data": {
      "text/plain": [
       "(0.467, 0.6240000000000001, 0.7190000000000001, 0.7700000000000001)"
      ]
     },
     "execution_count": 15,
     "metadata": {},
     "output_type": "execute_result"
    }
   ],
   "source": [
    "poem = getMetrics(\"handcrafted_calculated_features/awe-awet_poem.csv\", 15)\n",
    "poem[1], np.sum(poem[:5]), np.sum(poem[:10]), np.sum(poem[:15])"
   ]
  },
  {
   "cell_type": "code",
   "execution_count": 16,
   "metadata": {},
   "outputs": [
    {
     "data": {
      "text/plain": [
       "(0.376, 0.534, 0.638, 0.6940000000000001)"
      ]
     },
     "execution_count": 16,
     "metadata": {},
     "output_type": "execute_result"
    }
   ],
   "source": [
    "rilpq = getMetrics(\"handcrafted_calculated_features/awe-awet_rilpq.csv\", 15)\n",
    "rilpq[1], np.sum(rilpq[:5]), np.sum(rilpq[:10]), np.sum(rilpq[:15])"
   ]
  },
  {
   "cell_type": "markdown",
   "metadata": {},
   "source": [
    "### CVLEBD\n",
    "http://awe.fri.uni-lj.si/download"
   ]
  },
  {
   "cell_type": "code",
   "execution_count": 17,
   "metadata": {},
   "outputs": [
    {
     "data": {
      "text/plain": [
       "(0.7823383084577115,\n",
       " 0.9054726368159204,\n",
       " 0.9477611940298508,\n",
       " 0.9639303482587065)"
      ]
     },
     "execution_count": 17,
     "metadata": {},
     "output_type": "execute_result"
    }
   ],
   "source": [
    "bsif = getMetrics(\"handcrafted_calculated_features/cvledb-awet_bsif.csv\", 15)\n",
    "bsif[1], np.sum(bsif[:5]), np.sum(bsif[:10]), np.sum(bsif[:15])"
   ]
  },
  {
   "cell_type": "code",
   "execution_count": 18,
   "metadata": {},
   "outputs": [
    {
     "data": {
      "text/plain": [
       "(0.7164179104477612,\n",
       " 0.8768656716417911,\n",
       " 0.9365671641791045,\n",
       " 0.9502487562189055)"
      ]
     },
     "execution_count": 18,
     "metadata": {},
     "output_type": "execute_result"
    }
   ],
   "source": [
    "dsift = getMetrics(\"handcrafted_calculated_features/cvledb-awet_dsift.csv\", 15)\n",
    "dsift[1], np.sum(dsift[:5]), np.sum(dsift[:10]), np.sum(dsift[:15])"
   ]
  },
  {
   "cell_type": "code",
   "execution_count": 19,
   "metadata": {},
   "outputs": [
    {
     "data": {
      "text/plain": [
       "(0.7972636815920398,\n",
       " 0.9191542288557213,\n",
       " 0.9564676616915423,\n",
       " 0.9676616915422886)"
      ]
     },
     "execution_count": 19,
     "metadata": {},
     "output_type": "execute_result"
    }
   ],
   "source": [
    "hog = getMetrics(\"handcrafted_calculated_features/cvledb-awet_hog.csv\", 15)\n",
    "hog[1], np.sum(hog[:5]), np.sum(hog[:10]), np.sum(hog[:15])"
   ]
  },
  {
   "cell_type": "code",
   "execution_count": 20,
   "metadata": {},
   "outputs": [
    {
     "data": {
      "text/plain": [
       "(0.7674129353233831,\n",
       " 0.9004975124378108,\n",
       " 0.9390547263681592,\n",
       " 0.9639303482587064)"
      ]
     },
     "execution_count": 20,
     "metadata": {},
     "output_type": "execute_result"
    }
   ],
   "source": [
    "lbp = getMetrics(\"handcrafted_calculated_features/cvledb-awet_lbp.csv\", 15)\n",
    "lbp[1], np.sum(lbp[:5]), np.sum(lbp[:10]), np.sum(lbp[:15])"
   ]
  },
  {
   "cell_type": "code",
   "execution_count": 21,
   "metadata": {},
   "outputs": [
    {
     "data": {
      "text/plain": [
       "(0.7761194029850746,\n",
       " 0.9104477611940299,\n",
       " 0.9564676616915422,\n",
       " 0.9763681592039799)"
      ]
     },
     "execution_count": 21,
     "metadata": {},
     "output_type": "execute_result"
    }
   ],
   "source": [
    "lpq = getMetrics(\"handcrafted_calculated_features/cvledb-awet_lpq.csv\", 15)\n",
    "lpq[1], np.sum(lpq[:5]), np.sum(lpq[:10]), np.sum(lpq[:15])"
   ]
  },
  {
   "cell_type": "code",
   "execution_count": 22,
   "metadata": {},
   "outputs": [
    {
     "data": {
      "text/plain": [
       "(0.8072139303482587, 0.914179104477612, 0.9514925373134329, 0.9664179104477613)"
      ]
     },
     "execution_count": 22,
     "metadata": {},
     "output_type": "execute_result"
    }
   ],
   "source": [
    "poem = getMetrics(\"handcrafted_calculated_features/cvledb-awet_poem.csv\", 15)\n",
    "poem[1], np.sum(poem[:5]), np.sum(poem[:10]), np.sum(poem[:15])"
   ]
  },
  {
   "cell_type": "code",
   "execution_count": 23,
   "metadata": {},
   "outputs": [
    {
     "data": {
      "text/plain": [
       "(0.7587064676616916,\n",
       " 0.9042288557213931,\n",
       " 0.9452736318407959,\n",
       " 0.9614427860696517)"
      ]
     },
     "execution_count": 23,
     "metadata": {},
     "output_type": "execute_result"
    }
   ],
   "source": [
    "rilpq = getMetrics(\"handcrafted_calculated_features/cvledb-awet_rilpq.csv\", 15)\n",
    "rilpq[1], np.sum(rilpq[:5]), np.sum(rilpq[:10]), np.sum(rilpq[:15])"
   ]
  },
  {
   "cell_type": "code",
   "execution_count": null,
   "metadata": {},
   "outputs": [],
   "source": []
  },
  {
   "cell_type": "markdown",
   "metadata": {},
   "source": [
    "### Deep Learning"
   ]
  },
  {
   "cell_type": "code",
   "execution_count": 3,
   "metadata": {},
   "outputs": [
    {
     "data": {
      "text/plain": [
       "(0.095, 0.21600000000000003, 0.334, 0.4200000000000001)"
      ]
     },
     "execution_count": 3,
     "metadata": {},
     "output_type": "execute_result"
    }
   ],
   "source": [
    "vgg16 = getMetrics(\"feature_vectors/vgg16_awe_nottunned.csv\", 15)\n",
    "vgg16[1], np.sum(vgg16[:5]), np.sum(vgg16[:10]), np.sum(vgg16[:15])"
   ]
  },
  {
   "cell_type": "code",
   "execution_count": 5,
   "metadata": {
    "scrolled": true
   },
   "outputs": [
    {
     "data": {
      "text/plain": [
       "(0.3694029850746269,\n",
       " 0.6343283582089553,\n",
       " 0.7786069651741293,\n",
       " 0.8495024875621889)"
      ]
     },
     "execution_count": 5,
     "metadata": {},
     "output_type": "execute_result"
    }
   ],
   "source": [
    "vgg16_ = getMetrics(\"feature_vectors/vgg16_cvledb_nottunned.csv\", 15)\n",
    "vgg16_[1], np.sum(vgg16_[:5]), np.sum(vgg16_[:10]), np.sum(vgg16_[:15])"
   ]
  },
  {
   "cell_type": "code",
   "execution_count": 7,
   "metadata": {
    "scrolled": true
   },
   "outputs": [
    {
     "data": {
      "text/plain": [
       "(0.16019955654101994,\n",
       " 0.31651884700665184,\n",
       " 0.4401330376940133,\n",
       " 0.5105321507760532)"
      ]
     },
     "execution_count": 7,
     "metadata": {},
     "output_type": "execute_result"
    }
   ],
   "source": [
    "vgg16_ = getMetrics(\"feature_vectors/vgg16_merged_nottunned.csv\", 15)\n",
    "vgg16_[1], np.sum(vgg16_[:5]), np.sum(vgg16_[:10]), np.sum(vgg16_[:15])"
   ]
  },
  {
   "cell_type": "code",
   "execution_count": 3,
   "metadata": {
    "scrolled": true
   },
   "outputs": [
    {
     "data": {
      "text/plain": [
       "(0.176, 0.32799999999999996, 0.451, 0.515)"
      ]
     },
     "execution_count": 3,
     "metadata": {},
     "output_type": "execute_result"
    }
   ],
   "source": [
    "vgg16_ = getMetrics(\"feature_vectors/vgg16_awe_ft_10e.csv\", 15)\n",
    "vgg16_[1], np.sum(vgg16_[:5]), np.sum(vgg16_[:10]), np.sum(vgg16_[:15])"
   ]
  },
  {
   "cell_type": "code",
   "execution_count": 4,
   "metadata": {
    "scrolled": true
   },
   "outputs": [
    {
     "data": {
      "text/plain": [
       "(0.4092039800995025,\n",
       " 0.6616915422885572,\n",
       " 0.8196517412935324,\n",
       " 0.8718905472636816)"
      ]
     },
     "execution_count": 4,
     "metadata": {},
     "output_type": "execute_result"
    }
   ],
   "source": [
    "vgg16_ = getMetrics(\"feature_vectors/vgg16_cvledb_ft_10e.csv\", 15)\n",
    "vgg16_[1], np.sum(vgg16_[:5]), np.sum(vgg16_[:10]), np.sum(vgg16_[:15])"
   ]
  },
  {
   "cell_type": "code",
   "execution_count": 5,
   "metadata": {
    "scrolled": true
   },
   "outputs": [
    {
     "data": {
      "text/plain": [
       "(0.22671840354767184,\n",
       " 0.39301552106430154,\n",
       " 0.5121951219512194,\n",
       " 0.5875831485587583)"
      ]
     },
     "execution_count": 5,
     "metadata": {},
     "output_type": "execute_result"
    }
   ],
   "source": [
    "vgg16_ = getMetrics(\"feature_vectors/vgg16_merged_ft_10e.csv\", 15)\n",
    "vgg16_[1], np.sum(vgg16_[:5]), np.sum(vgg16_[:10]), np.sum(vgg16_[:15])"
   ]
  },
  {
   "cell_type": "code",
   "execution_count": 3,
   "metadata": {
    "scrolled": true
   },
   "outputs": [
    {
     "data": {
      "text/plain": [
       "(0.175, 0.33399999999999996, 0.457, 0.527)"
      ]
     },
     "execution_count": 3,
     "metadata": {},
     "output_type": "execute_result"
    }
   ],
   "source": [
    "vgg16_ = getMetrics(\"feature_vectors/vgg16_awe_ft_15e.csv\", 15)\n",
    "vgg16_[1], np.sum(vgg16_[:5]), np.sum(vgg16_[:10]), np.sum(vgg16_[:15])"
   ]
  },
  {
   "cell_type": "code",
   "execution_count": 4,
   "metadata": {
    "scrolled": true
   },
   "outputs": [
    {
     "data": {
      "text/plain": [
       "(0.417910447761194, 0.6741293532338308, 0.8208955223880597, 0.8868159203980099)"
      ]
     },
     "execution_count": 4,
     "metadata": {},
     "output_type": "execute_result"
    }
   ],
   "source": [
    "vgg16_ = getMetrics(\"feature_vectors/vgg16_cvledb_ft_15e.csv\", 15)\n",
    "vgg16_[1], np.sum(vgg16_[:5]), np.sum(vgg16_[:10]), np.sum(vgg16_[:15])"
   ]
  },
  {
   "cell_type": "code",
   "execution_count": null,
   "metadata": {
    "scrolled": true
   },
   "outputs": [],
   "source": [
    "vgg16_ = getMetrics(\"feature_vectors/vgg16_merged_ft_15e.csv\", 15)\n",
    "vgg16_[1], np.sum(vgg16_[:5]), np.sum(vgg16_[:10]), np.sum(vgg16_[:15])"
   ]
  },
  {
   "cell_type": "code",
   "execution_count": 3,
   "metadata": {
    "scrolled": true
   },
   "outputs": [
    {
     "data": {
      "text/plain": [
       "(0.201, 0.352, 0.45500000000000007, 0.5380000000000001)"
      ]
     },
     "execution_count": 3,
     "metadata": {},
     "output_type": "execute_result"
    }
   ],
   "source": [
    "vgg16_ = getMetrics(\"feature_vectors/vgg16_awe_ft_15e_4kf.csv\", 15)\n",
    "vgg16_[1], np.sum(vgg16_[:5]), np.sum(vgg16_[:10]), np.sum(vgg16_[:15])"
   ]
  },
  {
   "cell_type": "code",
   "execution_count": 4,
   "metadata": {
    "scrolled": true
   },
   "outputs": [
    {
     "data": {
      "text/plain": [
       "(0.43532338308457713,\n",
       " 0.6753731343283582,\n",
       " 0.7960199004975124,\n",
       " 0.8731343283582089)"
      ]
     },
     "execution_count": 4,
     "metadata": {},
     "output_type": "execute_result"
    }
   ],
   "source": [
    "vgg16_ = getMetrics(\"feature_vectors/vgg16_cvledb_ft_15e_4kf.csv\", 15)\n",
    "vgg16_[1], np.sum(vgg16_[:5]), np.sum(vgg16_[:10]), np.sum(vgg16_[:15])"
   ]
  },
  {
   "cell_type": "code",
   "execution_count": 5,
   "metadata": {
    "scrolled": true
   },
   "outputs": [
    {
     "data": {
      "text/plain": [
       "(0.24168514412416853,\n",
       " 0.41740576496674064,\n",
       " 0.5199556541019955,\n",
       " 0.5825942350332595)"
      ]
     },
     "execution_count": 5,
     "metadata": {},
     "output_type": "execute_result"
    }
   ],
   "source": [
    "vgg16_ = getMetrics(\"feature_vectors/vgg16_merged_ft_15e_4kf.csv\", 15)\n",
    "vgg16_[1], np.sum(vgg16_[:5]), np.sum(vgg16_[:10]), np.sum(vgg16_[:15])"
   ]
  },
  {
   "cell_type": "code",
   "execution_count": 6,
   "metadata": {
    "scrolled": true
   },
   "outputs": [
    {
     "data": {
      "text/plain": [
       "(0.183, 0.32499999999999996, 0.442, 0.51)"
      ]
     },
     "execution_count": 6,
     "metadata": {},
     "output_type": "execute_result"
    }
   ],
   "source": [
    "vgg16_ = getMetrics(\"feature_vectors/vgg16_awe_ft_15e_4kf_merged.csv\", 15)\n",
    "vgg16_[1], np.sum(vgg16_[:5]), np.sum(vgg16_[:10]), np.sum(vgg16_[:15])"
   ]
  },
  {
   "cell_type": "code",
   "execution_count": 7,
   "metadata": {
    "scrolled": true
   },
   "outputs": [
    {
     "data": {
      "text/plain": [
       "(0.5124378109452736, 0.7462686567164178, 0.8544776119402985, 0.900497512437811)"
      ]
     },
     "execution_count": 7,
     "metadata": {},
     "output_type": "execute_result"
    }
   ],
   "source": [
    "vgg16_ = getMetrics(\"feature_vectors/vgg16_cvledb_ft_15e_4kf_merged.csv\", 15)\n",
    "vgg16_[1], np.sum(vgg16_[:5]), np.sum(vgg16_[:10]), np.sum(vgg16_[:15])"
   ]
  },
  {
   "cell_type": "code",
   "execution_count": 8,
   "metadata": {
    "scrolled": true
   },
   "outputs": [
    {
     "data": {
      "text/plain": [
       "(0.2721729490022173,\n",
       " 0.4395787139689578,\n",
       " 0.5454545454545453,\n",
       " 0.6047671840354766)"
      ]
     },
     "execution_count": 8,
     "metadata": {},
     "output_type": "execute_result"
    }
   ],
   "source": [
    "vgg16_ = getMetrics(\"feature_vectors/vgg16_merged_ft_15e_4kf_merged.csv\", 15)\n",
    "vgg16_[1], np.sum(vgg16_[:5]), np.sum(vgg16_[:10]), np.sum(vgg16_[:15])"
   ]
  },
  {
   "cell_type": "code",
   "execution_count": 48,
   "metadata": {
    "scrolled": true
   },
   "outputs": [
    {
     "data": {
      "text/plain": [
       "(0.45149253731343286,\n",
       " 0.7375621890547264,\n",
       " 0.859452736318408,\n",
       " 0.9067164179104479)"
      ]
     },
     "execution_count": 48,
     "metadata": {},
     "output_type": "execute_result"
    }
   ],
   "source": [
    "vgg16_ = getMetrics(\"feature_vectors/vgg16_awe_aug_ft_15e_4kf_cvledb.csv\", 15)\n",
    "vgg16_[1], np.sum(vgg16_[:5]), np.sum(vgg16_[:10]), np.sum(vgg16_[:15])"
   ]
  },
  {
   "cell_type": "code",
   "execution_count": 16,
   "metadata": {
    "scrolled": true
   },
   "outputs": [
    {
     "data": {
      "text/plain": [
       "(0.158, 0.318, 0.42800000000000005, 0.5140000000000001)"
      ]
     },
     "execution_count": 16,
     "metadata": {},
     "output_type": "execute_result"
    }
   ],
   "source": [
    "vgg16_ = getMetrics(\"feature_vectors/vgg16_awe_aug_ft_15e_4kf_awe.csv\", 15)\n",
    "vgg16_[1], np.sum(vgg16_[:5]), np.sum(vgg16_[:10]), np.sum(vgg16_[:15])"
   ]
  },
  {
   "cell_type": "code",
   "execution_count": 17,
   "metadata": {
    "scrolled": true
   },
   "outputs": [
    {
     "data": {
      "text/plain": [
       "(0.2222838137472284,\n",
       " 0.39024390243902435,\n",
       " 0.5266075388026608,\n",
       " 0.5870288248337028)"
      ]
     },
     "execution_count": 17,
     "metadata": {},
     "output_type": "execute_result"
    }
   ],
   "source": [
    "vgg16_ = getMetrics(\"feature_vectors/vgg16_awe_aug_ft_15e_4kf_merged.csv\", 15)\n",
    "vgg16_[1], np.sum(vgg16_[:5]), np.sum(vgg16_[:10]), np.sum(vgg16_[:15])"
   ]
  },
  {
   "cell_type": "code",
   "execution_count": 47,
   "metadata": {
    "scrolled": true
   },
   "outputs": [
    {
     "data": {
      "text/plain": [
       "(0.145, 0.31099999999999994, 0.44100000000000006, 0.5140000000000001)"
      ]
     },
     "execution_count": 47,
     "metadata": {},
     "output_type": "execute_result"
    }
   ],
   "source": [
    "vgg16_ = getMetrics(\"feature_vectors/vgg16_cvledb_aug_ft_15e_4kf_awe.csv\", 15)\n",
    "vgg16_[1], np.sum(vgg16_[:5]), np.sum(vgg16_[:10]), np.sum(vgg16_[:15])"
   ]
  },
  {
   "cell_type": "code",
   "execution_count": 19,
   "metadata": {
    "scrolled": true
   },
   "outputs": [
    {
     "data": {
      "text/plain": [
       "(0.5049751243781094,\n",
       " 0.7276119402985074,\n",
       " 0.8395522388059702,\n",
       " 0.8880597014925373)"
      ]
     },
     "execution_count": 19,
     "metadata": {},
     "output_type": "execute_result"
    }
   ],
   "source": [
    "vgg16_ = getMetrics(\"feature_vectors/vgg16_cvledb_aug_ft_15e_4kf_cvledb.csv\", 15)\n",
    "vgg16_[1], np.sum(vgg16_[:5]), np.sum(vgg16_[:10]), np.sum(vgg16_[:15])"
   ]
  },
  {
   "cell_type": "code",
   "execution_count": 20,
   "metadata": {
    "scrolled": true
   },
   "outputs": [
    {
     "data": {
      "text/plain": [
       "(0.22560975609756098,\n",
       " 0.3952328159645233,\n",
       " 0.5171840354767184,\n",
       " 0.5770509977827052)"
      ]
     },
     "execution_count": 20,
     "metadata": {},
     "output_type": "execute_result"
    }
   ],
   "source": [
    "vgg16_ = getMetrics(\"feature_vectors/vgg16_cvledb_aug_ft_15e_4kf_merged.csv\", 15)\n",
    "vgg16_[1], np.sum(vgg16_[:5]), np.sum(vgg16_[:10]), np.sum(vgg16_[:15])"
   ]
  },
  {
   "cell_type": "code",
   "execution_count": 51,
   "metadata": {
    "scrolled": true
   },
   "outputs": [
    {
     "data": {
      "text/plain": [
       "(0.121, 0.249, 0.37000000000000005, 0.4520000000000001)"
      ]
     },
     "execution_count": 51,
     "metadata": {},
     "output_type": "execute_result"
    }
   ],
   "source": [
    "vgg16_ = getMetrics(\"feature_vectors/vgg16_cvledb_aug_ft_15e_4kf_awe_2.csv\", 15)\n",
    "vgg16_[1], np.sum(vgg16_[:5]), np.sum(vgg16_[:10]), np.sum(vgg16_[:15])"
   ]
  },
  {
   "cell_type": "code",
   "execution_count": null,
   "metadata": {},
   "outputs": [],
   "source": []
  },
  {
   "cell_type": "markdown",
   "metadata": {},
   "source": [
    "## Fusion"
   ]
  },
  {
   "cell_type": "code",
   "execution_count": 64,
   "metadata": {
    "scrolled": true
   },
   "outputs": [
    {
     "name": "stderr",
     "output_type": "stream",
     "text": [
      "/home/sol/.virtualenvs/maskrcnn/lib/python3.6/site-packages/ipykernel_launcher.py:3: RuntimeWarning: invalid value encountered in sqrt\n",
      "  This is separate from the ipykernel package so we can avoid doing imports until\n"
     ]
    },
    {
     "data": {
      "text/plain": [
       "(0.006, 0.029, 0.08200000000000002, 0.14200000000000002)"
      ]
     },
     "execution_count": 64,
     "metadata": {},
     "output_type": "execute_result"
    }
   ],
   "source": [
    "#chi-squared\n",
    "fus = getMetrics(\"fusion_feature_vectors/vgg16_hog.csv\", 15)\n",
    "fus[1], np.sum(fus[:5]), np.sum(fus[:10]), np.sum(fus[:15])"
   ]
  },
  {
   "cell_type": "code",
   "execution_count": 62,
   "metadata": {
    "scrolled": true
   },
   "outputs": [
    {
     "data": {
      "text/plain": [
       "(0.383, 0.5720000000000001, 0.672, 0.7320000000000001)"
      ]
     },
     "execution_count": 62,
     "metadata": {},
     "output_type": "execute_result"
    }
   ],
   "source": [
    "#cosine\n",
    "fus = getMetrics(\"fusion_feature_vectors/vgg16_hog.csv\", 15)\n",
    "fus[1], np.sum(fus[:5]), np.sum(fus[:10]), np.sum(fus[:15])"
   ]
  },
  {
   "cell_type": "code",
   "execution_count": 68,
   "metadata": {
    "scrolled": true
   },
   "outputs": [
    {
     "data": {
      "text/plain": [
       "(0.228, 0.38499999999999995, 0.483, 0.557)"
      ]
     },
     "execution_count": 68,
     "metadata": {},
     "output_type": "execute_result"
    }
   ],
   "source": [
    "#cosine\n",
    "fus = getMetrics(\"fusion_feature_vectors/vgg16_hog_norm.csv\", 15)\n",
    "fus[1], np.sum(fus[:5]), np.sum(fus[:10]), np.sum(fus[:15])"
   ]
  },
  {
   "cell_type": "code",
   "execution_count": 66,
   "metadata": {
    "scrolled": true
   },
   "outputs": [
    {
     "data": {
      "text/plain": [
       "(0.281, 0.443, 0.5830000000000001, 0.6560000000000001)"
      ]
     },
     "execution_count": 66,
     "metadata": {},
     "output_type": "execute_result"
    }
   ],
   "source": [
    "#cosine\n",
    "fus = getMetrics(\"fusion_feature_vectors/vgg16_poem.csv\", 15)\n",
    "fus[1], np.sum(fus[:5]), np.sum(fus[:10]), np.sum(fus[:15])"
   ]
  },
  {
   "cell_type": "code",
   "execution_count": 67,
   "metadata": {
    "scrolled": true
   },
   "outputs": [
    {
     "data": {
      "text/plain": [
       "(0.251, 0.43999999999999995, 0.559, 0.6210000000000001)"
      ]
     },
     "execution_count": 67,
     "metadata": {},
     "output_type": "execute_result"
    }
   ],
   "source": [
    "#cosine\n",
    "fus = getMetrics(\"fusion_feature_vectors/vgg16_bsif.csv\", 15)\n",
    "fus[1], np.sum(fus[:5]), np.sum(fus[:10]), np.sum(fus[:15])"
   ]
  },
  {
   "cell_type": "code",
   "execution_count": null,
   "metadata": {},
   "outputs": [],
   "source": []
  },
  {
   "cell_type": "markdown",
   "metadata": {},
   "source": [
    "## Learned with PCA 512"
   ]
  },
  {
   "cell_type": "code",
   "execution_count": 59,
   "metadata": {
    "scrolled": true
   },
   "outputs": [
    {
     "data": {
      "text/plain": [
       "(0.06716417910447761,\n",
       " 0.16044776119402984,\n",
       " 0.2810945273631841,\n",
       " 0.3694029850746269)"
      ]
     },
     "execution_count": 59,
     "metadata": {},
     "output_type": "execute_result"
    }
   ],
   "source": [
    "vgg16_ = getMetrics(\"feature_vectors/vgg16_awe_aug_ft_15e_4kf_cvledb_pca_512.csv\", 15)\n",
    "vgg16_[1], np.sum(vgg16_[:5]), np.sum(vgg16_[:10]), np.sum(vgg16_[:15])"
   ]
  },
  {
   "cell_type": "code",
   "execution_count": 59,
   "metadata": {
    "scrolled": true
   },
   "outputs": [
    {
     "data": {
      "text/plain": [
       "(0.06716417910447761,\n",
       " 0.16044776119402984,\n",
       " 0.2810945273631841,\n",
       " 0.3694029850746269)"
      ]
     },
     "execution_count": 59,
     "metadata": {},
     "output_type": "execute_result"
    }
   ],
   "source": [
    "vgg16_ = getMetrics(\"feature_vectors/vgg16_awe_aug_ft_15e_4kf_cvledb_pca_512.csv\", 15)\n",
    "vgg16_[1], np.sum(vgg16_[:5]), np.sum(vgg16_[:10]), np.sum(vgg16_[:15])"
   ]
  },
  {
   "cell_type": "code",
   "execution_count": 60,
   "metadata": {
    "scrolled": true
   },
   "outputs": [
    {
     "data": {
      "text/plain": [
       "(0.159, 0.301, 0.43700000000000006, 0.5210000000000001)"
      ]
     },
     "execution_count": 60,
     "metadata": {},
     "output_type": "execute_result"
    }
   ],
   "source": [
    "vgg16_ = getMetrics(\"feature_vectors/vgg16_cvledb_aug_ft_15e_4kf_awe_pca_512.csv\", 15)\n",
    "vgg16_[1], np.sum(vgg16_[:5]), np.sum(vgg16_[:10]), np.sum(vgg16_[:15])"
   ]
  },
  {
   "cell_type": "markdown",
   "metadata": {},
   "source": [
    "## Fusion 2"
   ]
  },
  {
   "cell_type": "code",
   "execution_count": 70,
   "metadata": {
    "scrolled": true
   },
   "outputs": [
    {
     "data": {
      "text/plain": [
       "(0.463, 0.6540000000000001, 0.752, 0.8)"
      ]
     },
     "execution_count": 70,
     "metadata": {},
     "output_type": "execute_result"
    }
   ],
   "source": [
    "# cosine\n",
    "# trained on cvledb augmented and tested on awe\n",
    "vgg16_ = getMetrics(\"vgg16_hog_concat_512.csv\", 15)\n",
    "vgg16_[1], np.sum(vgg16_[:5]), np.sum(vgg16_[:10]), np.sum(vgg16_[:15])"
   ]
  },
  {
   "cell_type": "code",
   "execution_count": 71,
   "metadata": {
    "scrolled": true
   },
   "outputs": [
    {
     "data": {
      "text/plain": [
       "(0.528, 0.7030000000000001, 0.799, 0.8310000000000001)"
      ]
     },
     "execution_count": 71,
     "metadata": {},
     "output_type": "execute_result"
    }
   ],
   "source": [
    "# cosine\n",
    "# trained on cvledb augmented and tested on awe\n",
    "vgg16_ = getMetrics(\"hog_poem_vgg16_concat_512.csv\", 15)\n",
    "vgg16_[1], np.sum(vgg16_[:5]), np.sum(vgg16_[:10]), np.sum(vgg16_[:15])"
   ]
  },
  {
   "cell_type": "code",
   "execution_count": 11,
   "metadata": {
    "scrolled": true
   },
   "outputs": [
    {
     "data": {
      "text/plain": [
       "(0.7542857142857143, 0.8057142857142858, 0.8271428571428573, 0.835714285714286)"
      ]
     },
     "execution_count": 11,
     "metadata": {},
     "output_type": "execute_result"
    }
   ],
   "source": [
    "# cosine\n",
    "resnetlpq = getMetrics(\"fusion_feature_vectors/resnet50_plus_lpq_ami_pca_512.csv\", 15)\n",
    "resnetlpq[1], np.sum(resnetlpq[:5]), np.sum(resnetlpq[:10]), np.sum(resnetlpq[:15])"
   ]
  },
  {
   "cell_type": "code",
   "execution_count": 12,
   "metadata": {
    "scrolled": true
   },
   "outputs": [
    {
     "data": {
      "text/plain": [
       "(0.8057142857142857, 0.8628571428571429, 0.8828571428571429, 0.892857142857143)"
      ]
     },
     "execution_count": 12,
     "metadata": {},
     "output_type": "execute_result"
    }
   ],
   "source": [
    "# cosine\n",
    "resnetlpq = getMetrics(\"fusion_feature_vectors/resnet50_plus_rilpq_ami_pca_512.csv\", 15)\n",
    "resnetlpq[1], np.sum(resnetlpq[:5]), np.sum(resnetlpq[:10]), np.sum(resnetlpq[:15])"
   ]
  },
  {
   "cell_type": "code",
   "execution_count": 13,
   "metadata": {
    "scrolled": true
   },
   "outputs": [
    {
     "data": {
      "text/plain": [
       "(0.7514285714285714,\n",
       " 0.8114285714285715,\n",
       " 0.8271428571428572,\n",
       " 0.8371428571428572)"
      ]
     },
     "execution_count": 13,
     "metadata": {},
     "output_type": "execute_result"
    }
   ],
   "source": [
    "# cosine\n",
    "resnetlpq = getMetrics(\"fusion_feature_vectors/resnet50_plus_lpq_rilpq_ami_pca_512.csv\", 15)\n",
    "resnetlpq[1], np.sum(resnetlpq[:5]), np.sum(resnetlpq[:10]), np.sum(resnetlpq[:15])"
   ]
  },
  {
   "cell_type": "code",
   "execution_count": null,
   "metadata": {},
   "outputs": [],
   "source": []
  },
  {
   "cell_type": "markdown",
   "metadata": {},
   "source": [
    "## Handcrafted usign cosine distance"
   ]
  },
  {
   "cell_type": "code",
   "execution_count": 40,
   "metadata": {},
   "outputs": [
    {
     "data": {
      "text/plain": [
       "(0.367, 0.53, 0.625, 0.6960000000000001)"
      ]
     },
     "execution_count": 40,
     "metadata": {},
     "output_type": "execute_result"
    }
   ],
   "source": [
    "rate_lbp = getMetrics(\"calculated_featurevgg16_awe_aug_ft_15e_4kf_cvledbs/awe-awet_bsif.csv\", 15)\n",
    "rate_lbp[1], np.sum(rate_lbp[:5]), np.sum(rate_lbp[:10]), np.sum(rate_lbp[:15])"
   ]
  },
  {
   "cell_type": "code",
   "execution_count": 41,
   "metadata": {},
   "outputs": [
    {
     "data": {
      "text/plain": [
       "(0.405, 0.548, 0.648, 0.7040000000000001)"
      ]
     },
     "execution_count": 41,
     "metadata": {},
     "output_type": "execute_result"
    }
   ],
   "source": [
    "rate_lbp = getMetrics(\"calculated_features/awe-awet_dsift.csv\", 15)\n",
    "rate_lbp[1], np.sum(rate_lbp[:5]), np.sum(rate_lbp[:10]), np.sum(rate_lbp[:15])"
   ]
  },
  {
   "cell_type": "code",
   "execution_count": 42,
   "metadata": {},
   "outputs": [
    {
     "data": {
      "text/plain": [
       "(0.461, 0.6230000000000001, 0.7250000000000001, 0.7700000000000001)"
      ]
     },
     "execution_count": 42,
     "metadata": {},
     "output_type": "execute_result"
    }
   ],
   "source": [
    "rate_lbp = getMetrics(\"calculated_features/awe-awet_hog.csv\", 15)\n",
    "rate_lbp[1], np.sum(rate_lbp[:5]), np.sum(rate_lbp[:10]), np.sum(rate_lbp[:15])"
   ]
  },
  {
   "cell_type": "code",
   "execution_count": 43,
   "metadata": {},
   "outputs": [
    {
     "data": {
      "text/plain": [
       "(0.302, 0.447, 0.5660000000000001, 0.6260000000000001)"
      ]
     },
     "execution_count": 43,
     "metadata": {},
     "output_type": "execute_result"
    }
   ],
   "source": [
    "rate_lbp = getMetrics(\"calculated_features/awe-awet_lbp.csv\", 15)\n",
    "rate_lbp[1], np.sum(rate_lbp[:5]), np.sum(rate_lbp[:10]), np.sum(rate_lbp[:15])"
   ]
  },
  {
   "cell_type": "code",
   "execution_count": 44,
   "metadata": {},
   "outputs": [
    {
     "data": {
      "text/plain": [
       "(0.336, 0.499, 0.628, 0.6900000000000001)"
      ]
     },
     "execution_count": 44,
     "metadata": {},
     "output_type": "execute_result"
    }
   ],
   "source": [
    "rate_lbp = getMetrics(\"calculated_features/awe-awet_lpq.csv\", 15)\n",
    "rate_lbp[1], np.sum(rate_lbp[:5]), np.sum(rate_lbp[:10]), np.sum(rate_lbp[:15])"
   ]
  },
  {
   "cell_type": "code",
   "execution_count": 45,
   "metadata": {},
   "outputs": [
    {
     "data": {
      "text/plain": [
       "(0.339, 0.505, 0.6110000000000001, 0.6700000000000002)"
      ]
     },
     "execution_count": 45,
     "metadata": {},
     "output_type": "execute_result"
    }
   ],
   "source": [
    "rate_lbp = getMetrics(\"calculated_features/awe-awet_rilpq.csv\", 15)\n",
    "rate_lbp[1], np.sum(rate_lbp[:5]), np.sum(rate_lbp[:10]), np.sum(rate_lbp[:15])"
   ]
  },
  {
   "cell_type": "code",
   "execution_count": 46,
   "metadata": {},
   "outputs": [
    {
     "data": {
      "text/plain": [
       "(0.374, 0.5670000000000001, 0.675, 0.7290000000000001)"
      ]
     },
     "execution_count": 46,
     "metadata": {},
     "output_type": "execute_result"
    }
   ],
   "source": [
    "rate_lbp = getMetrics(\"calculated_features/awe-awet_poem.csv\", 15)\n",
    "rate_lbp[1], np.sum(rate_lbp[:5]), np.sum(rate_lbp[:10]), np.sum(rate_lbp[:15])"
   ]
  },
  {
   "cell_type": "markdown",
   "metadata": {},
   "source": [
    "## Handcrafted with PCA usign cosine distance"
   ]
  },
  {
   "cell_type": "code",
   "execution_count": 33,
   "metadata": {},
   "outputs": [
    {
     "data": {
      "text/plain": [
       "(0.491, 0.669, 0.759, 0.8180000000000001)"
      ]
     },
     "execution_count": 33,
     "metadata": {},
     "output_type": "execute_result"
    }
   ],
   "source": [
    "rate_lbp = getMetrics(\"handcrafted_feature_vectors/bsif_pca_512.csv\", 15)\n",
    "rate_lbp[1], np.sum(rate_lbp[:5]), np.sum(rate_lbp[:10]), np.sum(rate_lbp[:15])"
   ]
  },
  {
   "cell_type": "code",
   "execution_count": 34,
   "metadata": {},
   "outputs": [
    {
     "data": {
      "text/plain": [
       "(0.419, 0.5780000000000001, 0.681, 0.7320000000000001)"
      ]
     },
     "execution_count": 34,
     "metadata": {},
     "output_type": "execute_result"
    }
   ],
   "source": [
    "rate_lbp = getMetrics(\"handcrafted_feature_vectors/dsift_pca_512.csv\", 15)\n",
    "rate_lbp[1], np.sum(rate_lbp[:5]), np.sum(rate_lbp[:10]), np.sum(rate_lbp[:15])"
   ]
  },
  {
   "cell_type": "code",
   "execution_count": 35,
   "metadata": {},
   "outputs": [
    {
     "data": {
      "text/plain": [
       "(0.503, 0.669, 0.759, 0.801)"
      ]
     },
     "execution_count": 35,
     "metadata": {},
     "output_type": "execute_result"
    }
   ],
   "source": [
    "rate_lbp = getMetrics(\"handcrafted_feature_vectors/hog_pca_512.csv\", 15)\n",
    "rate_lbp[1], np.sum(rate_lbp[:5]), np.sum(rate_lbp[:10]), np.sum(rate_lbp[:15])"
   ]
  },
  {
   "cell_type": "code",
   "execution_count": 36,
   "metadata": {},
   "outputs": [
    {
     "data": {
      "text/plain": [
       "(0.446, 0.6220000000000001, 0.7120000000000001, 0.7650000000000001)"
      ]
     },
     "execution_count": 36,
     "metadata": {},
     "output_type": "execute_result"
    }
   ],
   "source": [
    "rate_lbp = getMetrics(\"handcrafted_feature_vectors/lbp_pca_512.csv\", 15)\n",
    "rate_lbp[1], np.sum(rate_lbp[:5]), np.sum(rate_lbp[:10]), np.sum(rate_lbp[:15])"
   ]
  },
  {
   "cell_type": "code",
   "execution_count": 37,
   "metadata": {},
   "outputs": [
    {
     "data": {
      "text/plain": [
       "(0.444, 0.6300000000000001, 0.7240000000000001, 0.7790000000000001)"
      ]
     },
     "execution_count": 37,
     "metadata": {},
     "output_type": "execute_result"
    }
   ],
   "source": [
    "rate_lbp = getMetrics(\"handcrafted_feature_vectors/lpq_pca_512.csv\", 15)\n",
    "rate_lbp[1], np.sum(rate_lbp[:5]), np.sum(rate_lbp[:10]), np.sum(rate_lbp[:15])"
   ]
  },
  {
   "cell_type": "code",
   "execution_count": 38,
   "metadata": {},
   "outputs": [
    {
     "data": {
      "text/plain": [
       "(0.487, 0.659, 0.758, 0.8)"
      ]
     },
     "execution_count": 38,
     "metadata": {},
     "output_type": "execute_result"
    }
   ],
   "source": [
    "rate_lbp = getMetrics(\"handcrafted_feature_vectors/poem_pca_512.csv\", 15)\n",
    "rate_lbp[1], np.sum(rate_lbp[:5]), np.sum(rate_lbp[:10]), np.sum(rate_lbp[:15])"
   ]
  },
  {
   "cell_type": "code",
   "execution_count": 39,
   "metadata": {},
   "outputs": [
    {
     "data": {
      "text/plain": [
       "(0.362, 0.5279999999999999, 0.654, 0.7030000000000001)"
      ]
     },
     "execution_count": 39,
     "metadata": {},
     "output_type": "execute_result"
    }
   ],
   "source": [
    "rate_lbp = getMetrics(\"handcrafted_feature_vectors/rilpq_pca_512.csv\", 15)\n",
    "rate_lbp[1], np.sum(rate_lbp[:5]), np.sum(rate_lbp[:10]), np.sum(rate_lbp[:15])"
   ]
  },
  {
   "cell_type": "code",
   "execution_count": null,
   "metadata": {},
   "outputs": [],
   "source": []
  },
  {
   "cell_type": "markdown",
   "metadata": {},
   "source": [
    "### awda"
   ]
  },
  {
   "cell_type": "code",
   "execution_count": 3,
   "metadata": {},
   "outputs": [
    {
     "data": {
      "text/plain": [
       "0.095"
      ]
     },
     "execution_count": 3,
     "metadata": {},
     "output_type": "execute_result"
    }
   ],
   "source": [
    "rate_vgg16 = getMetrics(\"calculated_features/vgg16.csv\", 5)\n",
    "rate_vgg16[1]"
   ]
  },
  {
   "cell_type": "code",
   "execution_count": 4,
   "metadata": {},
   "outputs": [
    {
     "data": {
      "text/plain": [
       "0.095"
      ]
     },
     "execution_count": 4,
     "metadata": {},
     "output_type": "execute_result"
    }
   ],
   "source": [
    "rate_vgg16 = getMetrics(\"calculated_features/vgg16.csv\", 15)\n",
    "rate_vgg16[1]"
   ]
  },
  {
   "cell_type": "code",
   "execution_count": 14,
   "metadata": {},
   "outputs": [
    {
     "data": {
      "text/plain": [
       "(0.127, 0.23299999999999998)"
      ]
     },
     "execution_count": 14,
     "metadata": {},
     "output_type": "execute_result"
    }
   ],
   "source": [
    "rate_vgg16_25 = getMetrics(\"calculated_features/vgg16_25K.csv\", 15)\n",
    "rate_vgg16_25[1], np.sum(rate_vgg16_25[:5])"
   ]
  },
  {
   "cell_type": "code",
   "execution_count": 15,
   "metadata": {},
   "outputs": [
    {
     "data": {
      "text/plain": [
       "(0.202, 0.377)"
      ]
     },
     "execution_count": 15,
     "metadata": {},
     "output_type": "execute_result"
    }
   ],
   "source": [
    "rate_resnet = getMetrics(\"calculated_features/resnet_2K_avg.csv\", 15)\n",
    "rate_resnet[1], np.sum(rate_resnet[:5])"
   ]
  },
  {
   "cell_type": "code",
   "execution_count": 16,
   "metadata": {},
   "outputs": [
    {
     "data": {
      "text/plain": [
       "(0.087, 0.19799999999999998)"
      ]
     },
     "execution_count": 16,
     "metadata": {},
     "output_type": "execute_result"
    }
   ],
   "source": [
    "rate_mobnet = getMetrics(\"calculated_features/mobnet_avg.csv\", 15)\n",
    "rate_mobnet[1], np.sum(rate_mobnet[:5])"
   ]
  },
  {
   "cell_type": "markdown",
   "metadata": {},
   "source": [
    "### Plotting results"
   ]
  },
  {
   "cell_type": "code",
   "execution_count": 17,
   "metadata": {},
   "outputs": [
    {
     "data": {
      "image/png": "[encoded data removed]",
      "text/plain": [
       "<Figure size 432x288 with 1 Axes>"
      ]
     },
     "metadata": {
      "needs_background": "light"
     },
     "output_type": "display_data"
    },
    {
     "data": {
      "text/plain": [
       "<Figure size 432x288 with 0 Axes>"
      ]
     },
     "metadata": {},
     "output_type": "display_data"
    }
   ],
   "source": [
    "plt.figure()\n",
    "line_hog, = plt.plot(np.cumsum(rate_hog))\n",
    "line_lbp, = plt.plot(np.cumsum(rate_lbp))\n",
    "line_lpq, = plt.plot(np.cumsum(rate_lpq))\n",
    "line_rilpq, = plt.plot(np.cumsum(rate_rilpq))\n",
    "line_bsif, = plt.plot(np.cumsum(rate_bsif))\n",
    "line_poem, = plt.plot(np.cumsum(rate_poem))\n",
    "line_dsift, = plt.plot(np.cumsum(rate_dsift))\n",
    "plt.legend((line_hog, line_lbp, line_lpq, line_rilpq, line_bsif, line_poem, line_dsift),\n",
    "           ('HOG', 'LBP', 'LPQ', 'RILPQ', 'BSIF', 'POEM', 'DSIFT'))\n",
    "plt.xlabel('Rank')\n",
    "plt.ylabel('Recognition Rate') #for each component\n",
    "#plt.title('Title')\n",
    "plt.show()\n",
    "plt.savefig('Rank5_Handcrafted.png')"
   ]
  },
  {
   "cell_type": "code",
   "execution_count": 18,
   "metadata": {},
   "outputs": [
    {
     "data": {
      "image/png": "[encoded data removed]",
      "text/plain": [
       "<Figure size 432x288 with 1 Axes>"
      ]
     },
     "metadata": {
      "needs_background": "light"
     },
     "output_type": "display_data"
    },
    {
     "data": {
      "text/plain": [
       "<Figure size 432x288 with 0 Axes>"
      ]
     },
     "metadata": {},
     "output_type": "display_data"
    }
   ],
   "source": [
    "plt.figure()\n",
    "line_hog, = plt.plot(np.cumsum(rate_hog))\n",
    "line_lbp, = plt.plot(np.cumsum(rate_lbp))\n",
    "line_lpq, = plt.plot(np.cumsum(rate_lpq))\n",
    "line_rilpq, = plt.plot(np.cumsum(rate_rilpq))\n",
    "line_bsif, = plt.plot(np.cumsum(rate_bsif))\n",
    "line_poem, = plt.plot(np.cumsum(rate_poem))\n",
    "line_dsift, = plt.plot(np.cumsum(rate_dsift))\n",
    "plt.legend((line_hog, line_lbp, line_lpq, line_rilpq, line_bsif, line_poem, line_dsift),\n",
    "           ('HOG', 'LBP', 'LPQ', 'RILPQ', 'BSIF', 'POEM', 'DSIFT'))\n",
    "plt.xlabel('Rank')\n",
    "plt.ylabel('Recognition Rate') #for each component\n",
    "#plt.title('Title')\n",
    "plt.show()\n",
    "plt.savefig('Rank15_Handcrafted.png')"
   ]
  },
  {
   "cell_type": "code",
   "execution_count": 27,
   "metadata": {},
   "outputs": [
    {
     "data": {
      "image/png": "[encoded data removed]",
      "text/plain": [
       "<Figure size 432x288 with 1 Axes>"
      ]
     },
     "metadata": {
      "needs_background": "light"
     },
     "output_type": "display_data"
    }
   ],
   "source": [
    "x = [0,5,9,10,15]\n",
    "y = [0,1,2,3,4]\n",
    "plt.plot(x,y)\n",
    "plt.xticks(np.arange(min(x), max(x)+1, 1.0))\n",
    "plt.show()"
   ]
  },
  {
   "cell_type": "code",
   "execution_count": 47,
   "metadata": {},
   "outputs": [
    {
     "data": {
      "image/png": "[encoded data removed]",
      "text/plain": [
       "<Figure size 432x288 with 1 Axes>"
      ]
     },
     "metadata": {
      "needs_background": "light"
     },
     "output_type": "display_data"
    }
   ],
   "source": [
    "x = [0,5,9,10,15]\n",
    "y = [0,1,2,3,4]\n",
    "fig, ax = plt.subplots()\n",
    "ax.plot(x,y)\n",
    "#start, end = ax.get_xlim()\n",
    "ax.xaxis.set_ticks(np.arange(1, 20, 4))\n",
    "#ax.xaxis.set_major_formatter(ticker.FormatStrFormatter('%0.1f'))\n",
    "plt.show()"
   ]
  },
  {
   "cell_type": "code",
   "execution_count": 58,
   "metadata": {},
   "outputs": [
    {
     "data": {
      "image/png": "[encoded data removed]",
      "text/plain": [
       "<Figure size 432x288 with 1 Axes>"
      ]
     },
     "metadata": {
      "needs_background": "light"
     },
     "output_type": "display_data"
    }
   ],
   "source": [
    "#plt.figure()\n",
    "fig, ax = plt.subplots()\n",
    "line_hog, = plt.plot(np.cumsum(rate_hog[0:16]))\n",
    "line_lbp, = plt.plot(np.cumsum(rate_lbp[0:16]))\n",
    "line_lpq, = plt.plot(np.cumsum(rate_lpq[0:16]))\n",
    "line_rilpq, = plt.plot(np.cumsum(rate_rilpq[0:16]))\n",
    "line_bsif, = plt.plot(np.cumsum(rate_bsif[0:16]))\n",
    "line_poem, = plt.plot(np.cumsum(rate_poem[0:16]))\n",
    "line_dsift, = plt.plot(np.cumsum(rate_dsift[0:16]))\n",
    "plt.legend((line_hog, line_lbp, line_lpq, line_rilpq, line_bsif, line_poem, line_dsift),\n",
    "           ('HOG', 'LBP', 'LPQ', 'RILPQ', 'BSIF', 'POEM', 'DSIFT'))\n",
    "plt.xlabel('Rank')\n",
    "plt.ylabel('Recognition Rate') #for each component\n",
    "ax.xaxis.set_ticks([1,5,10,15])\n",
    "ax.yaxis.set_ticks([0,0.2,0.4,0.6,0.8,1])\n",
    "#plt.title('Title')\n",
    "plt.show()\n",
    "fig.savefig(\"Rank15_Handcrafted_2.png\")"
   ]
  },
  {
   "cell_type": "code",
   "execution_count": 20,
   "metadata": {},
   "outputs": [
    {
     "ename": "NameError",
     "evalue": "name 'rate_vgg16' is not defined",
     "output_type": "error",
     "traceback": [
      "\u001b[0;31m---------------------------------------------------------------------------\u001b[0m",
      "\u001b[0;31mNameError\u001b[0m                                 Traceback (most recent call last)",
      "\u001b[0;32m<ipython-input-20-f5cd1066a00b>\u001b[0m in \u001b[0;36m<module>\u001b[0;34m\u001b[0m\n\u001b[1;32m      1\u001b[0m \u001b[0mplt\u001b[0m\u001b[0;34m.\u001b[0m\u001b[0mfigure\u001b[0m\u001b[0;34m(\u001b[0m\u001b[0;34m)\u001b[0m\u001b[0;34m\u001b[0m\u001b[0;34m\u001b[0m\u001b[0m\n\u001b[0;32m----> 2\u001b[0;31m \u001b[0mline_hog\u001b[0m\u001b[0;34m,\u001b[0m \u001b[0;34m=\u001b[0m \u001b[0mplt\u001b[0m\u001b[0;34m.\u001b[0m\u001b[0mplot\u001b[0m\u001b[0;34m(\u001b[0m\u001b[0mnp\u001b[0m\u001b[0;34m.\u001b[0m\u001b[0mcumsum\u001b[0m\u001b[0;34m(\u001b[0m\u001b[0mrate_vgg16\u001b[0m\u001b[0;34m)\u001b[0m\u001b[0;34m)\u001b[0m\u001b[0;34m\u001b[0m\u001b[0;34m\u001b[0m\u001b[0m\n\u001b[0m\u001b[1;32m      3\u001b[0m \u001b[0;31m#plt.legend((line_hog, line_lbp, line_lpq, line_rilpq, line_bsif, line_poem, line_dsift),\u001b[0m\u001b[0;34m\u001b[0m\u001b[0;34m\u001b[0m\u001b[0;34m\u001b[0m\u001b[0m\n\u001b[1;32m      4\u001b[0m  \u001b[0;31m#          ('HOG', 'LBP', 'LPQ', 'RILPQ', 'BSIF', 'POEM', 'DSIFT'))\u001b[0m\u001b[0;34m\u001b[0m\u001b[0;34m\u001b[0m\u001b[0;34m\u001b[0m\u001b[0m\n\u001b[1;32m      5\u001b[0m \u001b[0mplt\u001b[0m\u001b[0;34m.\u001b[0m\u001b[0mxlabel\u001b[0m\u001b[0;34m(\u001b[0m\u001b[0;34m'Rank'\u001b[0m\u001b[0;34m)\u001b[0m\u001b[0;34m\u001b[0m\u001b[0;34m\u001b[0m\u001b[0m\n",
      "\u001b[0;31mNameError\u001b[0m: name 'rate_vgg16' is not defined"
     ]
    },
    {
     "data": {
      "text/plain": [
       "<Figure size 432x288 with 0 Axes>"
      ]
     },
     "metadata": {},
     "output_type": "display_data"
    }
   ],
   "source": [
    "plt.figure()\n",
    "line_hog, = plt.plot(np.cumsum(rate_vgg16))\n",
    "#plt.legend((line_hog, line_lbp, line_lpq, line_rilpq, line_bsif, line_poem, line_dsift),\n",
    " #          ('HOG', 'LBP', 'LPQ', 'RILPQ', 'BSIF', 'POEM', 'DSIFT'))\n",
    "plt.xlabel('Rank')\n",
    "plt.ylabel('Recognition Rate') #for each component\n",
    "#plt.title('Title')\n",
    "plt.show()\n",
    "plt.savefig('Rank5_VGG16.png')"
   ]
  },
  {
   "cell_type": "code",
   "execution_count": null,
   "metadata": {},
   "outputs": [],
   "source": [
    "plt.figure()\n",
    "line_hog, = plt.plot(np.cumsum(rate_vgg16))\n",
    "#plt.legend((line_hog, line_lbp, line_lpq, line_rilpq, line_bsif, line_poem, line_dsift),\n",
    " #          ('HOG', 'LBP', 'LPQ', 'RILPQ', 'BSIF', 'POEM', 'DSIFT'))\n",
    "plt.xlabel('Rank')\n",
    "plt.ylabel('Recognition Rate') #for each component\n",
    "#plt.title('Title')\n",
    "plt.show()\n",
    "plt.savefig('Rank15_VGG16.png')"
   ]
  },
  {
   "cell_type": "code",
   "execution_count": null,
   "metadata": {},
   "outputs": [],
   "source": [
    "plt.figure()\n",
    "line_hog, = plt.plot(np.cumsum(rate_vgg16_25))\n",
    "#plt.legend((line_hog, line_lbp, line_lpq, line_rilpq, line_bsif, line_poem, line_dsift),\n",
    " #          ('HOG', 'LBP', 'LPQ', 'RILPQ', 'BSIF', 'POEM', 'DSIFT'))\n",
    "plt.xlabel('Rank')\n",
    "plt.ylabel('Recognition Rate') #for each component\n",
    "#plt.title('Title')\n",
    "plt.show()\n",
    "plt.savefig('Rank15_VGG16.png')"
   ]
  },
  {
   "cell_type": "code",
   "execution_count": null,
   "metadata": {},
   "outputs": [],
   "source": [
    "plt.figure()\n",
    "line_hog, = plt.plot(np.cumsum(rate_resnet))\n",
    "#plt.legend((line_hog, line_lbp, line_lpq, line_rilpq, line_bsif, line_poem, line_dsift),\n",
    " #          ('HOG', 'LBP', 'LPQ', 'RILPQ', 'BSIF', 'POEM', 'DSIFT'))\n",
    "plt.xlabel('Rank')\n",
    "plt.ylabel('Recognition Rate') #for each component\n",
    "#plt.title('Title')\n",
    "plt.show()\n",
    "plt.savefig('Rank15_resnet.png')"
   ]
  },
  {
   "cell_type": "code",
   "execution_count": null,
   "metadata": {},
   "outputs": [],
   "source": [
    "plt.figure()\n",
    "line_, = plt.plot(np.cumsum(rate_mobnet))\n",
    "#plt.legend((line_hog, line_lbp, line_lpq, line_rilpq, line_bsif, line_poem, line_dsift),\n",
    " #          ('HOG', 'LBP', 'LPQ', 'RILPQ', 'BSIF', 'POEM', 'DSIFT'))\n",
    "plt.xlabel('Rank')\n",
    "plt.ylabel('Recognition Rate') #for each component\n",
    "#plt.title('Title')\n",
    "plt.show()\n",
    "plt.savefig('Rank15_resnet.png')"
   ]
  },
  {
   "cell_type": "code",
   "execution_count": 62,
   "metadata": {},
   "outputs": [
    {
     "data": {
      "image/png": "[encoded data removed]",
      "text/plain": [
       "<Figure size 432x288 with 1 Axes>"
      ]
     },
     "metadata": {
      "needs_background": "light"
     },
     "output_type": "display_data"
    }
   ],
   "source": [
    "#plt.figure()\n",
    "fig, ax = plt.subplots()\n",
    "line_vgg, = plt.plot(np.cumsum(rate_vgg16_25[0:16]))\n",
    "line_resnet, = plt.plot(np.cumsum(rate_resnet[0:16]))\n",
    "line_mobnet, = plt.plot(np.cumsum(rate_mobnet[0:16]))\n",
    "plt.legend((line_resnet, line_vgg, line_mobnet),\n",
    "           ('RESNET50','VGG16', 'MOBILENET'))\n",
    "plt.xlabel('Rank')\n",
    "plt.ylabel('Recognition Rate') #for each component\n",
    "ax.xaxis.set_ticks([1,5,10,15])\n",
    "ax.yaxis.set_ticks([0,0.2,0.4,0.6,0.8,1])\n",
    "#plt.title('Title')\n",
    "plt.show()\n",
    "fig.savefig('Rank15_DL_2.png')"
   ]
  },
  {
   "cell_type": "code",
   "execution_count": null,
   "metadata": {},
   "outputs": [],
   "source": []
  },
  {
   "cell_type": "code",
   "execution_count": null,
   "metadata": {},
   "outputs": [],
   "source": []
  },
  {
   "cell_type": "code",
   "execution_count": null,
   "metadata": {},
   "outputs": [],
   "source": []
  },
  {
   "cell_type": "code",
   "execution_count": null,
   "metadata": {},
   "outputs": [],
   "source": []
  },
  {
   "cell_type": "code",
   "execution_count": null,
   "metadata": {},
   "outputs": [],
   "source": []
  },
  {
   "cell_type": "code",
   "execution_count": null,
   "metadata": {},
   "outputs": [],
   "source": []
  },
  {
   "cell_type": "code",
   "execution_count": null,
   "metadata": {},
   "outputs": [],
   "source": []
  },
  {
   "cell_type": "code",
   "execution_count": null,
   "metadata": {},
   "outputs": [],
   "source": []
  },
  {
   "cell_type": "code",
   "execution_count": null,
   "metadata": {},
   "outputs": [],
   "source": []
  },
  {
   "cell_type": "code",
   "execution_count": null,
   "metadata": {},
   "outputs": [],
   "source": []
  },
  {
   "cell_type": "code",
   "execution_count": null,
   "metadata": {},
   "outputs": [],
   "source": []
  },
  {
   "cell_type": "code",
   "execution_count": null,
   "metadata": {},
   "outputs": [],
   "source": []
  },
  {
   "cell_type": "code",
   "execution_count": null,
   "metadata": {},
   "outputs": [],
   "source": []
  },
  {
   "cell_type": "code",
   "execution_count": null,
   "metadata": {},
   "outputs": [],
   "source": []
  },
  {
   "cell_type": "code",
   "execution_count": null,
   "metadata": {},
   "outputs": [],
   "source": []
  },
  {
   "cell_type": "code",
   "execution_count": null,
   "metadata": {},
   "outputs": [],
   "source": []
  },
  {
   "cell_type": "code",
   "execution_count": null,
   "metadata": {},
   "outputs": [],
   "source": []
  },
  {
   "cell_type": "code",
   "execution_count": null,
   "metadata": {},
   "outputs": [],
   "source": []
  },
  {
   "cell_type": "code",
   "execution_count": null,
   "metadata": {},
   "outputs": [],
   "source": []
  },
  {
   "cell_type": "code",
   "execution_count": null,
   "metadata": {},
   "outputs": [],
   "source": []
  }
 ],
 "metadata": {
  "kernelspec": {
   "display_name": "Python 3",
   "language": "python",
   "name": "python3"
  },
  "language_info": {
   "codemirror_mode": {
    "name": "ipython",
    "version": 3
   },
   "file_extension": ".py",
   "mimetype": "text/x-python",
   "name": "python",
   "nbconvert_exporter": "python",
   "pygments_lexer": "ipython3",
   "version": "3.6.8"
  }
 },
 "nbformat": 4,
 "nbformat_minor": 2
}
