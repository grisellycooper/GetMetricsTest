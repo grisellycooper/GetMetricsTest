{
 "cells": [
  {
   "cell_type": "markdown",
   "metadata": {},
   "source": [
    "Feature vector concatenation before reduction"
   ]
  },
  {
   "cell_type": "code",
   "execution_count": 1,
   "metadata": {},
   "outputs": [],
   "source": [
    "import pandas as pd\n",
    "import csv\n",
    "import numpy as np"
   ]
  },
  {
   "cell_type": "code",
   "execution_count": 26,
   "metadata": {},
   "outputs": [],
   "source": [
    "# Feature Vector 1 - Handcrafted\n",
    "csvfilename = \"handcrafted_calculated_features/amidb-awet_lpq.csv\"\n",
    "data1 = pd.read_csv(csvfilename)\n",
    "X1 = data1.drop('class', axis=1)  \n",
    "y1 = data1['class']"
   ]
  },
  {
   "cell_type": "code",
   "execution_count": 27,
   "metadata": {},
   "outputs": [],
   "source": [
    "# Feature Vector 1 - Handcrafted\n",
    "csvfilename = \"handcrafted_calculated_features/amidb-awet_rilpq.csv\"\n",
    "data3 = pd.read_csv(csvfilename)\n",
    "X3 = data3.drop('class', axis=1)  \n",
    "y3 = data3['class']"
   ]
  },
  {
   "cell_type": "code",
   "execution_count": 28,
   "metadata": {},
   "outputs": [],
   "source": [
    "# Feature Vector 2 - learned\n",
    "csvfilename = \"feature_vectors/vgg16_cvledb_aug_ft_15e_4kf_awe.csv\"\n",
    "data2 = pd.read_csv(csvfilename)\n",
    "X2 = data2.drop('class', axis=1)  \n",
    "y2 = data2['class']"
   ]
  },
  {
   "cell_type": "code",
   "execution_count": 29,
   "metadata": {},
   "outputs": [],
   "source": [
    "X1_ = X1.values\n",
    "X2_ = X2.values\n",
    "X3_ = X3.values"
   ]
  },
  {
   "cell_type": "code",
   "execution_count": 30,
   "metadata": {},
   "outputs": [
    {
     "data": {
      "text/plain": [
       "(700, 700, 700)"
      ]
     },
     "execution_count": 30,
     "metadata": {},
     "output_type": "execute_result"
    }
   ],
   "source": [
    "len(X1_), len(X3_), len(X2_)"
   ]
  },
  {
   "cell_type": "code",
   "execution_count": 31,
   "metadata": {},
   "outputs": [
    {
     "data": {
      "text/plain": [
       "20480"
      ]
     },
     "execution_count": 31,
     "metadata": {},
     "output_type": "execute_result"
    }
   ],
   "source": [
    "X_final = np.concatenate((X1_, X2_, X3_), axis=1)\n",
    "len(X_final[0])"
   ]
  },
  {
   "cell_type": "code",
   "execution_count": 32,
   "metadata": {},
   "outputs": [],
   "source": [
    "feature_vector_list = []\n",
    "for i in range (0, len(y1)):\n",
    "    class_np = np.array([y1[i]])\n",
    "    feature_vector_np = np.concatenate((class_np, X_final[i]), axis=0)\n",
    "    feature_vector_list.append(feature_vector_np.flatten())\n",
    "    \n",
    "head = []\n",
    "head.append('class')\n",
    "for i in range(1, len(feature_vector_np)):\n",
    "    head.append('v'+str(i))\n",
    "\n",
    "head_np = []\n",
    "head_np.append(head)\n",
    "\n",
    "with open('resnet50_plus_lpq_rilpq_ami.csv', 'w') as csvFile:\n",
    "    writer = csv.writer(csvFile)\n",
    "    writer.writerows(head_np)\n",
    "    writer.writerows(feature_vector_list)\n",
    "csvFile.close()"
   ]
  },
  {
   "cell_type": "code",
   "execution_count": null,
   "metadata": {},
   "outputs": [],
   "source": []
  }
 ],
 "metadata": {
  "kernelspec": {
   "display_name": "Python 3",
   "language": "python",
   "name": "python3"
  },
  "language_info": {
   "codemirror_mode": {
    "name": "ipython",
    "version": 3
   },
   "file_extension": ".py",
   "mimetype": "text/x-python",
   "name": "python",
   "nbconvert_exporter": "python",
   "pygments_lexer": "ipython3",
   "version": "3.6.8"
  }
 },
 "nbformat": 4,
 "nbformat_minor": 2
}
