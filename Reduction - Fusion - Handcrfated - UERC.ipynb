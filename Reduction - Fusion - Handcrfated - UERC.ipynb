{
 "cells": [
  {
   "cell_type": "markdown",
   "metadata": {},
   "source": [
    "## Reduction & Fusion UERC\n",
    "\n",
    "--> V2.0\n",
    "\n",
    "Train: UERC train\n",
    "\n",
    "Test: UERC test\n"
   ]
  },
  {
   "cell_type": "markdown",
   "metadata": {},
   "source": [
    "## Dimensionality Reduction"
   ]
  },
  {
   "cell_type": "code",
   "execution_count": 4,
   "metadata": {},
   "outputs": [],
   "source": [
    "import numpy as np\n",
    "import pandas as pd\n",
    "import csv\n",
    "\n",
    "from sklearn.preprocessing import MinMaxScaler, StandardScaler\n",
    "from sklearn.decomposition import PCA\n",
    "from sklearn.discriminant_analysis import LinearDiscriminantAnalysis as LDA\n",
    "    \n",
    "def pca_reduce(csvfileTrain, csvfileTest, components):\n",
    "    dataset = pd.read_csv(csvfileTrain)\n",
    "    X = dataset.drop('class', axis=1)  \n",
    "    y = dataset['class']\n",
    "    #sc_X = MinMaxScaler(feature_range=[0, 1])\n",
    "    sc_X = StandardScaler()\n",
    "    X = sc_X.fit_transform(X)\n",
    "    pca = PCA(n_components = components)\n",
    "    X_red = pca.fit_transform(X)\n",
    "    \n",
    "    head = []\n",
    "    head.append('class')\n",
    "    for i in range(1, len(X_red[0])+1):\n",
    "        head.append('v'+str(i))\n",
    "\n",
    "    head_np = []\n",
    "    head_np.append(head)\n",
    "    newcsvfile = csvfileTrain[:-4] + \"_redPCA_train_\" + str(len(X_red[0])) + \".csv\"\n",
    "    with open(newcsvfile, 'w') as csvFile:\n",
    "        writer = csv.writer(csvFile)\n",
    "        writer.writerows(head_np)\n",
    "        for i in range(len(X)):\n",
    "            writer.writerow(np.concatenate((np.array([y[i]]), X_red[i]), axis=0) )\n",
    "        csvFile.close()\n",
    "    print(\"New file: {}\".format(newcsvfile))\n",
    "    \n",
    "    dataset = pd.read_csv(csvfileTest)\n",
    "    X = dataset.drop('class', axis=1)  \n",
    "    y = dataset['class']\n",
    "    sc_X = StandardScaler()\n",
    "    X = sc_X.fit_transform(X)\n",
    "    #pca = PCA(n_components = components)\n",
    "    X_red_test = pca.transform(X)\n",
    "    \n",
    "    head = []\n",
    "    head.append('class')\n",
    "    for i in range(1, len(X_red_test[0])+1):\n",
    "        head.append('v'+str(i))\n",
    "\n",
    "    head_np = []\n",
    "    head_np.append(head)\n",
    "    newcsvfile = csvfileTest[:-4] + \"_redPCA_test_\" + str(len(X_red_test[0])) + \".csv\"\n",
    "    with open(newcsvfile, 'w') as csvFile:\n",
    "        writer = csv.writer(csvFile)\n",
    "        writer.writerows(head_np)\n",
    "        for i in range(len(X)):\n",
    "            writer.writerow(np.concatenate((np.array([y[i]]), X_red_test[i]), axis=0) )\n",
    "        csvFile.close()\n",
    "    print(\"New file: {}\".format(newcsvfile))\n",
    "    return\n",
    "    \n",
    "def lda_reduce(csvfileTrain, csvfileTest, components):\n",
    "    dataset = pd.read_csv(csvfileTrain)\n",
    "    X = dataset.drop('class', axis=1)  \n",
    "    y = dataset['class']\n",
    "    sc_X = StandardScaler()\n",
    "    X = sc_X.fit_transform(X)\n",
    "    lda = LDA(n_components = components)\n",
    "    X_red = lda.fit_transform(X,y)\n",
    "    \n",
    "    head = []\n",
    "    head.append('class')\n",
    "    for i in range(1, len(X_red[0])+1):\n",
    "        head.append('v'+str(i))\n",
    "\n",
    "    head_np = []\n",
    "    head_np.append(head)\n",
    "    newcsvfile = csvfileTrain[:-4] + \"_redLDA_train_\" + str(len(X_red[0])) + \".csv\"\n",
    "    with open(newcsvfile, 'w') as csvFile:\n",
    "        writer = csv.writer(csvFile)\n",
    "        writer.writerows(head_np)\n",
    "        for i in range(len(X)):\n",
    "            writer.writerow(np.concatenate((np.array([y[i]]), X_red[i]), axis=0) )\n",
    "        csvFile.close()\n",
    "    print(\"New file: {}\".format(newcsvfile))\n",
    "    \n",
    "    dataset = pd.read_csv(csvfileTest)\n",
    "    X = dataset.drop('class', axis=1)  \n",
    "    y = dataset['class']\n",
    "    sc_X = StandardScaler()\n",
    "    X = sc_X.fit_transform(X)\n",
    "    #lda = LDA(n_components = components)\n",
    "    X_red_test = lda.transform(X)\n",
    "    \n",
    "    head = []\n",
    "    head.append('class')\n",
    "    for i in range(1, len(X_red_test[0])+1):\n",
    "        head.append('v'+str(i))\n",
    "\n",
    "    head_np = []\n",
    "    head_np.append(head)\n",
    "    newcsvfile = csvfileTest[:-4] + \"_redLDA_test_\" + str(len(X_red_test[0])) + \".csv\"\n",
    "    with open(newcsvfile, 'w') as csvFile:\n",
    "        writer = csv.writer(csvFile)\n",
    "        writer.writerows(head_np)\n",
    "        for i in range(len(X_red_test)):\n",
    "            writer.writerow(np.concatenate((np.array([y[i]]), X_red_test[i]), axis=0) )\n",
    "        csvFile.close()\n",
    "    print(\"New file: {}\".format(newcsvfile))\n",
    "    return"
   ]
  },
  {
   "cell_type": "markdown",
   "metadata": {},
   "source": [
    "## Fusion"
   ]
  },
  {
   "cell_type": "code",
   "execution_count": 5,
   "metadata": {},
   "outputs": [],
   "source": [
    "import pandas as pd\n",
    "import csv\n",
    "import numpy as np\n",
    "\n",
    "# Input:\n",
    "    # csvFiles: list of csv files -> \"class\", \"v1\", \"v2\"... \"vn\"\n",
    "    # fusionType: 1 -> concatenated (number of rows must be the same)\n",
    "    #             2 -> suma (number of columns must be the same)\n",
    "    #             3 -> max (number of columns must be the same)\n",
    "# Output:\n",
    "    # csvFusedFile: Final output file name\n",
    "def fusionFeatureVectors(csvFiles=[], fusionType = 1, outputFileName=\"output_fused_file.csv\"):\n",
    "    if (fusionType == 1):\n",
    "        if len(csvFiles) >= 2:\n",
    "            data = pd.read_csv(csvFiles[0])\n",
    "            dataFinal_X = data.drop('class', axis=1)\n",
    "            dataFinal_X = dataFinal_X.values\n",
    "            dataFinal_y = data['class'].values\n",
    "            print(\"{} - rows: {} -  columns: {}\".format(csvFiles[0], str(len(dataFinal_X)), str(len(dataFinal_X[0]))))\n",
    "                \n",
    "            for i in range(1, len(csvFiles)):                \n",
    "                data = pd.read_csv(csvFiles[i])\n",
    "                X = data.drop('class', axis=1)\n",
    "                X = X.values\n",
    "                y = data['class'].values\n",
    "                print(\"{} - rows: {} -  columns: {}\".format(csvFiles[i], str(len(X)), str(len(X[0]))))\n",
    "                # number of rows should be the same\n",
    "                if len(dataFinal_y) == len(y) and np.all(dataFinal_y == y ):\n",
    "                    dataFinal_X = np.concatenate((dataFinal_X, X),axis=1)\n",
    "                else:\n",
    "                    print(\"Labels do not match! - {}\".format(csvFiles[i]))\n",
    "                    return\n",
    "                        \n",
    "    if (fusionType == 2 or fusionType == 3):\n",
    "        if len(csvFiles) >= 2:\n",
    "            data = pd.read_csv(csvFiles[0])\n",
    "            dataFinal_X = data.drop('class', axis=1)\n",
    "            dataFinal_X = dataFinal_X.values\n",
    "            dataFinal_y = data['class'].values\n",
    "            print(\"{} - rows: {} -  columns: {}\".format(csvFiles[0], str(len(dataFinal_X)), str(len(dataFinal_X[0]))))\n",
    "            \n",
    "            for i in range(1, len(csvFiles)):\n",
    "                data = pd.read_csv(csvFiles[i])\n",
    "                X = data.drop('class', axis=1)\n",
    "                X = X.values\n",
    "                y = data['class'].values\n",
    "                print(\"{} - rows: {} -  columns: {}\".format(csvFiles[i], str(len(X)), str(len(X[0]))))\n",
    "                # number of rows columns should be the same\n",
    "                if len(dataFinal_X[0]) == len(X[0]) and len(dataFinal_y) == len(y) and np.all(dataFinal_y == y):\n",
    "                    for j in range(len(dataFinal_X)):\n",
    "                        for l in range(len(dataFinal_X[0])):\n",
    "                            if fusionType == 2:\n",
    "                                dataFinal_X[j][l] =  dataFinal_X[j][l] + X[j][l]\n",
    "                            if fusionType == 3:\n",
    "                                dataFinal_X[j][l] =  np.maximu(dataFinal_X[j][l], X[j][l])\n",
    "                else:\n",
    "                    print(\"Labels or Rows do not match! - {}\".format(csvFiles[i]))\n",
    "                    return\n",
    "    \n",
    "    head = []\n",
    "    head.append('class')\n",
    "    for i in range(1, len(dataFinal_X[0])+1):\n",
    "        head.append('v'+str(i))\n",
    "\n",
    "    head_np = []\n",
    "    head_np.append(head)\n",
    "    #newcsvfile = outputFileName + \".csv\"\n",
    "    print(\"{} - rows: {} -  columns: {}\".format(outputFileName, str(len(dataFinal_X)), str(len(dataFinal_X[0]))))\n",
    "    with open(outputFileName, 'w') as csvFile:\n",
    "        writer = csv.writer(csvFile)\n",
    "        writer.writerows(head_np)\n",
    "        for k in range(len(dataFinal_X)):\n",
    "            writer.writerow(np.concatenate((np.array([dataFinal_y[k]]), dataFinal_X[k]), axis=0) )\n",
    "        csvFile.close()\n",
    "    #print(\"CSV File created: {}\".format(newcsvfile))    \n",
    "    "
   ]
  },
  {
   "cell_type": "markdown",
   "metadata": {},
   "source": [
    "## Get Metrics"
   ]
  },
  {
   "cell_type": "code",
   "execution_count": 6,
   "metadata": {},
   "outputs": [],
   "source": [
    "import pandas as pd\n",
    "\n",
    "from scipy import spatial\n",
    "\n",
    "def chiSquaredDistance(a,b):\n",
    "    res = np.sqrt(0.5*np.sum((a-b)**2/(a+b+1e-6)))\n",
    "    return res\n",
    "\n",
    "def chiSquared2(a,b):\n",
    "    #res = np.sqrt(0.5*np.sum((a-b)**2/(a+b+1e-6)))\n",
    "    return 0.5*np.sum((a-b)**2/(a+b+1e-6))\n",
    "\n",
    "def cosineDistance(a,b):\n",
    "    return spatial.distance.cosine(a,b)\n",
    "\n",
    "def cosineDistance2(a,b):\n",
    "    return 1 - spatial.distance.cosine(a,b) \n",
    "\n",
    "def euclideanDistance(a,b):\n",
    "    return spatial.distance.euclidean(a,b)\n",
    "\n",
    "# Input: csvfile: data file with feature vectors and labels -> 'class', 'v1', 'v2'... 'vn'\n",
    "#        rank: desire rank (eg. rank-1, rank-5, rank-10)\n",
    "#        distance_technique: 1 -> chisquared, 2 -> cosine\n",
    "# Output: rankbins\n",
    "def getMetrics(csvfilename, rank=1, distance_techinque=1):\n",
    "    data = pd.read_csv(csvfilename)\n",
    "    #Xdf = data.drop(['filename','class'], axis=1)  \n",
    "    Xdf = data.drop('class', axis=1)  \n",
    "    ydf = data['class']\n",
    "    X = Xdf.values\n",
    "    y = ydf.values\n",
    "    s = (len(X), len(X), 2)\n",
    "    y_pred = np.zeros(s)\n",
    "    print(\"rows: {} -  columns: {}\".format(len(X), len(X[0])))\n",
    "                                                             \n",
    "    # Normalization\n",
    "    \n",
    "    # Get distances matrix\n",
    "    if (distance_techinque == 1):\n",
    "        for i in range(len(X)):        \n",
    "            for j in range (len(X)):\n",
    "                dis = chiSquaredDistance(X[i], X[j])\n",
    "                y_pred[i][j] = [dis, y[j]]\n",
    "    if (distance_techinque == 2):\n",
    "        for i in range(len(X)):        \n",
    "            for j in range (len(X)):                   \n",
    "                dis = cosineDistance(X[i], X[j]) \n",
    "                y_pred[i][j] = [dis, y[j]]\n",
    "    if (distance_techinque == 3):\n",
    "        for i in range(len(X)):        \n",
    "            for j in range (len(X)):                                   \n",
    "                dis = euclideanDistance(X[i], X[j])                         \n",
    "                y_pred[i][j] = [dis, y[j]] \n",
    "            \n",
    "    print(\"Distances calculated ...\")\n",
    "          \n",
    "    # Order matrix acording to distance\n",
    "    for i in range(len(y_pred)):\n",
    "        b = y_pred[i]\n",
    "        y_pred[i] = b[b[:,0].argsort()] \n",
    "    \n",
    "    \n",
    "    # Get Rank counting\n",
    "    rankbins = np.zeros(rank+2)\n",
    "    for i in range (len(y_pred)):        \n",
    "        for j in range (len(y_pred)):\n",
    "            if y_pred[i][j][0] == 0.0: #if distance is 0, it's the same vector                \n",
    "                continue\n",
    "            else:\n",
    "                if j > rank: #we are interested in evaluate only the rank-n                    \n",
    "                    rankbins[rank+1] += 1\n",
    "                    break;\n",
    "                else: \n",
    "                    if y[i] == y_pred[i][j][1]:                                                 \n",
    "                        rankbins[j] += 1                        \n",
    "                        break \n",
    "    \n",
    "    rank_rate = rankbins/sum(rankbins)\n",
    "    #print(rank_rate[0], rank_rate[1], rank_rate[2], np.sum(rank_rate[:1]), np.sum(rank_rate[:2]))\n",
    "    rank_vector = []\n",
    "    for r in range(2,rank+2):\n",
    "        rank_vector.append(np.sum(rank_rate[:r]))\n",
    "    return rank_vector"
   ]
  },
  {
   "cell_type": "markdown",
   "metadata": {},
   "source": [
    "## Test UERC"
   ]
  },
  {
   "cell_type": "markdown",
   "metadata": {},
   "source": [
    "### Rank Evaluation Handcrafted "
   ]
  },
  {
   "cell_type": "code",
   "execution_count": 8,
   "metadata": {},
   "outputs": [
    {
     "name": "stdout",
     "output_type": "stream",
     "text": [
      "rows: 1800 -  columns: 4096\n",
      "Distances calculated ...\n"
     ]
    },
    {
     "data": {
      "text/plain": [
       "[0.092777777777777778]"
      ]
     },
     "execution_count": 8,
     "metadata": {},
     "output_type": "execute_result"
    }
   ],
   "source": [
    "res = getMetrics(\n",
    "    csvfilename = \"vgg16_calculated_features/vgg16_1stage_uerc180class.csv\", \n",
    "    rank = 1,\n",
    "    distance_techinque=1) #chisquared distance\n",
    "res"
   ]
  },
  {
   "cell_type": "code",
   "execution_count": 7,
   "metadata": {},
   "outputs": [
    {
     "name": "stdout",
     "output_type": "stream",
     "text": [
      "rows: 1800 -  columns: 4096\n",
      "Distances calculated ...\n"
     ]
    },
    {
     "data": {
      "text/plain": [
       "[0.105]"
      ]
     },
     "execution_count": 7,
     "metadata": {},
     "output_type": "execute_result"
    }
   ],
   "source": [
    "res = getMetrics(\n",
    "    csvfilename = \"vgg16_calculated_features/vgg16_1stage_uerc180class.csv\", \n",
    "    rank = 1,\n",
    "    distance_techinque=2) #cosine distance\n",
    "res"
   ]
  },
  {
   "cell_type": "code",
   "execution_count": null,
   "metadata": {},
   "outputs": [],
   "source": []
  },
  {
   "cell_type": "code",
   "execution_count": 11,
   "metadata": {},
   "outputs": [
    {
     "name": "stdout",
     "output_type": "stream",
     "text": [
      "rows: 1800 -  columns: 9216\n",
      "Distances calculated ...\n"
     ]
    },
    {
     "data": {
      "text/plain": [
       "[0.18111111111111111]"
      ]
     },
     "execution_count": 11,
     "metadata": {},
     "output_type": "execute_result"
    }
   ],
   "source": [
    "res = getMetrics(\n",
    "    csvfilename = \"awetoolbox_calculated_features/_output_uerctest_180class/uerctest-awet_lpq.csv\", \n",
    "    rank = 1,\n",
    "    distance_techinque=1) #chisquared distance\n",
    "res"
   ]
  },
  {
   "cell_type": "markdown",
   "metadata": {},
   "source": [
    "## TEST UERC"
   ]
  },
  {
   "cell_type": "markdown",
   "metadata": {},
   "source": [
    "## Chi squared distance"
   ]
  },
  {
   "cell_type": "code",
   "execution_count": 12,
   "metadata": {},
   "outputs": [
    {
     "name": "stdout",
     "output_type": "stream",
     "text": [
      "--> awetoolbox_calculated_features/_output_uerctest_180class/uerctest-awet_bsif.csv\n",
      "rows: 1800 -  columns: 9216\n",
      "Distances calculated ...\n",
      "[0.21111111111111111, 0.26611111111111113, 0.30722222222222223, 0.3338888888888889, 0.36333333333333334, 0.38333333333333336, 0.39944444444444444, 0.41277777777777774, 0.42944444444444441, 0.44499999999999995, 0.45999999999999996, 0.4705555555555555, 0.48333333333333328, 0.49166666666666664, 0.50055555555555553]\n",
      "--> awetoolbox_calculated_features/_output_uerctest_180class/uerctest-awet_dsift.csv\n",
      "rows: 1800 -  columns: 12800\n",
      "Distances calculated ...\n",
      "[0.14999999999999999, 0.2038888888888889, 0.24166666666666667, 0.27277777777777779, 0.2927777777777778, 0.31888888888888889, 0.33277777777777778, 0.35166666666666668, 0.3666666666666667, 0.38222222222222224, 0.39555555555555555, 0.40999999999999998, 0.42166666666666663, 0.43388888888888888, 0.44388888888888889]\n",
      "--> awetoolbox_calculated_features/_output_uerctest_180class/uerctest-awet_gabor.csv\n",
      "rows: 1800 -  columns: 5760\n",
      "Distances calculated ...\n",
      "[0.14888888888888888, 0.19222222222222221, 0.22999999999999998, 0.2533333333333333, 0.28222222222222221, 0.30055555555555552, 0.31777777777777777, 0.33611111111111108, 0.34944444444444439, 0.3627777777777777, 0.37666666666666659, 0.39055555555555549, 0.39888888888888885, 0.40999999999999998, 0.41888888888888887]\n",
      "--> awetoolbox_calculated_features/_output_uerctest_180class/uerctest-awet_hog.csv\n",
      "rows: 1800 -  columns: 8712\n",
      "Distances calculated ...\n",
      "[0.19777777777777777, 0.255, 0.30055555555555558, 0.33333333333333337, 0.3527777777777778, 0.375, 0.39111111111111113, 0.40388888888888891, 0.42166666666666669, 0.44500000000000001, 0.45777777777777778, 0.46611111111111114, 0.48111111111111116, 0.48944444444444452, 0.49888888888888888]\n",
      "--> awetoolbox_calculated_features/_output_uerctest_180class/uerctest-awet_lbp.csv\n",
      "rows: 1800 -  columns: 9971\n",
      "Distances calculated ...\n",
      "[0.18555555555555556, 0.23999999999999999, 0.27500000000000002, 0.30388888888888893, 0.33166666666666672, 0.35388888888888892, 0.37277777777777776, 0.39277777777777778, 0.41222222222222221, 0.42277777777777775, 0.43166666666666664, 0.44222222222222218, 0.44833333333333331, 0.45833333333333331, 0.46777777777777779]\n",
      "--> awetoolbox_calculated_features/_output_uerctest_180class/uerctest-awet_lpq.csv\n",
      "rows: 1800 -  columns: 9216\n",
      "Distances calculated ...\n",
      "[0.18111111111111111, 0.24388888888888888, 0.28277777777777779, 0.31277777777777782, 0.33833333333333337, 0.36055555555555557, 0.38111111111111112, 0.39500000000000002, 0.40722222222222226, 0.41500000000000004, 0.42722222222222228, 0.43722222222222229, 0.4505555555555556, 0.46000000000000002, 0.46722222222222221]\n",
      "--> awetoolbox_calculated_features/_output_uerctest_180class/uerctest-awet_poem.csv\n",
      "rows: 1800 -  columns: 11328\n",
      "Distances calculated ...\n",
      "[0.20000000000000001, 0.26277777777777778, 0.29944444444444446, 0.32722222222222225, 0.35388888888888892, 0.37833333333333335, 0.40277777777777779, 0.42055555555555557, 0.43611111111111112, 0.45555555555555555, 0.46722222222222221, 0.47722222222222221, 0.48999999999999999, 0.49833333333333335, 0.51000000000000001]\n",
      "--> awetoolbox_calculated_features/_output_uerctest_180class/uerctest-awet_rilpq.csv\n",
      "rows: 1800 -  columns: 9216\n",
      "Distances calculated ...\n",
      "[0.17499999999999999, 0.22666666666666666, 0.25611111111111112, 0.28055555555555556, 0.29777777777777781, 0.31277777777777782, 0.33444444444444443, 0.35055555555555556, 0.36611111111111111, 0.37944444444444442, 0.39333333333333331, 0.4022222222222222, 0.41222222222222221, 0.42166666666666663, 0.42999999999999994]\n"
     ]
    }
   ],
   "source": [
    "from glob import glob \n",
    "\n",
    "ufiles = glob(\"awetoolbox_calculated_features/_output_uerctest_180class/*.csv\")\n",
    "files = sorted(ufiles)\n",
    "\n",
    "for i in range(len(files)):\n",
    "    print(\"--> {}\".format(files[i]))\n",
    "    res = getMetrics(\n",
    "        csvfilename = files[i], \n",
    "        rank = 15,\n",
    "        distance_techinque=1) #chisquared distance\n",
    "    print(res)\n"
   ]
  },
  {
   "cell_type": "markdown",
   "metadata": {},
   "source": [
    "## Cosine distance"
   ]
  },
  {
   "cell_type": "code",
   "execution_count": 13,
   "metadata": {},
   "outputs": [
    {
     "name": "stdout",
     "output_type": "stream",
     "text": [
      "--> awetoolbox_calculated_features/_output_uerctest_180class/uerctest-awet_bsif.csv\n",
      "rows: 1800 -  columns: 9216\n",
      "Distances calculated ...\n",
      "[0.15333333333333332, 0.20944444444444443, 0.25166666666666665, 0.27999999999999997, 0.30555555555555552, 0.33166666666666667, 0.35277777777777775, 0.37, 0.38666666666666666, 0.39944444444444444, 0.40777777777777779, 0.41833333333333333, 0.42999999999999999, 0.43888888888888888, 0.45111111111111107]\n",
      "--> awetoolbox_calculated_features/_output_uerctest_180class/uerctest-awet_dsift.csv\n",
      "rows: 1800 -  columns: 12800\n",
      "Distances calculated ...\n",
      "[0.15444444444444444, 0.20722222222222222, 0.24555555555555555, 0.27500000000000002, 0.29833333333333334, 0.31888888888888889, 0.33611111111111114, 0.35500000000000004, 0.3716666666666667, 0.38444444444444448, 0.39333333333333337, 0.41166666666666668, 0.42499999999999999, 0.43444444444444441, 0.44611111111111112]\n",
      "--> awetoolbox_calculated_features/_output_uerctest_180class/uerctest-awet_gabor.csv\n",
      "rows: 1800 -  columns: 5760\n",
      "Distances calculated ...\n",
      "[0.14277777777777778, 0.19388888888888889, 0.22, 0.25, 0.28222222222222221, 0.30444444444444441, 0.32555555555555554, 0.34666666666666668, 0.36055555555555557, 0.37388888888888888, 0.39000000000000001, 0.39666666666666667, 0.41055555555555556, 0.42388888888888887, 0.43388888888888888]\n",
      "--> awetoolbox_calculated_features/_output_uerctest_180class/uerctest-awet_hog.csv\n",
      "rows: 1800 -  columns: 8712\n",
      "Distances calculated ...\n",
      "[0.19388888888888889, 0.25444444444444447, 0.29388888888888892, 0.32444444444444448, 0.35166666666666668, 0.37277777777777782, 0.39222222222222219, 0.40777777777777774, 0.42111111111111105, 0.43444444444444436, 0.44722222222222213, 0.45944444444444438, 0.47166666666666662, 0.4844444444444444, 0.4966666666666667]\n",
      "--> awetoolbox_calculated_features/_output_uerctest_180class/uerctest-awet_lbp.csv\n",
      "rows: 1800 -  columns: 9971\n",
      "Distances calculated ...\n",
      "[0.13166666666666665, 0.18111111111111111, 0.21055555555555555, 0.23777777777777778, 0.25888888888888889, 0.27666666666666667, 0.29722222222222222, 0.32055555555555554, 0.33388888888888885, 0.34777777777777774, 0.35999999999999999, 0.37055555555555553, 0.38611111111111107, 0.39833333333333332, 0.40666666666666662]\n",
      "--> awetoolbox_calculated_features/_output_uerctest_180class/uerctest-awet_lpq.csv\n",
      "rows: 1800 -  columns: 9216\n",
      "Distances calculated ...\n",
      "[0.15222222222222223, 0.20222222222222225, 0.23111111111111113, 0.25888888888888889, 0.28166666666666668, 0.29666666666666669, 0.31944444444444448, 0.33944444444444449, 0.35722222222222227, 0.36944444444444452, 0.38611111111111118, 0.3955555555555556, 0.40333333333333338, 0.41000000000000003, 0.4211111111111111]\n",
      "--> awetoolbox_calculated_features/_output_uerctest_180class/uerctest-awet_poem.csv\n",
      "rows: 1800 -  columns: 11328\n",
      "Distances calculated ...\n",
      "[0.18277777777777779, 0.23444444444444446, 0.27333333333333332, 0.30277777777777776, 0.32222222222222219, 0.34611111111111109, 0.36333333333333329, 0.38055555555555554, 0.39944444444444444, 0.4161111111111111, 0.43388888888888888, 0.44444444444444442, 0.45666666666666667, 0.46611111111111109, 0.4777777777777778]\n",
      "--> awetoolbox_calculated_features/_output_uerctest_180class/uerctest-awet_rilpq.csv\n",
      "rows: 1800 -  columns: 9216\n",
      "Distances calculated ...\n",
      "[0.15833333333333333, 0.20222222222222222, 0.22999999999999998, 0.2638888888888889, 0.28833333333333333, 0.31, 0.32555555555555554, 0.34055555555555556, 0.35333333333333333, 0.36166666666666669, 0.375, 0.38388888888888889, 0.39333333333333331, 0.40111111111111108, 0.41333333333333333]\n"
     ]
    }
   ],
   "source": [
    "from glob import glob \n",
    "\n",
    "ufiles = glob(\"awetoolbox_calculated_features/_output_uerctest_180class/*.csv\")\n",
    "files = sorted(ufiles)\n",
    "\n",
    "for i in range(len(files)):\n",
    "    print(\"--> {}\".format(files[i]))\n",
    "    res = getMetrics(\n",
    "        csvfilename = files[i], \n",
    "        rank = 15,\n",
    "        distance_techinque=2) #cosine distance\n",
    "    print(res)\n"
   ]
  },
  {
   "cell_type": "markdown",
   "metadata": {},
   "source": [
    "## Euclidean distance"
   ]
  },
  {
   "cell_type": "code",
   "execution_count": 14,
   "metadata": {},
   "outputs": [
    {
     "name": "stdout",
     "output_type": "stream",
     "text": [
      "--> awetoolbox_calculated_features/_output_uerctest_180class/uerctest-awet_bsif.csv\n",
      "rows: 1800 -  columns: 9216\n",
      "Distances calculated ...\n",
      "[0.12277777777777778, 0.16555555555555557, 0.20055555555555557, 0.2277777777777778, 0.24500000000000002, 0.26333333333333336, 0.27833333333333332, 0.29222222222222222, 0.30777777777777776, 0.31944444444444442, 0.32888888888888884, 0.34277777777777774, 0.35222222222222216, 0.36333333333333329, 0.36944444444444446]\n",
      "--> awetoolbox_calculated_features/_output_uerctest_180class/uerctest-awet_dsift.csv\n",
      "rows: 1800 -  columns: 12800\n",
      "Distances calculated ...\n",
      "[0.155, 0.20555555555555555, 0.24444444444444444, 0.27499999999999997, 0.29777777777777775, 0.31944444444444442, 0.33499999999999996, 0.35555555555555551, 0.37111111111111106, 0.38444444444444437, 0.39388888888888879, 0.41111111111111098, 0.42499999999999988, 0.43555555555555542, 0.44777777777777777]\n",
      "--> awetoolbox_calculated_features/_output_uerctest_180class/uerctest-awet_gabor.csv\n",
      "rows: 1800 -  columns: 5760\n",
      "Distances calculated ...\n",
      "[0.16055555555555556, 0.21222222222222223, 0.24555555555555555, 0.27944444444444444, 0.30333333333333334, 0.32777777777777778, 0.34666666666666668, 0.3611111111111111, 0.375, 0.38777777777777778, 0.40277777777777779, 0.41444444444444445, 0.42611111111111111, 0.44, 0.44888888888888889]\n",
      "--> awetoolbox_calculated_features/_output_uerctest_180class/uerctest-awet_hog.csv\n",
      "rows: 1800 -  columns: 8712\n",
      "Distances calculated ...\n",
      "[0.19444444444444445, 0.25444444444444447, 0.29444444444444445, 0.32500000000000001, 0.35222222222222221, 0.37277777777777776, 0.39222222222222225, 0.40777777777777779, 0.42055555555555557, 0.43444444444444447, 0.44722222222222224, 0.45944444444444449, 0.47111111111111115, 0.48444444444444446, 0.4966666666666667]\n",
      "--> awetoolbox_calculated_features/_output_uerctest_180class/uerctest-awet_lbp.csv\n",
      "rows: 1800 -  columns: 9971\n",
      "Distances calculated ...\n",
      "[0.12555555555555556, 0.17277777777777778, 0.20777777777777778, 0.23444444444444446, 0.25888888888888889, 0.27611111111111108, 0.29000000000000004, 0.30333333333333334, 0.31888888888888889, 0.33055555555555555, 0.34166666666666667, 0.3477777777777778, 0.35944444444444446, 0.36944444444444446, 0.37722222222222224]\n",
      "--> awetoolbox_calculated_features/_output_uerctest_180class/uerctest-awet_lpq.csv\n",
      "rows: 1800 -  columns: 9216\n",
      "Distances calculated ...\n",
      "[0.12333333333333334, 0.15777777777777779, 0.18444444444444447, 0.21055555555555558, 0.22666666666666668, 0.24666666666666667, 0.26388888888888895, 0.27777777777777785, 0.29833333333333339, 0.30888888888888894, 0.31777777777777783, 0.32777777777777783, 0.33777777777777784, 0.34333333333333338, 0.34666666666666668]\n",
      "--> awetoolbox_calculated_features/_output_uerctest_180class/uerctest-awet_poem.csv\n",
      "rows: 1800 -  columns: 11328\n",
      "Distances calculated ...\n",
      "[0.16500000000000001, 0.21444444444444444, 0.25111111111111112, 0.27833333333333332, 0.29888888888888887, 0.31777777777777777, 0.34055555555555556, 0.35999999999999999, 0.37777777777777777, 0.38722222222222219, 0.39999999999999997, 0.41722222222222216, 0.42722222222222217, 0.43499999999999994, 0.44388888888888889]\n",
      "--> awetoolbox_calculated_features/_output_uerctest_180class/uerctest-awet_rilpq.csv\n",
      "rows: 1800 -  columns: 9216\n",
      "Distances calculated ...\n",
      "[0.10944444444444444, 0.14222222222222222, 0.18333333333333335, 0.2088888888888889, 0.23166666666666669, 0.24611111111111114, 0.26000000000000001, 0.27722222222222226, 0.2894444444444445, 0.29722222222222228, 0.3116666666666667, 0.32333333333333336, 0.3338888888888889, 0.34277777777777779, 0.34944444444444445]\n"
     ]
    }
   ],
   "source": [
    "from glob import glob \n",
    "\n",
    "ufiles = glob(\"awetoolbox_calculated_features/_output_uerctest_180class/*.csv\")\n",
    "files = sorted(ufiles)\n",
    "\n",
    "for i in range(len(files)):\n",
    "    print(\"--> {}\".format(files[i]))\n",
    "    res = getMetrics(\n",
    "        csvfilename = files[i], \n",
    "        rank = 15,\n",
    "        distance_techinque=3) #euclidean distance\n",
    "    print(res)\n"
   ]
  },
  {
   "cell_type": "markdown",
   "metadata": {},
   "source": [
    "## TRAIN UERC"
   ]
  },
  {
   "cell_type": "markdown",
   "metadata": {},
   "source": [
    "## Cosine Distance"
   ]
  },
  {
   "cell_type": "code",
   "execution_count": 7,
   "metadata": {},
   "outputs": [
    {
     "name": "stdout",
     "output_type": "stream",
     "text": [
      "--> awetoolbox_calculated_features/_output_uerctrain_150class/wputamiuerc-awet_bsif_uerc.csv\n",
      "rows: 3000 -  columns: 9216\n",
      "Distances calculated ...\n",
      "[0.31900000000000001, 0.39733333333333332, 0.44599999999999995, 0.48333333333333328, 0.5139999999999999, 0.54066666666666652, 0.55900000000000005, 0.57500000000000007, 0.58733333333333337, 0.60133333333333339, 0.61366666666666669, 0.629, 0.63966666666666672, 0.65000000000000002, 0.66233333333333322]\n",
      "--> awetoolbox_calculated_features/_output_uerctrain_150class/wputamiuerc-awet_dsift_uerc.csv\n",
      "rows: 3000 -  columns: 12800\n",
      "Distances calculated ...\n",
      "[0.34200000000000003, 0.41466666666666668, 0.47033333333333338, 0.50533333333333341, 0.53066666666666673, 0.55366666666666675, 0.57833333333333337, 0.59666666666666668, 0.61033333333333339, 0.62666666666666671, 0.63833333333333342, 0.65000000000000013, 0.65833333333333344, 0.66966666666666674, 0.68300000000000005]\n",
      "--> awetoolbox_calculated_features/_output_uerctrain_150class/wputamiuerc-awet_gabor_uerc.csv\n",
      "rows: 3000 -  columns: 5760\n",
      "Distances calculated ...\n",
      "[0.27166666666666667, 0.35099999999999998, 0.40433333333333332, 0.43966666666666665, 0.45933333333333332, 0.47966666666666663, 0.5046666666666666, 0.52333333333333332, 0.53433333333333333, 0.54866666666666664, 0.56266666666666665, 0.57633333333333336, 0.58800000000000008, 0.59700000000000009, 0.60899999999999999]\n",
      "--> awetoolbox_calculated_features/_output_uerctrain_150class/wputamiuerc-awet_hog_uerc.csv\n",
      "rows: 3000 -  columns: 8712\n",
      "Distances calculated ...\n",
      "[0.41066666666666668, 0.49633333333333335, 0.54333333333333333, 0.57966666666666666, 0.60999999999999999, 0.629, 0.64466666666666672, 0.65600000000000003, 0.66766666666666674, 0.68200000000000005, 0.69533333333333336, 0.70500000000000007, 0.71566666666666678, 0.7263333333333335, 0.73666666666666658]\n",
      "--> awetoolbox_calculated_features/_output_uerctrain_150class/wputamiuerc-awet_lbp_uerc.csv\n",
      "rows: 3000 -  columns: 9971\n",
      "Distances calculated ...\n",
      "[0.27766666666666667, 0.34966666666666668, 0.39333333333333337, 0.42000000000000004, 0.44633333333333336, 0.46966666666666668, 0.48699999999999999, 0.5086666666666666, 0.53033333333333332, 0.54933333333333334, 0.56500000000000006, 0.57466666666666677, 0.58533333333333348, 0.59633333333333349, 0.60866666666666669]\n",
      "--> awetoolbox_calculated_features/_output_uerctrain_150class/wputamiuerc-awet_lpq_uerc.csv\n",
      "rows: 3000 -  columns: 9216\n",
      "Distances calculated ...\n",
      "[0.29633333333333334, 0.36733333333333335, 0.40933333333333333, 0.44433333333333336, 0.47366666666666668, 0.5, 0.52200000000000002, 0.53933333333333333, 0.55933333333333335, 0.57766666666666666, 0.59199999999999997, 0.60966666666666669, 0.623, 0.63500000000000001, 0.64400000000000002]\n",
      "--> awetoolbox_calculated_features/_output_uerctrain_150class/wputamiuerc-awet_poem_uerc.csv\n",
      "rows: 3000 -  columns: 11328\n",
      "Distances calculated ...\n",
      "[0.35566666666666669, 0.44433333333333336, 0.49000000000000005, 0.52800000000000002, 0.55700000000000005, 0.57933333333333337, 0.60433333333333339, 0.6193333333333334, 0.63366666666666671, 0.64766666666666672, 0.66533333333333344, 0.67600000000000016, 0.68700000000000017, 0.69733333333333347, 0.70800000000000007]\n",
      "--> awetoolbox_calculated_features/_output_uerctrain_150class/wputamiuerc-awet_rilpq_uerc.csv\n",
      "rows: 3000 -  columns: 9216\n",
      "Distances calculated ...\n",
      "[0.30833333333333335, 0.38366666666666671, 0.42766666666666669, 0.46366666666666667, 0.49533333333333335, 0.51666666666666672, 0.53733333333333333, 0.55533333333333335, 0.57133333333333336, 0.58633333333333337, 0.60033333333333339, 0.6130000000000001, 0.62833333333333341, 0.63633333333333342, 0.64833333333333343]\n"
     ]
    }
   ],
   "source": [
    "from glob import glob \n",
    "\n",
    "ufiles = glob(\"awetoolbox_calculated_features/_output_uerctrain_150class/*.csv\")\n",
    "files = sorted(ufiles)\n",
    "\n",
    "for i in range(len(files)):\n",
    "    print(\"--> {}\".format(files[i]))\n",
    "    res = getMetrics(\n",
    "        csvfilename = files[i], \n",
    "        rank = 15,\n",
    "        distance_techinque=2) #cosine distance\n",
    "    print(res)\n"
   ]
  },
  {
   "cell_type": "code",
   "execution_count": null,
   "metadata": {},
   "outputs": [],
   "source": []
  },
  {
   "cell_type": "code",
   "execution_count": 10,
   "metadata": {},
   "outputs": [
    {
     "data": {
      "text/plain": [
       "8"
      ]
     },
     "execution_count": 10,
     "metadata": {},
     "output_type": "execute_result"
    }
   ],
   "source": [
    "len(files)"
   ]
  },
  {
   "cell_type": "code",
   "execution_count": null,
   "metadata": {},
   "outputs": [],
   "source": []
  },
  {
   "cell_type": "code",
   "execution_count": null,
   "metadata": {},
   "outputs": [],
   "source": []
  },
  {
   "cell_type": "code",
   "execution_count": 4,
   "metadata": {},
   "outputs": [
    {
     "name": "stdout",
     "output_type": "stream",
     "text": [
      "rows: 1800 -  columns: 9216\n",
      "Distances calculated ...\n"
     ]
    },
    {
     "data": {
      "text/plain": [
       "[0.15222222222222223]"
      ]
     },
     "execution_count": 4,
     "metadata": {},
     "output_type": "execute_result"
    }
   ],
   "source": [
    "res = getMetrics(\n",
    "    csvfilename = \"awetoolbox_calculated_features/_output_uerctest_180class/uerctest-awet_lpq.csv\", \n",
    "    rank = 1,\n",
    "    distance_techinque=2) #cosine distance\n",
    "res"
   ]
  },
  {
   "cell_type": "code",
   "execution_count": 12,
   "metadata": {},
   "outputs": [
    {
     "name": "stdout",
     "output_type": "stream",
     "text": [
      "rows: 1800 -  columns: 9971\n",
      "Distances calculated ...\n"
     ]
    },
    {
     "data": {
      "text/plain": [
       "[0.13166666666666665]"
      ]
     },
     "execution_count": 12,
     "metadata": {},
     "output_type": "execute_result"
    }
   ],
   "source": [
    "res = getMetrics(\n",
    "    csvfilename = \"awetoolbox_calculated_features/_output_uerctest_180class/uerctest-awet_lbp.csv\", \n",
    "    rank = 1,\n",
    "    distance_techinque=2) #cosine distance\n",
    "res"
   ]
  },
  {
   "cell_type": "code",
   "execution_count": 13,
   "metadata": {},
   "outputs": [
    {
     "name": "stdout",
     "output_type": "stream",
     "text": [
      "rows: 1800 -  columns: 9216\n",
      "Distances calculated ...\n"
     ]
    },
    {
     "data": {
      "text/plain": [
       "[0.15833333333333333]"
      ]
     },
     "execution_count": 13,
     "metadata": {},
     "output_type": "execute_result"
    }
   ],
   "source": [
    "res = getMetrics(\n",
    "    csvfilename = \"awetoolbox_calculated_features/_output_uerctest_180class/uerctest-awet_rilpq.csv\", \n",
    "    rank = 1,\n",
    "    distance_techinque=2) #cosine distance\n",
    "res"
   ]
  },
  {
   "cell_type": "code",
   "execution_count": 4,
   "metadata": {},
   "outputs": [
    {
     "name": "stdout",
     "output_type": "stream",
     "text": [
      "rows: 1800 -  columns: 9216\n",
      "Distances calculated ...\n"
     ]
    },
    {
     "data": {
      "text/plain": [
       "[0.15333333333333332]"
      ]
     },
     "execution_count": 4,
     "metadata": {},
     "output_type": "execute_result"
    }
   ],
   "source": [
    "res = getMetrics(\n",
    "    csvfilename = \"awetoolbox_calculated_features/_output_uerctest_180class/uerctest-awet_bsif.csv\", \n",
    "    rank = 1,\n",
    "    distance_techinque=2) #cosine distance\n",
    "res"
   ]
  },
  {
   "cell_type": "code",
   "execution_count": 5,
   "metadata": {},
   "outputs": [
    {
     "name": "stdout",
     "output_type": "stream",
     "text": [
      "rows: 1800 -  columns: 11328\n",
      "Distances calculated ...\n"
     ]
    },
    {
     "data": {
      "text/plain": [
       "[0.18277777777777779]"
      ]
     },
     "execution_count": 5,
     "metadata": {},
     "output_type": "execute_result"
    }
   ],
   "source": [
    "res = getMetrics(S\n",
    "    csvfilename = \"awetoolbox_calculated_features/_output_uerctest_180class/uerctest-awet_poem.csv\", \n",
    "    rank = 1,\n",
    "    distance_techinque=2) #cosine distance\n",
    "res"
   ]
  },
  {
   "cell_type": "code",
   "execution_count": 6,
   "metadata": {},
   "outputs": [
    {
     "name": "stdout",
     "output_type": "stream",
     "text": [
      "rows: 1800 -  columns: 12800\n",
      "Distances calculated ...\n"
     ]
    },
    {
     "data": {
      "text/plain": [
       "[0.15444444444444444]"
      ]
     },
     "execution_count": 6,
     "metadata": {},
     "output_type": "execute_result"
    }
   ],
   "source": [
    "res = getMetrics(\n",
    "    csvfilename = \"awetoolbox_calculated_features/_output_uerctest_180class/uerctest-awet_dsift.csv\", \n",
    "    rank = 1,\n",
    "    distance_techinque=2) #cosine distance\n",
    "res"
   ]
  },
  {
   "cell_type": "code",
   "execution_count": 7,
   "metadata": {},
   "outputs": [
    {
     "name": "stdout",
     "output_type": "stream",
     "text": [
      "rows: 1800 -  columns: 8712\n",
      "Distances calculated ...\n"
     ]
    },
    {
     "data": {
      "text/plain": [
       "[0.19388888888888889]"
      ]
     },
     "execution_count": 7,
     "metadata": {},
     "output_type": "execute_result"
    }
   ],
   "source": [
    "res = getMetrics(\n",
    "    csvfilename = \"awetoolbox_calculated_features/_output_uerctest_180class/uerctest-awet_hog.csv\", \n",
    "    rank = 1,\n",
    "    distance_techinque=2) #cosine distance\n",
    "res"
   ]
  },
  {
   "cell_type": "code",
   "execution_count": null,
   "metadata": {},
   "outputs": [],
   "source": []
  },
  {
   "cell_type": "code",
   "execution_count": null,
   "metadata": {},
   "outputs": [],
   "source": []
  },
  {
   "cell_type": "code",
   "execution_count": null,
   "metadata": {},
   "outputs": [],
   "source": [
    "pca_reduce(\n",
    "    csvfileTrain = \"vgg16_calculated_features/vgg16_1stage_wputamiawex_750class.csv\", \n",
    "    csvfileTest = \"vgg16_calculated_features/vgg16_1stage_uerc180class.csv\", \n",
    "    components = 512)"
   ]
  },
  {
   "cell_type": "code",
   "execution_count": null,
   "metadata": {},
   "outputs": [],
   "source": [
    "lda_reduce(\n",
    "    csvfileTrain = \"vgg16_calculated_features/vgg16_1stage_wputamiawex_750class.csv\", \n",
    "    csvfileTest = \"vgg16_calculated_features/vgg16_1stage_uerc180class.csv\", \n",
    "    components = 512)"
   ]
  },
  {
   "cell_type": "markdown",
   "metadata": {},
   "source": [
    "## Test"
   ]
  },
  {
   "cell_type": "markdown",
   "metadata": {},
   "source": [
    "### Fusion Two Feature Vectors -> LBP + RILPQ"
   ]
  },
  {
   "cell_type": "code",
   "execution_count": null,
   "metadata": {},
   "outputs": [],
   "source": [
    "calculated_features/awe-awet_lbp.csv -> Rank1:0.407\n",
    "calculated_features/awe-awet_rilpq.csv -> Rank1:0.376\n",
    "    \n",
    "calculated_features/awe-awet_hog.csv -> Rank1:0.445\n",
    "    "
   ]
  },
  {
   "cell_type": "markdown",
   "metadata": {},
   "source": [
    "#### Method 1\n",
    "1: Fusion (concatenation)\n",
    "\n",
    "2: Reduction"
   ]
  },
  {
   "cell_type": "code",
   "execution_count": 54,
   "metadata": {
    "scrolled": true
   },
   "outputs": [
    {
     "name": "stdout",
     "output_type": "stream",
     "text": [
      "calculated_features/awe-awet_lbp.csv - rows: 1000 -  columns: 9971\n",
      "calculated_features/awe-awet_rilpq.csv - rows: 1000 -  columns: 9216\n",
      "fused_feature_vector/lbp_rilpq_conca.csv - rows: 1000 -  columns: 19187\n"
     ]
    }
   ],
   "source": [
    "csvFiles=[\"calculated_features/awe-awet_lbp.csv\", \"calculated_features/awe-awet_rilpq.csv\" ]\n",
    "res = fusionFeatureVectors(csvFiles, 1, \"fused_feature_vector/lbp_rilpq_conca.csv\")"
   ]
  },
  {
   "cell_type": "code",
   "execution_count": 57,
   "metadata": {
    "scrolled": true
   },
   "outputs": [
    {
     "name": "stderr",
     "output_type": "stream",
     "text": [
      "/usr/local/lib/python3.6/dist-packages/sklearn/preprocessing/data.py:323: DataConversionWarning: Data with input dtype int64 were all converted to float64 by MinMaxScaler.\n",
      "  return self.partial_fit(X, y)\n",
      "/usr/local/lib/python3.6/dist-packages/sklearn/discriminant_analysis.py:388: UserWarning: Variables are collinear.\n",
      "  warnings.warn(\"Variables are collinear.\")\n"
     ]
    },
    {
     "name": "stdout",
     "output_type": "stream",
     "text": [
      "New file: fused_feature_vector/lbp_rilpq_conca_redLDA_99.csv\n"
     ]
    }
   ],
   "source": [
    "lda_reduce(\"fused_feature_vector/lbp_rilpq_conca.csv\", 99)"
   ]
  },
  {
   "cell_type": "code",
   "execution_count": 58,
   "metadata": {},
   "outputs": [
    {
     "name": "stdout",
     "output_type": "stream",
     "text": [
      "rows: 1000 -  columns: 99\n",
      "Distances calculated ...\n"
     ]
    },
    {
     "data": {
      "text/plain": [
       "[0.51300000000000001]"
      ]
     },
     "execution_count": 58,
     "metadata": {},
     "output_type": "execute_result"
    }
   ],
   "source": [
    "#cosine distance\n",
    "res = getMetrics(\"fused_feature_vector/lbp_rilpq_conca_redLDA_99.csv\", 1, 2)\n",
    "res"
   ]
  },
  {
   "cell_type": "code",
   "execution_count": null,
   "metadata": {},
   "outputs": [],
   "source": []
  },
  {
   "cell_type": "markdown",
   "metadata": {},
   "source": [
    "#### Method 2\n",
    "1: Reduction\n",
    "\n",
    "2: Fusion (concatenation)"
   ]
  },
  {
   "cell_type": "code",
   "execution_count": 86,
   "metadata": {},
   "outputs": [
    {
     "name": "stderr",
     "output_type": "stream",
     "text": [
      "/usr/local/lib/python3.6/dist-packages/sklearn/preprocessing/data.py:617: DataConversionWarning: Data with input dtype int64 were all converted to float64 by StandardScaler.\n",
      "  return self.partial_fit(X, y)\n",
      "/usr/local/lib/python3.6/dist-packages/sklearn/base.py:462: DataConversionWarning: Data with input dtype int64 were all converted to float64 by StandardScaler.\n",
      "  return self.fit(X, **fit_params).transform(X)\n",
      "/usr/local/lib/python3.6/dist-packages/sklearn/discriminant_analysis.py:388: UserWarning: Variables are collinear.\n",
      "  warnings.warn(\"Variables are collinear.\")\n"
     ]
    },
    {
     "name": "stdout",
     "output_type": "stream",
     "text": [
      "New file: calculated_features/awe-awet_lbp_redLDA_train_99.csv\n"
     ]
    },
    {
     "name": "stderr",
     "output_type": "stream",
     "text": [
      "/usr/local/lib/python3.6/dist-packages/sklearn/preprocessing/data.py:617: DataConversionWarning: Data with input dtype int64 were all converted to float64 by StandardScaler.\n",
      "  return self.partial_fit(X, y)\n",
      "/usr/local/lib/python3.6/dist-packages/sklearn/base.py:462: DataConversionWarning: Data with input dtype int64 were all converted to float64 by StandardScaler.\n",
      "  return self.fit(X, **fit_params).transform(X)\n"
     ]
    },
    {
     "name": "stdout",
     "output_type": "stream",
     "text": [
      "New file: calculated_features/cvle-awet_lbp_redLDA_test_99.csv\n"
     ]
    },
    {
     "name": "stderr",
     "output_type": "stream",
     "text": [
      "/usr/local/lib/python3.6/dist-packages/sklearn/preprocessing/data.py:617: DataConversionWarning: Data with input dtype int64 were all converted to float64 by StandardScaler.\n",
      "  return self.partial_fit(X, y)\n",
      "/usr/local/lib/python3.6/dist-packages/sklearn/base.py:462: DataConversionWarning: Data with input dtype int64 were all converted to float64 by StandardScaler.\n",
      "  return self.fit(X, **fit_params).transform(X)\n",
      "/usr/local/lib/python3.6/dist-packages/sklearn/discriminant_analysis.py:388: UserWarning: Variables are collinear.\n",
      "  warnings.warn(\"Variables are collinear.\")\n"
     ]
    },
    {
     "name": "stdout",
     "output_type": "stream",
     "text": [
      "New file: calculated_features/awe-awet_rilpq_redLDA_train_99.csv\n"
     ]
    },
    {
     "name": "stderr",
     "output_type": "stream",
     "text": [
      "/usr/local/lib/python3.6/dist-packages/sklearn/preprocessing/data.py:617: DataConversionWarning: Data with input dtype int64 were all converted to float64 by StandardScaler.\n",
      "  return self.partial_fit(X, y)\n",
      "/usr/local/lib/python3.6/dist-packages/sklearn/base.py:462: DataConversionWarning: Data with input dtype int64 were all converted to float64 by StandardScaler.\n",
      "  return self.fit(X, **fit_params).transform(X)\n"
     ]
    },
    {
     "name": "stdout",
     "output_type": "stream",
     "text": [
      "New file: calculated_features/cvle-awet_rilpq_redLDA_test_99.csv\n"
     ]
    }
   ],
   "source": [
    "lda_reduce(\"calculated_features/awe-awet_lbp.csv\",\"calculated_features/cvle-awet_lbp.csv\" ,100)\n",
    "lda_reduce(\"calculated_features/awe-awet_rilpq.csv\",\"calculated_features/cvle-awet_rilpq.csv\" ,100)"
   ]
  },
  {
   "cell_type": "code",
   "execution_count": 87,
   "metadata": {},
   "outputs": [
    {
     "name": "stdout",
     "output_type": "stream",
     "text": [
      "calculated_features/cvle-awet_lbp_redLDA_test_99.csv - rows: 281 -  columns: 99\n",
      "calculated_features/cvle-awet_rilpq_redLDA_test_99.csv - rows: 281 -  columns: 99\n",
      "fused_feature_vector/cvle_lbp_rilpq_redLDA99_conca.csv - rows: 281 -  columns: 198\n"
     ]
    }
   ],
   "source": [
    "csvFiles=[\"calculated_features/cvle-awet_lbp_redLDA_test_99.csv\", \n",
    "          \"calculated_features/cvle-awet_rilpq_redLDA_test_99.csv\" ]\n",
    "res = fusionFeatureVectors(csvFiles, 1, \"fused_feature_vector/cvle_lbp_rilpq_redLDA99_conca.csv\")"
   ]
  },
  {
   "cell_type": "code",
   "execution_count": 88,
   "metadata": {},
   "outputs": [
    {
     "name": "stdout",
     "output_type": "stream",
     "text": [
      "rows: 281 -  columns: 198\n",
      "Distances calculated ...\n"
     ]
    },
    {
     "data": {
      "text/plain": [
       "[0.82562277580071175]"
      ]
     },
     "execution_count": 88,
     "metadata": {},
     "output_type": "execute_result"
    }
   ],
   "source": [
    "# cosine distance\n",
    "res = getMetrics(\"fused_feature_vector/cvle_lbp_rilpq_redLDA99_conca.csv\", 1, 2)\n",
    "res"
   ]
  },
  {
   "cell_type": "code",
   "execution_count": null,
   "metadata": {},
   "outputs": [],
   "source": []
  },
  {
   "cell_type": "code",
   "execution_count": 89,
   "metadata": {},
   "outputs": [
    {
     "name": "stderr",
     "output_type": "stream",
     "text": [
      "/usr/local/lib/python3.6/dist-packages/sklearn/preprocessing/data.py:617: DataConversionWarning: Data with input dtype int64 were all converted to float64 by StandardScaler.\n",
      "  return self.partial_fit(X, y)\n",
      "/usr/local/lib/python3.6/dist-packages/sklearn/base.py:462: DataConversionWarning: Data with input dtype int64 were all converted to float64 by StandardScaler.\n",
      "  return self.fit(X, **fit_params).transform(X)\n",
      "/usr/local/lib/python3.6/dist-packages/sklearn/discriminant_analysis.py:388: UserWarning: Variables are collinear.\n",
      "  warnings.warn(\"Variables are collinear.\")\n"
     ]
    },
    {
     "name": "stdout",
     "output_type": "stream",
     "text": [
      "New file: calculated_features/awe-awet_lbp_redLDA_train_99.csv\n"
     ]
    },
    {
     "name": "stderr",
     "output_type": "stream",
     "text": [
      "/usr/local/lib/python3.6/dist-packages/sklearn/preprocessing/data.py:617: DataConversionWarning: Data with input dtype int64 were all converted to float64 by StandardScaler.\n",
      "  return self.partial_fit(X, y)\n",
      "/usr/local/lib/python3.6/dist-packages/sklearn/base.py:462: DataConversionWarning: Data with input dtype int64 were all converted to float64 by StandardScaler.\n",
      "  return self.fit(X, **fit_params).transform(X)\n"
     ]
    },
    {
     "name": "stdout",
     "output_type": "stream",
     "text": [
      "New file: calculated_features/wput-awet_lbp_redLDA_test_99.csv\n"
     ]
    },
    {
     "name": "stderr",
     "output_type": "stream",
     "text": [
      "/usr/local/lib/python3.6/dist-packages/sklearn/preprocessing/data.py:617: DataConversionWarning: Data with input dtype int64 were all converted to float64 by StandardScaler.\n",
      "  return self.partial_fit(X, y)\n",
      "/usr/local/lib/python3.6/dist-packages/sklearn/base.py:462: DataConversionWarning: Data with input dtype int64 were all converted to float64 by StandardScaler.\n",
      "  return self.fit(X, **fit_params).transform(X)\n",
      "/usr/local/lib/python3.6/dist-packages/sklearn/discriminant_analysis.py:388: UserWarning: Variables are collinear.\n",
      "  warnings.warn(\"Variables are collinear.\")\n"
     ]
    },
    {
     "name": "stdout",
     "output_type": "stream",
     "text": [
      "New file: calculated_features/awe-awet_rilpq_redLDA_train_99.csv\n"
     ]
    },
    {
     "name": "stderr",
     "output_type": "stream",
     "text": [
      "/usr/local/lib/python3.6/dist-packages/sklearn/preprocessing/data.py:617: DataConversionWarning: Data with input dtype int64 were all converted to float64 by StandardScaler.\n",
      "  return self.partial_fit(X, y)\n",
      "/usr/local/lib/python3.6/dist-packages/sklearn/base.py:462: DataConversionWarning: Data with input dtype int64 were all converted to float64 by StandardScaler.\n",
      "  return self.fit(X, **fit_params).transform(X)\n"
     ]
    },
    {
     "name": "stdout",
     "output_type": "stream",
     "text": [
      "New file: calculated_features/wput-awet_rilpq_redLDA_test_99.csv\n"
     ]
    }
   ],
   "source": [
    "lda_reduce(\"calculated_features/awe-awet_lbp.csv\",\"calculated_features/wput-awet_lbp.csv\" ,100)\n",
    "lda_reduce(\"calculated_features/awe-awet_rilpq.csv\",\"calculated_features/wput-awet_rilpq.csv\" ,100)"
   ]
  },
  {
   "cell_type": "code",
   "execution_count": 90,
   "metadata": {},
   "outputs": [
    {
     "name": "stdout",
     "output_type": "stream",
     "text": [
      "calculated_features/wput-awet_lbp_redLDA_test_99.csv - rows: 620 -  columns: 99\n",
      "calculated_features/wput-awet_rilpq_redLDA_test_99.csv - rows: 620 -  columns: 99\n",
      "fused_feature_vector/wput_lbp_rilpq_redLDA99_conca.csv - rows: 620 -  columns: 198\n"
     ]
    }
   ],
   "source": [
    "csvFiles=[\"calculated_features/wput-awet_lbp_redLDA_test_99.csv\", \n",
    "          \"calculated_features/wput-awet_rilpq_redLDA_test_99.csv\" ]\n",
    "res = fusionFeatureVectors(csvFiles, 1, \"fused_feature_vector/wput_lbp_rilpq_redLDA99_conca.csv\")"
   ]
  },
  {
   "cell_type": "code",
   "execution_count": 91,
   "metadata": {},
   "outputs": [
    {
     "name": "stdout",
     "output_type": "stream",
     "text": [
      "rows: 620 -  columns: 198\n",
      "Distances calculated ...\n"
     ]
    },
    {
     "data": {
      "text/plain": [
       "[0.28870967741935483]"
      ]
     },
     "execution_count": 91,
     "metadata": {},
     "output_type": "execute_result"
    }
   ],
   "source": [
    "# cosine distance\n",
    "res = getMetrics(\"fused_feature_vector/wput_lbp_rilpq_redLDA99_conca.csv\", 1, 2)\n",
    "res"
   ]
  },
  {
   "cell_type": "code",
   "execution_count": null,
   "metadata": {},
   "outputs": [],
   "source": []
  },
  {
   "cell_type": "code",
   "execution_count": 92,
   "metadata": {},
   "outputs": [
    {
     "name": "stderr",
     "output_type": "stream",
     "text": [
      "/usr/local/lib/python3.6/dist-packages/sklearn/preprocessing/data.py:617: DataConversionWarning: Data with input dtype int64 were all converted to float64 by StandardScaler.\n",
      "  return self.partial_fit(X, y)\n",
      "/usr/local/lib/python3.6/dist-packages/sklearn/base.py:462: DataConversionWarning: Data with input dtype int64 were all converted to float64 by StandardScaler.\n",
      "  return self.fit(X, **fit_params).transform(X)\n",
      "/usr/local/lib/python3.6/dist-packages/sklearn/discriminant_analysis.py:388: UserWarning: Variables are collinear.\n",
      "  warnings.warn(\"Variables are collinear.\")\n"
     ]
    },
    {
     "name": "stdout",
     "output_type": "stream",
     "text": [
      "New file: calculated_features/wput-awet_lbp_redLDA_train_100.csv\n"
     ]
    },
    {
     "name": "stderr",
     "output_type": "stream",
     "text": [
      "/usr/local/lib/python3.6/dist-packages/sklearn/preprocessing/data.py:617: DataConversionWarning: Data with input dtype int64 were all converted to float64 by StandardScaler.\n",
      "  return self.partial_fit(X, y)\n",
      "/usr/local/lib/python3.6/dist-packages/sklearn/base.py:462: DataConversionWarning: Data with input dtype int64 were all converted to float64 by StandardScaler.\n",
      "  return self.fit(X, **fit_params).transform(X)\n"
     ]
    },
    {
     "name": "stdout",
     "output_type": "stream",
     "text": [
      "New file: calculated_features/awe-awet_lbp_redLDA_test_100.csv\n"
     ]
    },
    {
     "name": "stderr",
     "output_type": "stream",
     "text": [
      "/usr/local/lib/python3.6/dist-packages/sklearn/preprocessing/data.py:617: DataConversionWarning: Data with input dtype int64 were all converted to float64 by StandardScaler.\n",
      "  return self.partial_fit(X, y)\n",
      "/usr/local/lib/python3.6/dist-packages/sklearn/base.py:462: DataConversionWarning: Data with input dtype int64 were all converted to float64 by StandardScaler.\n",
      "  return self.fit(X, **fit_params).transform(X)\n",
      "/usr/local/lib/python3.6/dist-packages/sklearn/discriminant_analysis.py:388: UserWarning: Variables are collinear.\n",
      "  warnings.warn(\"Variables are collinear.\")\n"
     ]
    },
    {
     "name": "stdout",
     "output_type": "stream",
     "text": [
      "New file: calculated_features/wput-awet_rilpq_redLDA_train_100.csv\n"
     ]
    },
    {
     "name": "stderr",
     "output_type": "stream",
     "text": [
      "/usr/local/lib/python3.6/dist-packages/sklearn/preprocessing/data.py:617: DataConversionWarning: Data with input dtype int64 were all converted to float64 by StandardScaler.\n",
      "  return self.partial_fit(X, y)\n",
      "/usr/local/lib/python3.6/dist-packages/sklearn/base.py:462: DataConversionWarning: Data with input dtype int64 were all converted to float64 by StandardScaler.\n",
      "  return self.fit(X, **fit_params).transform(X)\n"
     ]
    },
    {
     "name": "stdout",
     "output_type": "stream",
     "text": [
      "New file: calculated_features/awe-awet_rilpq_redLDA_test_100.csv\n"
     ]
    }
   ],
   "source": [
    "lda_reduce(\"calculated_features/wput-awet_lbp.csv\",\"calculated_features/awe-awet_lbp.csv\" ,100)\n",
    "lda_reduce(\"calculated_features/wput-awet_rilpq.csv\",\"calculated_features/awe-awet_rilpq.csv\" ,100)"
   ]
  },
  {
   "cell_type": "code",
   "execution_count": 93,
   "metadata": {},
   "outputs": [
    {
     "name": "stdout",
     "output_type": "stream",
     "text": [
      "calculated_features/awe-awet_lbp_redLDA_test_100.csv - rows: 1000 -  columns: 100\n",
      "calculated_features/awe-awet_rilpq_redLDA_test_100.csv - rows: 1000 -  columns: 100\n",
      "fused_feature_vector/awe_lbp_rilpq_redLDA99_conca.csv - rows: 1000 -  columns: 200\n"
     ]
    }
   ],
   "source": [
    "csvFiles=[\"calculated_features/awe-awet_lbp_redLDA_test_100.csv\", \n",
    "          \"calculated_features/awe-awet_rilpq_redLDA_test_100.csv\" ]\n",
    "res = fusionFeatureVectors(csvFiles, 1, \"fused_feature_vector/awe_lbp_rilpq_redLDA99_conca.csv\")"
   ]
  },
  {
   "cell_type": "code",
   "execution_count": 94,
   "metadata": {},
   "outputs": [
    {
     "name": "stdout",
     "output_type": "stream",
     "text": [
      "rows: 1000 -  columns: 200\n",
      "Distances calculated ...\n"
     ]
    },
    {
     "data": {
      "text/plain": [
       "[0.28199999999999997]"
      ]
     },
     "execution_count": 94,
     "metadata": {},
     "output_type": "execute_result"
    }
   ],
   "source": [
    "# cosine distance\n",
    "res = getMetrics(\"fused_feature_vector/awe_lbp_rilpq_redLDA99_conca.csv\", 1, 2)\n",
    "res"
   ]
  },
  {
   "cell_type": "code",
   "execution_count": null,
   "metadata": {},
   "outputs": [],
   "source": []
  },
  {
   "cell_type": "code",
   "execution_count": 59,
   "metadata": {},
   "outputs": [
    {
     "name": "stdout",
     "output_type": "stream",
     "text": [
      "calculated_features/awe-awet_lbp_redLDA_99.csv - rows: 1000 -  columns: 99\n",
      "calculated_features/awe-awet_rilpq_redLDA_99.csv - rows: 1000 -  columns: 99\n",
      "fused_feature_vector/lbp_rilpq_redLDA99_conca.csv - rows: 1000 -  columns: 198\n"
     ]
    }
   ],
   "source": [
    "csvFiles=[\"calculated_features/awe-awet_lbp_redLDA_99.csv\", \"calculated_features/awe-awet_rilpq_redLDA_99.csv\" ]\n",
    "res = fusionFeatureVectors(csvFiles, 1, \"fused_feature_vector/lbp_rilpq_redLDA99_conca.csv\")"
   ]
  },
  {
   "cell_type": "code",
   "execution_count": 60,
   "metadata": {},
   "outputs": [
    {
     "name": "stdout",
     "output_type": "stream",
     "text": [
      "rows: 1000 -  columns: 198\n",
      "Distances calculated ...\n"
     ]
    },
    {
     "data": {
      "text/plain": [
       "[0.85599999999999998]"
      ]
     },
     "execution_count": 60,
     "metadata": {},
     "output_type": "execute_result"
    }
   ],
   "source": [
    "# cosine distance\n",
    "res = getMetrics(\"fused_feature_vector/lbp_rilpq_redLDA99_conca.csv\", 1, 2)\n",
    "res"
   ]
  },
  {
   "cell_type": "code",
   "execution_count": 68,
   "metadata": {},
   "outputs": [
    {
     "name": "stdout",
     "output_type": "stream",
     "text": [
      "calculated_features/awe-awet_lbp_redLDA_99.csv - rows: 1000 -  columns: 99\n",
      "calculated_features/awe-awet_rilpq_redLDA_99.csv - rows: 1000 -  columns: 99\n",
      "calculated_features/awe-awet_hog_redLDA_99.csv - rows: 1000 -  columns: 99\n",
      "fused_feature_vector/lbp_rilpq_hog_redLDA99_conca.csv - rows: 1000 -  columns: 297\n"
     ]
    }
   ],
   "source": [
    "csvFiles=[\"calculated_features/awe-awet_lbp_redLDA_99.csv\", \n",
    "          \"calculated_features/awe-awet_rilpq_redLDA_99.csv\", \n",
    "          \"calculated_features/awe-awet_hog_redLDA_99.csv\"]\n",
    "res = fusionFeatureVectors(csvFiles, 1, \"fused_feature_vector/lbp_rilpq_hog_redLDA99_conca.csv\")"
   ]
  },
  {
   "cell_type": "code",
   "execution_count": 69,
   "metadata": {},
   "outputs": [
    {
     "name": "stdout",
     "output_type": "stream",
     "text": [
      "rows: 1000 -  columns: 297\n",
      "Distances calculated ...\n"
     ]
    },
    {
     "data": {
      "text/plain": [
       "[0.99299999999999999]"
      ]
     },
     "execution_count": 69,
     "metadata": {},
     "output_type": "execute_result"
    }
   ],
   "source": [
    "# cosine distance\n",
    "res = getMetrics(\"fused_feature_vector/lbp_rilpq_hog_redLDA99_conca.csv\", 1, 2)\n",
    "res"
   ]
  },
  {
   "cell_type": "markdown",
   "metadata": {},
   "source": [
    "#### Method 2.1\n",
    "1: Reduction\n",
    "\n",
    "2: Fusion (sum)"
   ]
  },
  {
   "cell_type": "code",
   "execution_count": 62,
   "metadata": {},
   "outputs": [
    {
     "name": "stdout",
     "output_type": "stream",
     "text": [
      "calculated_features/awe-awet_lbp_redLDA_99.csv - rows: 1000 -  columns: 99\n",
      "calculated_features/awe-awet_rilpq_redLDA_99.csv - rows: 1000 -  columns: 99\n",
      "fused_feature_vector/lbp_rilpq_redLDA99_sum.csv - rows: 1000 -  columns: 99\n"
     ]
    }
   ],
   "source": [
    "csvFiles=[\"calculated_features/awe-awet_lbp_redLDA_99.csv\", \"calculated_features/awe-awet_rilpq_redLDA_99.csv\" ]\n",
    "res = fusionFeatureVectors(csvFiles, 2, \"fused_feature_vector/lbp_rilpq_redLDA99_sum.csv\")"
   ]
  },
  {
   "cell_type": "code",
   "execution_count": 64,
   "metadata": {},
   "outputs": [
    {
     "name": "stdout",
     "output_type": "stream",
     "text": [
      "rows: 1000 -  columns: 99\n",
      "Distances calculated ...\n"
     ]
    },
    {
     "data": {
      "text/plain": [
       "[0.72199999999999998]"
      ]
     },
     "execution_count": 64,
     "metadata": {},
     "output_type": "execute_result"
    }
   ],
   "source": [
    "# cosine distance\n",
    "res = getMetrics(\"fused_feature_vector/lbp_rilpq_redLDA99_sum.csv\", 1, 2)\n",
    "res"
   ]
  },
  {
   "cell_type": "markdown",
   "metadata": {},
   "source": [
    "#### Method 2.2\n",
    "1: Reduction\n",
    "\n",
    "2: Fusion (max)"
   ]
  },
  {
   "cell_type": "code",
   "execution_count": 66,
   "metadata": {},
   "outputs": [
    {
     "name": "stdout",
     "output_type": "stream",
     "text": [
      "calculated_features/awe-awet_lbp_redLDA_99.csv - rows: 1000 -  columns: 99\n",
      "calculated_features/awe-awet_rilpq_redLDA_99.csv - rows: 1000 -  columns: 99\n",
      "fused_feature_vector/lbp_rilpq_redLDA99_max.csv - rows: 1000 -  columns: 99\n"
     ]
    }
   ],
   "source": [
    "csvFiles=[\"calculated_features/awe-awet_lbp_redLDA_99.csv\", \"calculated_features/awe-awet_rilpq_redLDA_99.csv\" ]\n",
    "res = fusionFeatureVectors(csvFiles, 3, \"fused_feature_vector/lbp_rilpq_redLDA99_max.csv\")"
   ]
  },
  {
   "cell_type": "code",
   "execution_count": 67,
   "metadata": {},
   "outputs": [
    {
     "name": "stdout",
     "output_type": "stream",
     "text": [
      "rows: 1000 -  columns: 99\n",
      "Distances calculated ...\n"
     ]
    },
    {
     "data": {
      "text/plain": [
       "[0.57299999999999995]"
      ]
     },
     "execution_count": 67,
     "metadata": {},
     "output_type": "execute_result"
    }
   ],
   "source": [
    "# cosine distance\n",
    "res = getMetrics(\"fused_feature_vector/lbp_rilpq_redLDA99_max.csv\", 1, 2)\n",
    "res"
   ]
  },
  {
   "cell_type": "code",
   "execution_count": null,
   "metadata": {},
   "outputs": [],
   "source": []
  },
  {
   "cell_type": "code",
   "execution_count": null,
   "metadata": {},
   "outputs": [],
   "source": []
  },
  {
   "cell_type": "code",
   "execution_count": 36,
   "metadata": {},
   "outputs": [
    {
     "name": "stdout",
     "output_type": "stream",
     "text": [
      "calculated_features/awe-awet_lbp_redLDA_99.csv - rows: 1000 -  columns: 99\n",
      "calculated_features/awe-awet_rilpq_redLDA_99.csv - rows: 1000 -  columns: 99\n",
      "fused_feature_vector/lbp_rilpq_redLDA99_sum.csv - rows: 1000 -  columns: 99\n"
     ]
    }
   ],
   "source": [
    "csvFiles=[\"calculated_features/awe-awet_lbp_redLDA_99.csv\", \"calculated_features/awe-awet_rilpq_redLDA_99.csv\" ]\n",
    "res = fusionFeatureVectors(csvFiles, 2, \"fused_feature_vector/lbp_rilpq_redLDA99_sum.csv\")"
   ]
  },
  {
   "cell_type": "code",
   "execution_count": 42,
   "metadata": {},
   "outputs": [
    {
     "name": "stdout",
     "output_type": "stream",
     "text": [
      "calculated_features/awe-awet_lbp_redLDA_99.csv - rows: 1000 -  columns: 99\n",
      "calculated_features/awe-awet_rilpq_redLDA_99.csv - rows: 1000 -  columns: 99\n",
      "fused_feature_vector/lbp_rilpq_redLDA99_max.csv - rows: 1000 -  columns: 99\n"
     ]
    }
   ],
   "source": [
    "csvFiles=[\"calculated_features/awe-awet_lbp_redLDA_99.csv\", \"calculated_features/awe-awet_rilpq_redLDA_99.csv\" ]\n",
    "res = fusionFeatureVectors(csvFiles, 3, \"fused_feature_vector/lbp_rilpq_redLDA99_max.csv\")"
   ]
  },
  {
   "cell_type": "code",
   "execution_count": 47,
   "metadata": {
    "scrolled": true
   },
   "outputs": [
    {
     "name": "stderr",
     "output_type": "stream",
     "text": [
      "/usr/local/lib/python3.6/dist-packages/sklearn/preprocessing/data.py:323: DataConversionWarning: Data with input dtype int64 were all converted to float64 by MinMaxScaler.\n",
      "  return self.partial_fit(X, y)\n"
     ]
    }
   ],
   "source": [
    "pca_reduce(\"fused_feature_vector/lbp_rilpq.csv\", 1000)"
   ]
  },
  {
   "cell_type": "markdown",
   "metadata": {},
   "source": [
    "## Distances"
   ]
  },
  {
   "cell_type": "code",
   "execution_count": 45,
   "metadata": {},
   "outputs": [
    {
     "name": "stdout",
     "output_type": "stream",
     "text": [
      "rows: 1000 -  columns: 99\n"
     ]
    },
    {
     "name": "stderr",
     "output_type": "stream",
     "text": [
      "/usr/local/lib/python3.6/dist-packages/ipykernel_launcher.py:6: RuntimeWarning: invalid value encountered in sqrt\n",
      "  \n"
     ]
    },
    {
     "name": "stdout",
     "output_type": "stream",
     "text": [
      "Distances calculated ...\n"
     ]
    },
    {
     "data": {
      "text/plain": [
       "[0.0089999999999999993]"
      ]
     },
     "execution_count": 45,
     "metadata": {},
     "output_type": "execute_result"
    }
   ],
   "source": [
    "res = getMetrics(\"fused_feature_vector/lbp_rilpq_redLDA_99.csv\", 1, 1)\n",
    "res"
   ]
  },
  {
   "cell_type": "code",
   "execution_count": 48,
   "metadata": {},
   "outputs": [
    {
     "name": "stdout",
     "output_type": "stream",
     "text": [
      "rows: 1000 -  columns: 99\n",
      "Distances calculated ...\n"
     ]
    },
    {
     "data": {
      "text/plain": [
       "[0.33500000000000002]"
      ]
     },
     "execution_count": 48,
     "metadata": {},
     "output_type": "execute_result"
    }
   ],
   "source": [
    "res = getMetrics(\"fused_feature_vector/lbp_rilpq_redLDA_99.csv\", 1, 3)\n",
    "res"
   ]
  },
  {
   "cell_type": "code",
   "execution_count": null,
   "metadata": {},
   "outputs": [],
   "source": []
  },
  {
   "cell_type": "code",
   "execution_count": null,
   "metadata": {},
   "outputs": [],
   "source": [
    "from glob import glob\n",
    "\n",
    "files = glob('calculated_features/*.csv')\n",
    "for f in files:\n",
    "    pca_reduce(f,1000)\n",
    "    lda_reduce(f,100)"
   ]
  }
 ],
 "metadata": {
  "kernelspec": {
   "display_name": "Python 3",
   "language": "python",
   "name": "python3"
  },
  "language_info": {
   "codemirror_mode": {
    "name": "ipython",
    "version": 3
   },
   "file_extension": ".py",
   "mimetype": "text/x-python",
   "name": "python",
   "nbconvert_exporter": "python",
   "pygments_lexer": "ipython3",
   "version": "3.6.8"
  }
 },
 "nbformat": 4,
 "nbformat_minor": 2
}
